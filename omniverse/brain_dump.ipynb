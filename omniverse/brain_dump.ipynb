{
 "cells": [
  {
   "cell_type": "code",
   "execution_count": 6,
   "metadata": {},
   "outputs": [],
   "source": [
    "from rich.pretty import pprint\n",
    "from typing import List, Dict, Any, Optional"
   ]
  },
  {
   "cell_type": "markdown",
   "metadata": {},
   "source": [
    "## Playbook: What is Softmax and Derivatives\n",
    "\n",
    "WIKIPEDIA\n",
    "\n",
    "---\n",
    "\n",
    "The softmax function takes as input a vector $z$ of $K$ real numbers, and\n",
    "normalizes it into a probability distribution consisting of $K$ probabilities\n",
    "proportional to the exponentials of the input numbers. That is, prior to\n",
    "applying softmax, some vector components could be negative, or greater than one;\n",
    "and might not sum to 1 ; but after applying softmax, each component will be in\n",
    "the interval $(0,1)$, and the components will add up to 1 , so that they can be\n",
    "interpreted as probabilities. Furthermore, the larger input components will\n",
    "correspond to larger probabilities.\n",
    "\n",
    "For a vector $z$ of $K$ real numbers, the standard (unit) softmax function\n",
    "$\\sigma: \\mathbb{R}^K \\mapsto(0,1)^K$, where $K \\geq 1$, is defined by the\n",
    "formula\n",
    "\n",
    "$$\n",
    "\\sigma(\\mathbf{z})_i=\\frac{e^{z_i}}{\\sum_{j=1}^K e^{z_j}} \\text { for } i=1, \\ldots, K \\text { and } \\mathbf{z}=\\left(z_1, \\ldots, z_K\\right) \\in \\mathbb{R}^K\n",
    "$$\n",
    "\n",
    "In words, the softmax applies the standard exponential function to each element\n",
    "$z_i$ of the input vector $\\mathbf{z}$ and normalizes these values by dividing\n",
    "by the sum of all these exponentials. The normalization ensures that the sum of\n",
    "the components of the output vector $\\sigma(\\mathbf{z})$ is 1 . The term\n",
    "\"softmax\" derives from the amplifying effects of the exponential on any maxima\n",
    "in the input vector. For example, the standard softmax of $(1,2,8)$ is\n",
    "approximately $(0.001,0.002,0.997)$, which amounts to assigning almost all of\n",
    "the total unit weight in the result to the position of the vector's maximal\n",
    "element (of 8 ).\n",
    "\n",
    "In general, instead of $e$ a different base $\\mathrm{b}>0$ can be used. If\n",
    "$0<\\mathrm{b}<1$, smaller input components will result in larger output\n",
    "probabilities, and decreasing the value of $b$ will create probability\n",
    "distributions that are more concentrated around the positions of the smallest\n",
    "input values. Conversely, as above, if $b>1$ larger input components will result\n",
    "in larger output probabilities, and increasing the value of $b$ will create\n",
    "probability distributions that are more concentrated around the positions of the\n",
    "largest input values. Writing $b=e^\\beta$ or $b=e^{-\\beta[\\mathrm{a}]}$ (for\n",
    "real $\\left.\\beta\\right)^{[\\mathrm{b}]}$ yields the expressions:[c]\n",
    "\n",
    "$$\n",
    "\\sigma(\\mathbf{z})_i=\\frac{e^{\\beta z_i}}{\\sum_{j=1}^K e^{\\beta z_j}} \\text { or } \\sigma(\\mathbf{z})_i=\\frac{e^{-\\beta z_i}}{\\sum_{j=1}^K e^{-\\beta z_j}} \\text { for } i=1, \\ldots, K\n",
    "$$\n",
    "\n",
    "The reciprocal of $\\beta$ is sometimes referred to as the temperature,\n",
    "$T=1 / \\beta$, with $b=e^{1 / T}$. A higher temperature results in a more\n",
    "uniform output distribution (i.e. with higher entropy, and \"more random\"), while\n",
    "a lower temperature results in a sharper output distribution, with one value\n",
    "dominating.\n",
    "\n",
    "In some fields, the base is fixed, corresponding to a fixed scale,\n",
    "${ }^{[\\mathrm{d}]}$ while in others the parameter $\\beta$ is varied.\n",
    "\n",
    "---"
   ]
  },
  {
   "cell_type": "code",
   "execution_count": 12,
   "metadata": {},
   "outputs": [
    {
     "name": "stdout",
     "output_type": "stream",
     "text": [
      "PyTorch Softmax Output: tensor([[0.0393, 0.1047, 0.0203, 0.2252, 0.1916, 0.0316, 0.2273, 0.0504, 0.0689,\n",
      "         0.0407],\n",
      "        [0.0243, 0.1802, 0.0876, 0.0895, 0.0414, 0.2126, 0.0688, 0.1057, 0.0289,\n",
      "         0.1609],\n",
      "        [0.0810, 0.0504, 0.5742, 0.0125, 0.0262, 0.0354, 0.0215, 0.0781, 0.0460,\n",
      "         0.0747],\n",
      "        [0.0301, 0.0559, 0.1491, 0.0595, 0.0328, 0.0501, 0.0416, 0.0215, 0.5511,\n",
      "         0.0084],\n",
      "        [0.0897, 0.0261, 0.4708, 0.0324, 0.0238, 0.1313, 0.0585, 0.0703, 0.0391,\n",
      "         0.0581]])\n"
     ]
    }
   ],
   "source": [
    "from torch import nn\n",
    "import torch\n",
    "import torch.nn.functional as F\n",
    "\n",
    "class Softmax:\n",
    "    \"\"\"\n",
    "    Softmax activation function.\n",
    "    \"\"\"\n",
    "\n",
    "    def __call__(self, z: torch.Tensor) -> torch.Tensor:\n",
    "        \"\"\"\n",
    "        Compute the softmax function for a given input.\n",
    "        \"\"\"\n",
    "        numerator = torch.exp(z)\n",
    "        denominator = torch.sum(numerator, dim=1, keepdim=True)\n",
    "        g = numerator / denominator\n",
    "        return g\n",
    "\n",
    "    def gradient(self, z: torch.Tensor) -> torch.Tensor:\n",
    "        \"\"\"\n",
    "        Compute the derivative of the softmax function with respect to its input.\n",
    "        \"\"\"\n",
    "        g = self.__call__(z)\n",
    "        g = g.unsqueeze(-1)  # add an extra dimension\n",
    "        eye = torch.eye(g.shape[1], device=z.device)[None, :]  # identity matrix\n",
    "        dg_dz = g * (eye - g)\n",
    "        return dg_dz.sum(dim=1)\n",
    "\n",
    "\n",
    "# Create a sample input tensor\n",
    "z = torch.randn(5, 10)  # Batch size of 5, 10 features\n",
    "\n",
    "\n",
    "\n",
    "# Compare the results\n",
    "print(\"PyTorch Softmax Output:\", pytorch_softmax_outputs)\n"
   ]
  },
  {
   "cell_type": "code",
   "execution_count": null,
   "metadata": {},
   "outputs": [],
   "source": [
    "z = torch.randn((2, 5), requires_grad=True)\n",
    "pytorch_softmax = nn.Softmax(dim=1)\n",
    "pytorch_softmax_outputs = pytorch_softmax(z)\n"
   ]
  },
  {
   "cell_type": "code",
   "execution_count": 13,
   "metadata": {},
   "outputs": [
    {
     "name": "stdout",
     "output_type": "stream",
     "text": [
      "Gradients via PyTorch's autograd:\n",
      "tensor([[-0.0172,  0.0806,  0.0072, -0.0803,  0.0096],\n",
      "        [ 0.0730,  0.0435, -0.0768, -0.0686,  0.0288]])\n",
      "\n",
      "Manual gradient computation currently doesn't integrate directly with autograd; needs adjustment.\n"
     ]
    }
   ],
   "source": [
    "# Create a sample input tensor\n",
    "\n",
    "# Use PyTorch's softmax and calculate gradients with respect to z\n",
    "output_torch = F.softmax(z, dim=1)\n",
    "loss_torch = output_torch.log().mean()  # Example loss for gradient calculation\n",
    "loss_torch.backward()\n",
    "\n",
    "# Gradients obtained via PyTorch\n",
    "gradients_torch = z.grad.data\n",
    "\n",
    "# Reset gradients in z for custom gradient computation\n",
    "z.grad = None\n",
    "\n",
    "# Compute softmax using custom function and calculate custom gradients\n",
    "softmax = Softmax()\n",
    "output_custom = softmax(z)\n",
    "# For custom gradient calculation, we need an illustrative \"loss\" since gradients are usually\n",
    "# calculated in the context of some scalar output. Here, we mimic a simple operation as a stand-in for loss.\n",
    "loss_custom = output_custom.log().mean()\n",
    "loss_custom.backward()\n",
    "\n",
    "# Assuming custom gradient computation inside the backward method of a custom autograd function,\n",
    "# here we manually compute it for comparison, which isn't directly applicable as is.\n",
    "# gradients_custom = softmax.gradient(z)  # This line was proposed, but doesn't fit directly into the autograd framework as is.\n",
    "\n",
    "# Print both gradients for comparison\n",
    "print(\"Gradients via PyTorch's autograd:\")\n",
    "print(gradients_torch)\n",
    "print(\"\\nManual gradient computation currently doesn't integrate directly with autograd; needs adjustment.\")\n",
    "# Print the manually computed gradients for educational purposes, if applicable\n",
    "# print(\"\\nCustom computed gradients (for illustration, not directly comparable):\")\n",
    "# print(gradients_custom)"
   ]
  },
  {
   "cell_type": "code",
   "execution_count": 10,
   "metadata": {},
   "outputs": [
    {
     "name": "stdout",
     "output_type": "stream",
     "text": [
      "PyTorch Softmax Gradient: tensor([[-4.3086e-08, -5.9735e-09, -1.9813e-08, -2.2872e-08, -3.0181e-09,\n",
      "         -5.1731e-08, -3.5311e-08, -1.6718e-08, -3.0283e-08, -9.6135e-09],\n",
      "        [ 2.3789e-09,  8.6295e-09,  1.4517e-09,  1.9518e-08,  5.1734e-09,\n",
      "          1.1618e-09,  1.5833e-08,  3.6878e-08,  1.0539e-08,  1.7647e-08],\n",
      "        [ 0.0000e+00,  0.0000e+00,  0.0000e+00,  0.0000e+00,  0.0000e+00,\n",
      "          0.0000e+00,  0.0000e+00,  0.0000e+00,  0.0000e+00,  0.0000e+00],\n",
      "        [ 0.0000e+00,  0.0000e+00,  0.0000e+00,  0.0000e+00,  0.0000e+00,\n",
      "          0.0000e+00,  0.0000e+00,  0.0000e+00,  0.0000e+00,  0.0000e+00],\n",
      "        [ 0.0000e+00,  0.0000e+00,  0.0000e+00,  0.0000e+00,  0.0000e+00,\n",
      "          0.0000e+00,  0.0000e+00,  0.0000e+00,  0.0000e+00,  0.0000e+00]])\n"
     ]
    }
   ],
   "source": [
    "# get gradients of nn.Softmax\n",
    "\n",
    "z.requires_grad = True\n",
    "z.retain_grad()\n",
    "pytorch_softmax_outputs = pytorch_softmax(z)\n",
    "pytorch_softmax_outputs.sum().backward()\n",
    "print(\"PyTorch Softmax Gradient:\", z.grad)"
   ]
  },
  {
   "cell_type": "code",
   "execution_count": 7,
   "metadata": {},
   "outputs": [
    {
     "name": "stdout",
     "output_type": "stream",
     "text": [
      "Custom Softmax Output: tensor([[0.1807, 0.0251, 0.0831, 0.0959, 0.0127, 0.2170, 0.1481, 0.0701, 0.1270,\n",
      "         0.0403],\n",
      "        [0.0200, 0.0724, 0.0122, 0.1637, 0.0434, 0.0097, 0.1328, 0.3094, 0.0884,\n",
      "         0.1480],\n",
      "        [0.2308, 0.1091, 0.0899, 0.0602, 0.1257, 0.0426, 0.0202, 0.0306, 0.1937,\n",
      "         0.0972],\n",
      "        [0.0800, 0.0191, 0.0798, 0.0291, 0.0149, 0.0273, 0.2551, 0.0710, 0.0156,\n",
      "         0.4081],\n",
      "        [0.0312, 0.1400, 0.0057, 0.0685, 0.0484, 0.1182, 0.1219, 0.1737, 0.0918,\n",
      "         0.2006]], grad_fn=<DivBackward0>)\n",
      "Are the outputs close? True\n"
     ]
    }
   ],
   "source": [
    "# Compute the softmax using the custom implementation and PyTorch's implementation\n",
    "my_softmax = Softmax()\n",
    "my_softmax_outputs = Softmax()(z)\n",
    "\n",
    "print(\"Custom Softmax Output:\", my_softmax_outputs)\n",
    "print(\"Are the outputs close?\", torch.allclose(my_softmax_outputs, pytorch_softmax_outputs))"
   ]
  },
  {
   "cell_type": "code",
   "execution_count": 8,
   "metadata": {},
   "outputs": [
    {
     "data": {
      "text/plain": [
       "tensor([[ 0.0395, -0.1162, -0.0581, -0.0453, -0.1286,  0.0757,  0.0069, -0.0711,\n",
       "         -0.0142, -0.1009],\n",
       "        [-0.1577, -0.1052, -0.1655, -0.0139, -0.1342, -0.1679, -0.0448,  0.1317,\n",
       "         -0.0892, -0.0296],\n",
       "        [ 0.0880, -0.0337, -0.0529, -0.0826, -0.0171, -0.1002, -0.1225, -0.1121,\n",
       "          0.0509, -0.0456],\n",
       "        [-0.1719, -0.2328, -0.1720, -0.2228, -0.2369, -0.2246,  0.0033, -0.1809,\n",
       "         -0.2363,  0.1562],\n",
       "        [-0.1041,  0.0046, -0.1296, -0.0668, -0.0869, -0.0171, -0.0134,  0.0384,\n",
       "         -0.0435,  0.0653]], grad_fn=<SumBackward1>)"
      ]
     },
     "execution_count": 8,
     "metadata": {},
     "output_type": "execute_result"
    }
   ],
   "source": [
    "my_softmax.gradient(z)"
   ]
  },
  {
   "cell_type": "markdown",
   "metadata": {},
   "source": [
    "## Sampling Generation\n",
    "\n",
    "### Order Preservation in Softmax\n",
    "\n",
    "The softmax function, defined as\n",
    "\n",
    "$$\\text{softmax}(z_i) = \\frac{e^{z_i}}{\\sum_{j} e^{z_j}}$$\n",
    "\n",
    "converts a vector of real-valued logits $[z_1, z_2, \\ldots, z_n]$ into a\n",
    "probability distribution $[p_1, p_2, \\ldots, p_n]$, where each $p_i$ represents\n",
    "the probability of the $i$th class. The key properties of softmax include:\n",
    "\n",
    "-   **Order Preservation**: The softmax function preserves the order of logits.\n",
    "    If a logit $z_a$ is greater than $z_b$ before applying softmax, the\n",
    "    resulting probability $p_a$ will also be greater than $p_b$. This means that\n",
    "    the relative ranking of logits is maintained in the probability\n",
    "    distribution.\n",
    "-   **Normalization**: The output probabilities sum up to 1, making it a valid\n",
    "    probability distribution.\n",
    "\n",
    "### Sharpness of Softmax Distribution\n",
    "\n",
    "When introducing temperature $T$ into the softmax function:\n",
    "\n",
    "$$\\text{softmax}_T(z_i) = \\frac{e^{z_i / T}}{\\sum_{j} e^{z_j / T}}$$\n",
    "\n",
    "the temperature modifies the \"sharpness\" of the probability distribution without\n",
    "altering the order of the probabilities:\n",
    "\n",
    "-   **At high temperatures** ($T > 1$), the distribution becomes more uniform,\n",
    "    but if $z_a > z_b$, then $\\text{softmax}_T(z_a) > \\text{softmax}_T(z_b)$\n",
    "    still holds. The probabilities become closer to each other, making the\n",
    "    choice more \"random\" or \"equally likely\" among options, but the ranking\n",
    "    remains the same.\n",
    "\n",
    "-   **At low temperatures** ($T < 1$), the distribution becomes sharper, with a\n",
    "    more pronounced difference between the higher and lower probabilities,\n",
    "    amplifying the differences in likelihood as determined by the logits. The\n",
    "    probability of the largest logit increases towards 1, while others decrease\n",
    "    towards 0. Yet, the order of logits is preserved—higher logits translate to\n",
    "    higher probabilities.\n",
    "\n",
    "### Multinomial\n",
    "\n",
    "In multinomial (or probabilistic) sampling, the model samples from the entire\n",
    "probability distribution obtained after applying softmax:\n",
    "\n",
    "At higher temperatures, the probability distribution becomes more uniform,\n",
    "increasing the likelihood of sampling less probable tokens, thereby introducing\n",
    "more randomness or diversity into the selection process. At lower temperatures,\n",
    "the distribution becomes sharper, concentrating most of the probability mass on\n",
    "a few high-probability tokens. This makes the selection less random and more\n",
    "predictable, closely aligning with the greedy selection outcome but still\n",
    "allowing for some variability.\n",
    "\n",
    "KEY is to understand multinomial in the sampling.\n",
    "\n",
    "### Greedy vs Probabilistic sampling\n",
    "\n",
    "If your model employs a greedy strategy for selecting tokens (e.g., always\n",
    "choosing the token with the highest probability), then adjusting the temperature\n",
    "won't change the selected token. This approach is common in tasks where\n",
    "precision is critical, and the aim is to reduce randomness to a minimum, such as\n",
    "in certain classification tasks or when generating text where maximum coherence\n",
    "is desired."
   ]
  },
  {
   "cell_type": "code",
   "execution_count": 10,
   "metadata": {},
   "outputs": [],
   "source": [
    "import torch\n",
    "from typing import List\n",
    "from rich.pretty import pprint"
   ]
  },
  {
   "cell_type": "code",
   "execution_count": 3,
   "metadata": {},
   "outputs": [],
   "source": [
    "def demonstrate_multinomial_sampling_effect(logits: torch.Tensor, temperatures: List[float], epsilon: float = 1e-8):\n",
    "    \"\"\"\n",
    "    Demonstrates the effect of temperature on multinomial sampling from the softmax distribution.\n",
    "\n",
    "    Args:\n",
    "        logits (torch.Tensor): The input logits.\n",
    "        temperatures (list): A list of temperatures to apply.\n",
    "        num_samples (int): The number of samples to draw from the distribution.\n",
    "\n",
    "    Returns:\n",
    "        dict: A dictionary mapping each temperature to its corresponding sampled outcomes.\n",
    "    \"\"\"\n",
    "    softmax_results = {}\n",
    "    sampling_results = {}\n",
    "    for temperature in temperatures:\n",
    "        scaled_logits = logits / (temperature + epsilon)  # Scale logits by temperature\n",
    "        probs = torch.softmax(scaled_logits, dim=-1)  # Apply softmax to scaled logits\n",
    "        samples = torch.multinomial(probs, num_samples=1, replacement=False)\n",
    "        softmax_results[temperature] = probs.numpy()\n",
    "        sampling_results[temperature] = samples.numpy()\n",
    "    return softmax_results, sampling_results"
   ]
  },
  {
   "cell_type": "markdown",
   "metadata": {},
   "source": [
    "1 - preserve order show it in code\n",
    "2 - sample more times to show effect - distribution count for each "
   ]
  },
  {
   "cell_type": "code",
   "execution_count": 16,
   "metadata": {},
   "outputs": [
    {
     "data": {
      "text/html": [
       "<pre style=\"white-space:pre;overflow-x:auto;line-height:normal;font-family:Menlo,'DejaVu Sans Mono',consolas,'Courier New',monospace\"><span style=\"font-weight: bold\">{</span>\n",
       "<span style=\"color: #7fbf7f; text-decoration-color: #7fbf7f\">│   </span><span style=\"color: #008080; text-decoration-color: #008080; font-weight: bold\">0.1</span>: <span style=\"color: #800080; text-decoration-color: #800080; font-weight: bold\">array</span><span style=\"font-weight: bold\">([</span><span style=\"color: #008080; text-decoration-color: #008080; font-weight: bold\">1.9286696e-22</span>, <span style=\"color: #008080; text-decoration-color: #008080; font-weight: bold\">4.2481610e-18</span>, <span style=\"color: #008080; text-decoration-color: #008080; font-weight: bold\">9.3572157e-14</span>, <span style=\"color: #008080; text-decoration-color: #008080; font-weight: bold\">2.0610600e-09</span>,\n",
       "<span style=\"color: #7fbf7f; text-decoration-color: #7fbf7f\">│      </span><span style=\"color: #008080; text-decoration-color: #008080; font-weight: bold\">4.5397868e-05</span>, <span style=\"color: #008080; text-decoration-color: #008080; font-weight: bold\">9.9995458e-01</span><span style=\"font-weight: bold\">]</span>, <span style=\"color: #808000; text-decoration-color: #808000\">dtype</span>=<span style=\"color: #800080; text-decoration-color: #800080\">float32</span><span style=\"font-weight: bold\">)</span>,\n",
       "<span style=\"color: #7fbf7f; text-decoration-color: #7fbf7f\">│   </span><span style=\"color: #008080; text-decoration-color: #008080; font-weight: bold\">1.0</span>: <span style=\"color: #800080; text-decoration-color: #800080; font-weight: bold\">array</span><span style=\"font-weight: bold\">([</span><span style=\"color: #008080; text-decoration-color: #008080; font-weight: bold\">0.00426978</span>, <span style=\"color: #008080; text-decoration-color: #008080; font-weight: bold\">0.01160646</span>, <span style=\"color: #008080; text-decoration-color: #008080; font-weight: bold\">0.03154963</span>, <span style=\"color: #008080; text-decoration-color: #008080; font-weight: bold\">0.08576079</span>, <span style=\"color: #008080; text-decoration-color: #008080; font-weight: bold\">0.233122</span>  ,\n",
       "<span style=\"color: #7fbf7f; text-decoration-color: #7fbf7f\">│      </span><span style=\"color: #008080; text-decoration-color: #008080; font-weight: bold\">0.6336913</span> <span style=\"font-weight: bold\">]</span>, <span style=\"color: #808000; text-decoration-color: #808000\">dtype</span>=<span style=\"color: #800080; text-decoration-color: #800080\">float32</span><span style=\"font-weight: bold\">)</span>,\n",
       "<span style=\"color: #7fbf7f; text-decoration-color: #7fbf7f\">│   </span><span style=\"color: #008080; text-decoration-color: #008080; font-weight: bold\">10.0</span>: <span style=\"color: #800080; text-decoration-color: #800080; font-weight: bold\">array</span><span style=\"font-weight: bold\">([</span><span style=\"color: #008080; text-decoration-color: #008080; font-weight: bold\">0.12792668</span>, <span style=\"color: #008080; text-decoration-color: #008080; font-weight: bold\">0.14138085</span>, <span style=\"color: #008080; text-decoration-color: #008080; font-weight: bold\">0.15624999</span>, <span style=\"color: #008080; text-decoration-color: #008080; font-weight: bold\">0.17268294</span>, <span style=\"color: #008080; text-decoration-color: #008080; font-weight: bold\">0.19084416</span>,\n",
       "<span style=\"color: #7fbf7f; text-decoration-color: #7fbf7f\">│      </span><span style=\"color: #008080; text-decoration-color: #008080; font-weight: bold\">0.21091543</span><span style=\"font-weight: bold\">]</span>, <span style=\"color: #808000; text-decoration-color: #808000\">dtype</span>=<span style=\"color: #800080; text-decoration-color: #800080\">float32</span><span style=\"font-weight: bold\">)</span>\n",
       "<span style=\"font-weight: bold\">}</span>\n",
       "</pre>\n"
      ],
      "text/plain": [
       "\u001b[1m{\u001b[0m\n",
       "\u001b[2;32m│   \u001b[0m\u001b[1;36m0.1\u001b[0m: \u001b[1;35marray\u001b[0m\u001b[1m(\u001b[0m\u001b[1m[\u001b[0m\u001b[1;36m1.9286696e-22\u001b[0m, \u001b[1;36m4.2481610e-18\u001b[0m, \u001b[1;36m9.3572157e-14\u001b[0m, \u001b[1;36m2.0610600e-09\u001b[0m,\n",
       "\u001b[2;32m│      \u001b[0m\u001b[1;36m4.5397868e-05\u001b[0m, \u001b[1;36m9.9995458e-01\u001b[0m\u001b[1m]\u001b[0m, \u001b[33mdtype\u001b[0m=\u001b[35mfloat32\u001b[0m\u001b[1m)\u001b[0m,\n",
       "\u001b[2;32m│   \u001b[0m\u001b[1;36m1.0\u001b[0m: \u001b[1;35marray\u001b[0m\u001b[1m(\u001b[0m\u001b[1m[\u001b[0m\u001b[1;36m0.00426978\u001b[0m, \u001b[1;36m0.01160646\u001b[0m, \u001b[1;36m0.03154963\u001b[0m, \u001b[1;36m0.08576079\u001b[0m, \u001b[1;36m0.233122\u001b[0m  ,\n",
       "\u001b[2;32m│      \u001b[0m\u001b[1;36m0.6336913\u001b[0m \u001b[1m]\u001b[0m, \u001b[33mdtype\u001b[0m=\u001b[35mfloat32\u001b[0m\u001b[1m)\u001b[0m,\n",
       "\u001b[2;32m│   \u001b[0m\u001b[1;36m10.0\u001b[0m: \u001b[1;35marray\u001b[0m\u001b[1m(\u001b[0m\u001b[1m[\u001b[0m\u001b[1;36m0.12792668\u001b[0m, \u001b[1;36m0.14138085\u001b[0m, \u001b[1;36m0.15624999\u001b[0m, \u001b[1;36m0.17268294\u001b[0m, \u001b[1;36m0.19084416\u001b[0m,\n",
       "\u001b[2;32m│      \u001b[0m\u001b[1;36m0.21091543\u001b[0m\u001b[1m]\u001b[0m, \u001b[33mdtype\u001b[0m=\u001b[35mfloat32\u001b[0m\u001b[1m)\u001b[0m\n",
       "\u001b[1m}\u001b[0m\n"
      ]
     },
     "metadata": {},
     "output_type": "display_data"
    },
    {
     "data": {
      "text/html": [
       "<pre style=\"white-space:pre;overflow-x:auto;line-height:normal;font-family:Menlo,'DejaVu Sans Mono',consolas,'Courier New',monospace\"><span style=\"font-weight: bold\">{</span><span style=\"color: #008080; text-decoration-color: #008080; font-weight: bold\">0.1</span>: <span style=\"color: #800080; text-decoration-color: #800080; font-weight: bold\">array</span><span style=\"font-weight: bold\">([</span><span style=\"color: #008080; text-decoration-color: #008080; font-weight: bold\">5</span><span style=\"font-weight: bold\">])</span>, <span style=\"color: #008080; text-decoration-color: #008080; font-weight: bold\">1.0</span>: <span style=\"color: #800080; text-decoration-color: #800080; font-weight: bold\">array</span><span style=\"font-weight: bold\">([</span><span style=\"color: #008080; text-decoration-color: #008080; font-weight: bold\">5</span><span style=\"font-weight: bold\">])</span>, <span style=\"color: #008080; text-decoration-color: #008080; font-weight: bold\">10.0</span>: <span style=\"color: #800080; text-decoration-color: #800080; font-weight: bold\">array</span><span style=\"font-weight: bold\">([</span><span style=\"color: #008080; text-decoration-color: #008080; font-weight: bold\">4</span><span style=\"font-weight: bold\">])}</span>\n",
       "</pre>\n"
      ],
      "text/plain": [
       "\u001b[1m{\u001b[0m\u001b[1;36m0.1\u001b[0m: \u001b[1;35marray\u001b[0m\u001b[1m(\u001b[0m\u001b[1m[\u001b[0m\u001b[1;36m5\u001b[0m\u001b[1m]\u001b[0m\u001b[1m)\u001b[0m, \u001b[1;36m1.0\u001b[0m: \u001b[1;35marray\u001b[0m\u001b[1m(\u001b[0m\u001b[1m[\u001b[0m\u001b[1;36m5\u001b[0m\u001b[1m]\u001b[0m\u001b[1m)\u001b[0m, \u001b[1;36m10.0\u001b[0m: \u001b[1;35marray\u001b[0m\u001b[1m(\u001b[0m\u001b[1m[\u001b[0m\u001b[1;36m4\u001b[0m\u001b[1m]\u001b[0m\u001b[1m)\u001b[0m\u001b[1m}\u001b[0m\n"
      ]
     },
     "metadata": {},
     "output_type": "display_data"
    }
   ],
   "source": [
    "# Example logits\n",
    "logits = torch.tensor([1.0, 2.0, 3.0, 4.0, 5.0, 6.0])\n",
    "\n",
    "# Temperatures to explore\n",
    "temperatures = [0.1, 1.0, 10.0]\n",
    "\n",
    "# Generate samples under different temperatures\n",
    "softmax_distributions, sampling_distributions = demonstrate_multinomial_sampling_effect(logits, temperatures)\n",
    "\n",
    "pprint(softmax_distributions)\n",
    "pprint(sampling_distributions)"
   ]
  },
  {
   "cell_type": "code",
   "execution_count": 18,
   "metadata": {},
   "outputs": [
    {
     "data": {
      "text/plain": [
       "tensor([1., 2., 3., 4., 5., 6.])"
      ]
     },
     "execution_count": 18,
     "metadata": {},
     "output_type": "execute_result"
    }
   ],
   "source": [
    "logits"
   ]
  },
  {
   "cell_type": "markdown",
   "metadata": {},
   "source": [
    "Here's how the softmax distribution changes with different temperatures for the\n",
    "given logits `[1.0, 2.0, 3.0]`:\n",
    "\n",
    "-   **Temperature = 0.1**: The softmax probabilities are approximately\n",
    "    `[2.06e-09, 4.54e-05, 0.9999]`. At this low temperature, the distribution\n",
    "    becomes extremely \"sharp,\" where the highest logit (3.0) dominates, and its\n",
    "    probability is almost 1. This demonstrates the effect of low temperatures in\n",
    "    making the softmax output more deterministic, favoring the highest logit\n",
    "    significantly over the others.\n",
    "\n",
    "-   **Temperature = 1.0** (no scaling): The softmax probabilities are\n",
    "    `[0.09, 0.24, 0.67]`. This is the standard softmax distribution without any\n",
    "    temperature scaling. The highest logit still has the highest probability,\n",
    "    but the distribution is less skewed than at lower temperatures, allowing for\n",
    "    some level of variability in sampling.\n",
    "\n",
    "-   **Temperature = 10.0**: The softmax probabilities are `[0.30, 0.33, 0.37]`.\n",
    "    At this high temperature, the distribution becomes much \"softer,\" and the\n",
    "    probabilities are closer to each other, making the outcome more uniform.\n",
    "    This indicates increased randomness in sampling, as the differences between\n",
    "    the logits are dampened, making it less predictable which token will be\n",
    "    sampled.\n",
    "\n",
    "### Conclusion\n",
    "\n",
    "-   **Low temperatures** sharpen the softmax distribution, increasing the\n",
    "    probability of the highest logit significantly and making the model's output\n",
    "    more predictable.\n",
    "\n",
    "-   **High temperatures** soften the softmax distribution, equalizing the\n",
    "    probabilities and introducing more randomness into the model's output.\n",
    "\n",
    "This demonstrates the practical effect of temperature on the behavior of softmax\n",
    "and, by extension, on the sampling strategy used in generative models.\n",
    "\n",
    "To cater to a mathematical audience, let's delve deeper into the formal\n",
    "definition of multinomial sampling and its connection to temperature-scaled\n",
    "softmax distributions in the context of sequence generation models.\n",
    "\n",
    "### Multinomial Distribution\n",
    "\n",
    "The multinomial distribution is a generalization of the binomial distribution.\n",
    "It models the probabilities of observing counts among multiple categories and is\n",
    "parametrized by probabilities $\\pi_1, \\pi_2, \\ldots, \\pi_n$ corresponding to $n$\n",
    "outcomes. These probabilities must satisfy two conditions:\n",
    "\n",
    "1. $0 \\leq \\pi_i \\leq 1$ for all $i$,\n",
    "2. $\\sum\\_{i=1}^{n} \\pi_i = 1$.\n",
    "\n",
    "Given a single trial, the probability of outcome $i$ occurring is $\\pi_i$. When\n",
    "sampling from a multinomial distribution, each sample (or draw) is independent,\n",
    "and the probability of observing a specific outcome follows the distribution\n",
    "defined by $\\pi$.\n",
    "\n",
    "### Formalizing Multinomial Sampling\n",
    "\n",
    "In the context of generative models, after computing the softmax distribution\n",
    "over the logits (or scores) $z_i$ for each token $i$ in the vocabulary, the\n",
    "softmax function at temperature $T$ is applied to obtain probabilities:\n",
    "\n",
    "$$p*i = \\frac{\\exp(z_i / T)}{\\sum*{j=1}^{n} \\exp(z_j / T)}$$\n",
    "\n",
    "Here, $p_i$ represents the probability of selecting token $i$ as the next token\n",
    "in the sequence, forming a probability distribution\n",
    "$\\pi = [p_1, p_2,\n",
    "\\ldots, p_n]$ over the vocabulary.\n",
    "\n",
    "Given $\\pi$, multinomial sampling draws a sample $s$ where $P(s=i) = p_i$. This\n",
    "process can be repeated to generate sequences of tokens.\n",
    "\n",
    "### Impact of Temperature on Multinomial Sampling\n",
    "\n",
    "The temperature parameter $T$ modulates the sharpness of the probability\n",
    "distribution $\\pi$:\n",
    "\n",
    "-   **For $T < 1$**, the distribution becomes sharper, with a higher probability\n",
    "    concentrated on the tokens with the highest logits. This makes the sampling\n",
    "    process more deterministic, as the variance among the probabilities is\n",
    "    increased, favoring the selection of the most likely token.\n",
    "\n",
    "-   **For $T = 1$**, the distribution is exactly the softmax of the logits,\n",
    "    representing the model's learned probabilities without modification.\n",
    "\n",
    "-   **For $T > 1$**, the distribution becomes flatter, making less likely tokens\n",
    "    more probable to be selected. This introduces more randomness into the\n",
    "    sampling process, as the variance among the probabilities is decreased.\n",
    "\n",
    "### Example in Sequence Generation\n",
    "\n",
    "Consider generating text from a model trained on a large corpus. At each step,\n",
    "the model outputs logits, which are transformed into probabilities $\\pi$ using\n",
    "the softmax function scaled by temperature $T$. Multinomial sampling is then\n",
    "used to select the next token from these probabilities. Adjusting $T$ allows\n",
    "controlling the randomness and diversity of the generated text: lower $T$ favors\n",
    "more predictable text closely following the training data, while higher $T$\n",
    "favors more novel and varied sequences.\n",
    "\n",
    "This formal treatment of multinomial sampling and temperature's role offers a\n",
    "nuanced understanding of how generative models like GPT navigate the trade-offs\n",
    "between diversity and fidelity in sequence generation.\n"
   ]
  },
  {
   "cell_type": "code",
   "execution_count": 19,
   "metadata": {},
   "outputs": [
    {
     "data": {
      "image/png": "[encoded data removed]",
      "text/plain": [
       "<Figure size 1200x800 with 1 Axes>"
      ]
     },
     "metadata": {},
     "output_type": "display_data"
    }
   ],
   "source": [
    "import numpy as np\n",
    "import matplotlib.pyplot as plt\n",
    "\n",
    "def softmax(logits, temperature=1.0):\n",
    "    \"\"\"Compute softmax values for each set of logits in x.\"\"\"\n",
    "    scaled_logits = logits / temperature\n",
    "    exp_logits = np.exp(scaled_logits - np.max(scaled_logits))  # for numerical stability\n",
    "    return exp_logits / np.sum(exp_logits)\n",
    "\n",
    "plt.figure(figsize=(12, 8))\n",
    "\n",
    "logits = logits.numpy()\n",
    "\n",
    "for temp in temperatures:\n",
    "    probs = softmax(logits, temperature=temp)\n",
    "    plt.plot(probs, label=f'Temperature = {temp}', marker='o', linestyle='-', markersize=8)\n",
    "\n",
    "plt.title('Effect of Temperature on Softmax Distribution')\n",
    "plt.xlabel('Token Index')\n",
    "plt.ylabel('Probability')\n",
    "plt.xticks(range(len(logits)))\n",
    "plt.legend()\n",
    "plt.grid(True)\n",
    "plt.show()\n"
   ]
  },
  {
   "cell_type": "markdown",
   "metadata": {},
   "source": [
    "# Why Do We Like To Use Warmup and Cosine Schedulers?"
   ]
  },
  {
   "cell_type": "code",
   "execution_count": 22,
   "metadata": {},
   "outputs": [
    {
     "name": "stdout",
     "output_type": "stream",
     "text": [
      "[0.1, 0.05, 0.025, 0.0125, 0.00625]\n"
     ]
    }
   ],
   "source": [
    "from __future__ import annotations\n",
    "\n",
    "from typing import List\n",
    "\n",
    "from torch import nn\n",
    "from torch.optim import Adam, Optimizer\n",
    "from torch.optim.lr_scheduler import _LRScheduler, StepLR\n",
    "\n",
    "\n",
    "def get_learning_rates(optimizer: Optimizer, scheduler: _LRScheduler, steps: int) -> List[float]:\n",
    "    lrs = []\n",
    "    for _ in range(steps):\n",
    "        lrs.append(optimizer.param_groups[0][\"lr\"])\n",
    "        optimizer.step()  # Dummy step\n",
    "        scheduler.step()\n",
    "    return lrs\n",
    "\n",
    "dummy_model = nn.Linear(1, 1)\n",
    "optimizer = Adam(dummy_model.parameters(), lr=0.1)\n",
    "scheduler = StepLR(optimizer, step_size=1, gamma=0.5)\n",
    "lrs = get_learning_rates(optimizer, scheduler, steps=5)\n",
    "print(lrs)\n"
   ]
  },
  {
   "cell_type": "code",
   "execution_count": 26,
   "metadata": {},
   "outputs": [
    {
     "data": {
      "image/png": "[encoded data removed]",
      "text/plain": [
       "<Figure size 640x480 with 1 Axes>"
      ]
     },
     "metadata": {},
     "output_type": "display_data"
    }
   ],
   "source": [
    "from __future__ import annotations\n",
    "\n",
    "import math\n",
    "from functools import partial\n",
    "\n",
    "from torch.optim.lr_scheduler import LambdaLR\n",
    "from torch.optim.optimizer import Optimizer\n",
    "\n",
    "\n",
    "def _get_cosine_schedule_with_warmup_lr_lambda(\n",
    "    current_step: int, *, num_warmup_steps: int, num_training_steps: int, alpha_f: float\n",
    ") -> float:\n",
    "    \"\"\"\n",
    "    Helper function for calculating the learning rate using cosine annealing\n",
    "    with warmup.\n",
    "\n",
    "    Parameters\n",
    "    ----------\n",
    "    current_step: int\n",
    "        The current step in the training process.\n",
    "    num_warmup_steps: int\n",
    "        The number of steps for the warmup phase.\n",
    "    num_training_steps: int\n",
    "        The total number of training steps.\n",
    "    alpha_f: float\n",
    "        The minimum learning rate at the end of the schedule.\n",
    "\n",
    "    Returns\n",
    "    -------\n",
    "    float\n",
    "        The calculated learning rate.\n",
    "    \"\"\"\n",
    "\n",
    "    if current_step < num_warmup_steps:\n",
    "        alpha = current_step / max(1, num_warmup_steps)\n",
    "    else:\n",
    "        tau_w = (current_step - num_warmup_steps) / num_training_steps\n",
    "        tau_w = min(1.0, tau_w)\n",
    "        alpha = alpha_f + (1 - alpha_f) * (1 + math.cos(math.pi * tau_w)) / 2\n",
    "    return alpha\n",
    "\n",
    "\n",
    "def get_cosine_annealing_with_warmup(\n",
    "    optimizer: Optimizer,\n",
    "    num_warmup_steps: int,\n",
    "    num_training_steps: int,\n",
    "    alpha_f: float = 0.1,\n",
    "    last_epoch: int = -1,\n",
    "    verbose: bool = False,\n",
    ") -> LambdaLR:\n",
    "    \"\"\"\n",
    "    Create a schedule with a learning rate that decreases following the values\n",
    "    of the cosine function between the initial lr set in the optimizer to 0,\n",
    "    after a warmup period during which it increases linearly between 0 and the\n",
    "    initial lr set in the optimizer.\n",
    "\n",
    "    Parameters\n",
    "    ----------\n",
    "    optimizer: `~torch.optim.Optimizer`\n",
    "        The optimizer for which to schedule the learning rate.\n",
    "    num_warmup_steps: int\n",
    "        The number of steps for the warmup phase.\n",
    "    num_training_steps: int\n",
    "        The total number of training steps.\n",
    "    alpha_f: float, optional\n",
    "        The minimum learning rate at the end of the schedule, by default 0.1.\n",
    "    last_epoch: int, optional\n",
    "        The index of the last epoch when resuming training, by default -1.\n",
    "    verbose: bool, optional\n",
    "        Whether to print the learning rate at every update, by default False.\n",
    "\n",
    "    Returns\n",
    "    -------\n",
    "    `torch.optim.lr_scheduler.LambdaLR`\n",
    "        The scheduler with the appropriate schedule.\n",
    "    \"\"\"\n",
    "\n",
    "    lr_lambda = partial(\n",
    "        _get_cosine_schedule_with_warmup_lr_lambda,\n",
    "        num_warmup_steps=num_warmup_steps,\n",
    "        num_training_steps=num_training_steps,\n",
    "        alpha_f=alpha_f,\n",
    "    )\n",
    "    return LambdaLR(optimizer, lr_lambda, last_epoch, verbose)\n",
    "\n",
    "\n",
    "num_warmup_steps = 2\n",
    "num_training_steps = 10\n",
    "alpha_f = 0.5\n",
    "initial_lr = 1e-1\n",
    "\n",
    "dummy_model = nn.Linear(1, 1)\n",
    "optimizer = Adam(dummy_model.parameters(), lr=initial_lr)\n",
    "scheduler = get_cosine_annealing_with_warmup(optimizer, num_warmup_steps, num_training_steps, alpha_f)\n",
    "assert isinstance(scheduler, LambdaLR)\n",
    "lrs = get_learning_rates(optimizer, scheduler, steps=num_training_steps)\n",
    "\n",
    "import matplotlib.pyplot as plt\n",
    "\n",
    "def plot_learning_rates(lrs: List[float], title: str, marker: str = \"o\", ax: plt.Axes | None = None, **kwargs: Any) -> None:\n",
    "    ax = ax or plt.gca()\n",
    "\n",
    "    ax.plot(lrs, label=title, marker=marker, **kwargs)\n",
    "    ax.set_title(title)\n",
    "    ax.set_xlabel(\"Step\")\n",
    "    ax.set_ylabel(\"Learning Rate\")\n",
    "    ax.legend()\n",
    "\n",
    "plot_learning_rates(lrs, \"Cosine Annealing with Warmup\")"
   ]
  },
  {
   "cell_type": "code",
   "execution_count": 31,
   "metadata": {},
   "outputs": [
    {
     "data": {
      "text/plain": [
       "0.00028567627457812104"
      ]
     },
     "execution_count": 31,
     "metadata": {},
     "output_type": "execute_result"
    }
   ],
   "source": [
    "((math.cos(0.2 * math.pi) + 1)*(0.25) + 0.5) * 3e-4\n"
   ]
  },
  {
   "cell_type": "code",
   "execution_count": null,
   "metadata": {},
   "outputs": [],
   "source": [
    "optimizer = AdamW(model.parameters(), lr=initial_lr)\n",
    "\n",
    "scheduler_1 = get_cosine_annealing_with_warmup(optimizer, t_warmup, t_max, alpha_f)\n",
    "lrs = []\n",
    "for epoch in range(t_max + 1):\n",
    "    optimizer.step()\n",
    "    scheduler_1.step()\n",
    "    lr = optimizer.param_groups[0][\"lr\"]\n",
    "    lrs.append(lr)\n",
    "\n",
    "lrs"
   ]
  },
  {
   "cell_type": "code",
   "execution_count": 2,
   "metadata": {},
   "outputs": [
    {
     "name": "stdout",
     "output_type": "stream",
     "text": [
      "<class 'float'>\n"
     ]
    },
    {
     "name": "stderr",
     "output_type": "stream",
     "text": [
      "/opt/homebrew/Caskroom/miniconda/base/envs/omniverse/lib/python3.9/site-packages/torch/optim/lr_scheduler.py:809: UserWarning: To get the last learning rate computed by the scheduler, please use `get_last_lr()`.\n",
      "  warnings.warn(\"To get the last learning rate computed by the scheduler, \"\n"
     ]
    }
   ],
   "source": [
    "from torch.optim.lr_scheduler import CosineAnnealingLR\n",
    "from torch.optim import AdamW\n",
    "from torch import nn\n",
    "model = nn.Linear(10, 2)\n",
    "optimizer = AdamW(model.parameters(), lr=0.1)\n",
    "scheduler = CosineAnnealingLR(optimizer, T_max=10, eta_min=0.01)\n",
    "print(type(scheduler.get_lr()[0]))"
   ]
  },
  {
   "cell_type": "code",
   "execution_count": 3,
   "metadata": {},
   "outputs": [],
   "source": [
    "from __future__ import annotations\n",
    "import torch\n",
    "import math\n",
    "from typing import List\n",
    "\n",
    "from torch.optim.optimizer import Optimizer\n",
    "from torch.optim.lr_scheduler import LambdaLR\n",
    "from functools import partial\n",
    "\n",
    "def cosine_annealing_with_warmup(t: int, t_warmup: float, t_max: float, alpha_f: float) -> float:\n",
    "    \"\"\"Computes the learning rate multiplier using cosine annealing with warmup.\n",
    "\n",
    "    Parameters\n",
    "    ----------\n",
    "    t : int\n",
    "        Current training step.\n",
    "    t_warmup : float\n",
    "        Warmup time in training steps.\n",
    "    t_max : float\n",
    "        Total duration of the scheduler in training steps.\n",
    "    alpha_f : float\n",
    "        Learning rate multiplier to decay to.\n",
    "\n",
    "    Returns\n",
    "    -------\n",
    "    alpha : float\n",
    "        The learning rate multiplier at the given training step.\n",
    "    \"\"\"\n",
    "    if t < t_warmup:\n",
    "        alpha = t / t_warmup\n",
    "    else:\n",
    "        tau_w = (t - t_warmup) / t_max\n",
    "        tau_w = min(1.0, tau_w)\n",
    "        alpha = alpha_f + (1 - alpha_f) * (1 + math.cos(math.pi * tau_w)) / 2\n",
    "    return alpha\n"
   ]
  },
  {
   "cell_type": "markdown",
   "metadata": {},
   "source": [
    "- refer to hf\n",
    "- refer to mosaic so to highlight a bit diff in impleentations"
   ]
  },
  {
   "cell_type": "code",
   "execution_count": 32,
   "metadata": {},
   "outputs": [],
   "source": [
    "from transformers import get_cosine_schedule_with_warmup"
   ]
  },
  {
   "cell_type": "code",
   "execution_count": 53,
   "metadata": {},
   "outputs": [
    {
     "data": {
      "text/plain": [
       "[0.05,\n",
       " 0.1,\n",
       " 0.09757729755661011,\n",
       " 0.09054634122155991,\n",
       " 0.07959536998847742,\n",
       " 0.0657963412215599,\n",
       " 0.0505,\n",
       " 0.03520365877844011,\n",
       " 0.021404630011522586,\n",
       " 0.010453658778440107]"
      ]
     },
     "execution_count": 53,
     "metadata": {},
     "output_type": "execute_result"
    }
   ],
   "source": [
    "\n",
    "initial_lr = 0.1 # eta_max\n",
    "t_warmup = 2\n",
    "t_max = 10\n",
    "alpha_f = 0.01\n",
    "steps = np.arange(1, t_max + 1)\n",
    "\n",
    "# Learning rate values\n",
    "lr_values = [\n",
    "    initial_lr\n",
    "    * cosine_annealing_with_warmup(t, t_warmup, t_max, alpha_f)\n",
    "    for t in steps\n",
    "]\n",
    "lr_values"
   ]
  },
  {
   "cell_type": "code",
   "execution_count": 54,
   "metadata": {},
   "outputs": [
    {
     "data": {
      "text/plain": [
       "[0.05,\n",
       " 0.1,\n",
       " 0.09757729755661011,\n",
       " 0.09054634122155991,\n",
       " 0.07959536998847742,\n",
       " 0.0657963412215599,\n",
       " 0.0505,\n",
       " 0.03520365877844011,\n",
       " 0.021404630011522586,\n",
       " 0.010453658778440107,\n",
       " 0.0034227024433899004]"
      ]
     },
     "execution_count": 54,
     "metadata": {},
     "output_type": "execute_result"
    }
   ],
   "source": [
    "optimizer = AdamW(model.parameters(), lr=initial_lr)\n",
    "\n",
    "scheduler_1 = get_cosine_annealing_with_warmup(optimizer, t_warmup, t_max, alpha_f)\n",
    "lrs = []\n",
    "for epoch in range(t_max + 1):\n",
    "    optimizer.step()\n",
    "    scheduler_1.step()\n",
    "    lr = optimizer.param_groups[0][\"lr\"]\n",
    "    lrs.append(lr)\n",
    "\n",
    "lrs"
   ]
  },
  {
   "cell_type": "code",
   "execution_count": 46,
   "metadata": {},
   "outputs": [
    {
     "data": {
      "text/plain": [
       "[0.05,\n",
       " 0.1,\n",
       " 0.09797464868072488,\n",
       " 0.09206267664155907,\n",
       " 0.08274303669726427,\n",
       " 0.07077075065009433,\n",
       " 0.05711574191366427,\n",
       " 0.04288425808633575,\n",
       " 0.029229249349905687,\n",
       " 0.017256963302735746,\n",
       " 0.007937323358440935]"
      ]
     },
     "execution_count": 46,
     "metadata": {},
     "output_type": "execute_result"
    }
   ],
   "source": [
    "scheduler_hf = get_cosine_schedule_with_warmup(optimizer, num_warmup_steps=t_warmup, num_training_steps=t_max+t_warmup, num_cycles=0.5)\n",
    "\n",
    "lrs_hf = []\n",
    "for epoch in range(t_max + 1):\n",
    "    optimizer.step()\n",
    "    scheduler_hf.step()\n",
    "    lr = optimizer.param_groups[0][\"lr\"]\n",
    "    lrs_hf.append(lr)\n",
    "\n",
    "lrs_hf"
   ]
  },
  {
   "cell_type": "code",
   "execution_count": 69,
   "metadata": {},
   "outputs": [
    {
     "data": {
      "text/plain": [
       "0.001"
      ]
     },
     "execution_count": 69,
     "metadata": {},
     "output_type": "execute_result"
    }
   ],
   "source": [
    "initial_lr"
   ]
  },
  {
   "cell_type": "code",
   "execution_count": 9,
   "metadata": {},
   "outputs": [
    {
     "data": {
      "image/png": "[encoded data removed]",
      "text/plain": [
       "<Figure size 800x300 with 1 Axes>"
      ]
     },
     "metadata": {},
     "output_type": "display_data"
    }
   ],
   "source": [
    "import seaborn as sns\n",
    "import matplotlib.pyplot as plt\n",
    "\n",
    "total_steps = 2000\n",
    "\n",
    "initial_lr = 1e-3 # eta_max\n",
    "t_warmup = 100\n",
    "t_max = total_steps\n",
    "alpha_f = 0\n",
    "steps = np.arange(1, total_steps + 1)\n",
    "\n",
    "p = nn.Parameter(torch.empty(4,4))\n",
    "optimizer = AdamW([p], lr=initial_lr)\n",
    "scheduler = get_cosine_annealing_with_warmup(optimizer, t_warmup, t_max, alpha_f)\n",
    "\n",
    "# Plotting\n",
    "epochs = list(range(total_steps))\n",
    "lrs = []\n",
    "for epoch in epochs:\n",
    "    optimizer.step()\n",
    "    scheduler.step()\n",
    "    lr = optimizer.param_groups[0][\"lr\"]\n",
    "    lrs.append(lr)\n",
    "\n",
    "\n",
    "sns.set()\n",
    "plt.figure(figsize=(8,3))\n",
    "plt.plot(epochs, lrs)\n",
    "plt.ylabel(\"Learning rate factor\")\n",
    "plt.xlabel(\"Iterations (in batches)\")\n",
    "plt.title(\"Cosine Warm-up Learning Rate Scheduler\")\n",
    "plt.show()\n",
    "sns.reset_orig()"
   ]
  },
  {
   "cell_type": "code",
   "execution_count": 15,
   "metadata": {},
   "outputs": [
    {
     "data": {
      "image/png": "[encoded data removed]",
      "text/plain": [
       "<Figure size 800x300 with 1 Axes>"
      ]
     },
     "metadata": {},
     "output_type": "display_data"
    }
   ],
   "source": [
    "import seaborn as sns\n",
    "import matplotlib.pyplot as plt\n",
    "import numpy as np\n",
    "\n",
    "total_steps = 2000\n",
    "initial_lr = 1e-3 # eta_max\n",
    "t_warmup = 10\n",
    "\n",
    "t_max = int(total_steps / 4) # oscillate 4 times\n",
    "alpha_f = 0.9\n",
    "steps = np.arange(1, total_steps + 1)\n",
    "\n",
    "p = nn.Parameter(torch.empty(4,4))\n",
    "optimizer = AdamW([p], lr=initial_lr)\n",
    "scheduler = get_cosine_annealing_with_warmup(optimizer, t_warmup, t_max, alpha_f)\n",
    "\n",
    "# Plotting\n",
    "epochs = list(range(total_steps))\n",
    "lrs = []\n",
    "for epoch in epochs:\n",
    "    optimizer.step()\n",
    "    scheduler.step()\n",
    "    lr = optimizer.param_groups[0][\"lr\"]\n",
    "    lrs.append(lr)\n",
    "\n",
    "\n",
    "sns.set()\n",
    "plt.figure(figsize=(8,3))\n",
    "plt.plot(epochs, lrs)\n",
    "plt.ylabel(\"Learning rate factor\")\n",
    "plt.xlabel(\"Iterations (in batches)\")\n",
    "plt.title(\"Cosine Warm-up Learning Rate Scheduler\")\n",
    "plt.show()\n",
    "sns.reset_orig()"
   ]
  }
 ],
 "metadata": {
  "kernelspec": {
   "display_name": "omniverse",
   "language": "python",
   "name": "python3"
  },
  "language_info": {
   "codemirror_mode": {
    "name": "ipython",
    "version": 3
   },
   "file_extension": ".py",
   "mimetype": "text/x-python",
   "name": "python",
   "nbconvert_exporter": "python",
   "pygments_lexer": "ipython3",
   "version": "3.9.18"
  }
 },
 "nbformat": 4,
 "nbformat_minor": 2
}
