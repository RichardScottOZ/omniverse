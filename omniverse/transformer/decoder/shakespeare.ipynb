{
 "cells": [
  {
   "cell_type": "markdown",
   "metadata": {},
   "source": [
    "# Shakespeare\n",
    "\n",
    "\n",
    "```{contents}\n",
    ":local:\n",
    "```\n"
   ]
  },
  {
   "cell_type": "code",
   "execution_count": 296,
   "metadata": {},
   "outputs": [],
   "source": [
    "from __future__ import annotations\n",
    "\n",
    "import os\n",
    "import time\n",
    "import seaborn as sns\n",
    "\n",
    "import matplotlib.pyplot as plt\n",
    "from pathlib import Path\n",
    "from typing import Any, Dict, List, Literal, Tuple, Union\n",
    "\n",
    "import numpy as np\n",
    "from numpy.typing import ArrayLike, NDArray\n",
    "import requests\n",
    "import tiktoken\n",
    "import torch\n",
    "from rich.pretty import pprint\n",
    "from torch import nn\n",
    "from torch.utils.data import DataLoader, Dataset\n",
    "import os\n",
    "import random\n",
    "import warnings\n",
    "\n",
    "import numpy as np\n",
    "import torch\n",
    "import torch.nn.functional as F\n",
    "import torch.backends.cudnn\n",
    "\n",
    "from pydantic import BaseModel, Field, model_validator, computed_field\n"
   ]
  },
  {
   "cell_type": "markdown",
   "metadata": {},
   "source": [
    "## Composing the Configurations"
   ]
  },
  {
   "cell_type": "code",
   "execution_count": 297,
   "metadata": {},
   "outputs": [
    {
     "data": {
      "text/html": [
       "<pre style=\"white-space:pre;overflow-x:auto;line-height:normal;font-family:Menlo,'DejaVu Sans Mono',consolas,'Courier New',monospace\"><span style=\"color: #800080; text-decoration-color: #800080; font-weight: bold\">Composer</span><span style=\"font-weight: bold\">(</span>\n",
       "<span style=\"color: #7fbf7f; text-decoration-color: #7fbf7f\">│   </span><span style=\"color: #808000; text-decoration-color: #808000\">seed</span>=<span style=\"color: #008080; text-decoration-color: #008080; font-weight: bold\">2024</span>,\n",
       "<span style=\"color: #7fbf7f; text-decoration-color: #7fbf7f\">│   </span><span style=\"color: #808000; text-decoration-color: #808000\">debug</span>=<span style=\"color: #00ff00; text-decoration-color: #00ff00; font-style: italic\">True</span>,\n",
       "<span style=\"color: #7fbf7f; text-decoration-color: #7fbf7f\">│   </span><span style=\"color: #808000; text-decoration-color: #808000\">url</span>=<span style=\"color: #008000; text-decoration-color: #008000\">'https://raw.githubusercontent.com/karpathy/char-rnn/master/data/tinyshakespeare/input.txt'</span>,\n",
       "<span style=\"color: #7fbf7f; text-decoration-color: #7fbf7f\">│   </span><span style=\"color: #808000; text-decoration-color: #808000\">dataset_name</span>=<span style=\"color: #008000; text-decoration-color: #008000\">'tinyshakespeare'</span>,\n",
       "<span style=\"color: #7fbf7f; text-decoration-color: #7fbf7f\">│   </span><span style=\"color: #808000; text-decoration-color: #808000\">data_folder</span>=<span style=\"color: #008000; text-decoration-color: #008000\">'./data/tinyshakespeare'</span>,\n",
       "<span style=\"color: #7fbf7f; text-decoration-color: #7fbf7f\">│   </span><span style=\"color: #808000; text-decoration-color: #808000\">train_path</span>=<span style=\"color: #800080; text-decoration-color: #800080; font-weight: bold\">PosixPath</span><span style=\"font-weight: bold\">(</span><span style=\"color: #008000; text-decoration-color: #008000\">'data/tinyshakespeare/train.txt'</span><span style=\"font-weight: bold\">)</span>,\n",
       "<span style=\"color: #7fbf7f; text-decoration-color: #7fbf7f\">│   </span><span style=\"color: #808000; text-decoration-color: #808000\">valid_path</span>=<span style=\"color: #800080; text-decoration-color: #800080; font-weight: bold\">PosixPath</span><span style=\"font-weight: bold\">(</span><span style=\"color: #008000; text-decoration-color: #008000\">'data/tinyshakespeare/valid.txt'</span><span style=\"font-weight: bold\">)</span>,\n",
       "<span style=\"color: #7fbf7f; text-decoration-color: #7fbf7f\">│   </span><span style=\"color: #808000; text-decoration-color: #808000\">encoding_name</span>=<span style=\"color: #008000; text-decoration-color: #008000\">'gpt2'</span>,\n",
       "<span style=\"color: #7fbf7f; text-decoration-color: #7fbf7f\">│   </span><span style=\"color: #808000; text-decoration-color: #808000\">batch_size</span>=<span style=\"color: #008080; text-decoration-color: #008080; font-weight: bold\">2</span>,\n",
       "<span style=\"color: #7fbf7f; text-decoration-color: #7fbf7f\">│   </span><span style=\"color: #808000; text-decoration-color: #808000\">block_size</span>=<span style=\"color: #008080; text-decoration-color: #008080; font-weight: bold\">8</span>,\n",
       "<span style=\"color: #7fbf7f; text-decoration-color: #7fbf7f\">│   </span><span style=\"color: #808000; text-decoration-color: #808000\">device_type</span>=<span style=\"color: #008000; text-decoration-color: #008000\">'cpu'</span>,\n",
       "<span style=\"color: #7fbf7f; text-decoration-color: #7fbf7f\">│   </span><span style=\"color: #808000; text-decoration-color: #808000\">device</span>=<span style=\"color: #800080; text-decoration-color: #800080; font-weight: bold\">device</span><span style=\"font-weight: bold\">(</span><span style=\"color: #808000; text-decoration-color: #808000\">type</span>=<span style=\"color: #008000; text-decoration-color: #008000\">'cpu'</span><span style=\"font-weight: bold\">)</span>,\n",
       "<span style=\"color: #7fbf7f; text-decoration-color: #7fbf7f\">│   </span><span style=\"color: #808000; text-decoration-color: #808000\">d_model</span>=<span style=\"color: #008080; text-decoration-color: #008080; font-weight: bold\">4</span>,\n",
       "<span style=\"color: #7fbf7f; text-decoration-color: #7fbf7f\">│   </span><span style=\"color: #808000; text-decoration-color: #808000\">d_ff</span>=<span style=\"color: #800080; text-decoration-color: #800080; font-style: italic\">None</span>,\n",
       "<span style=\"color: #7fbf7f; text-decoration-color: #7fbf7f\">│   </span><span style=\"color: #808000; text-decoration-color: #808000\">H</span>=<span style=\"color: #008080; text-decoration-color: #008080; font-weight: bold\">8</span>,\n",
       "<span style=\"color: #7fbf7f; text-decoration-color: #7fbf7f\">│   </span><span style=\"color: #808000; text-decoration-color: #808000\">vocab_size</span>=<span style=\"color: #008080; text-decoration-color: #008080; font-weight: bold\">50257</span>,\n",
       "<span style=\"color: #7fbf7f; text-decoration-color: #7fbf7f\">│   </span><span style=\"color: #808000; text-decoration-color: #808000\">num_decoder_blocks</span>=<span style=\"color: #008080; text-decoration-color: #008080; font-weight: bold\">6</span>\n",
       "<span style=\"font-weight: bold\">)</span>\n",
       "</pre>\n"
      ],
      "text/plain": [
       "\u001b[1;35mComposer\u001b[0m\u001b[1m(\u001b[0m\n",
       "\u001b[2;32m│   \u001b[0m\u001b[33mseed\u001b[0m=\u001b[1;36m2024\u001b[0m,\n",
       "\u001b[2;32m│   \u001b[0m\u001b[33mdebug\u001b[0m=\u001b[3;92mTrue\u001b[0m,\n",
       "\u001b[2;32m│   \u001b[0m\u001b[33murl\u001b[0m=\u001b[32m'https://raw.githubusercontent.com/karpathy/char-rnn/master/data/tinyshakespeare/input.txt'\u001b[0m,\n",
       "\u001b[2;32m│   \u001b[0m\u001b[33mdataset_name\u001b[0m=\u001b[32m'tinyshakespeare'\u001b[0m,\n",
       "\u001b[2;32m│   \u001b[0m\u001b[33mdata_folder\u001b[0m=\u001b[32m'./data/tinyshakespeare'\u001b[0m,\n",
       "\u001b[2;32m│   \u001b[0m\u001b[33mtrain_path\u001b[0m=\u001b[1;35mPosixPath\u001b[0m\u001b[1m(\u001b[0m\u001b[32m'data/tinyshakespeare/train.txt'\u001b[0m\u001b[1m)\u001b[0m,\n",
       "\u001b[2;32m│   \u001b[0m\u001b[33mvalid_path\u001b[0m=\u001b[1;35mPosixPath\u001b[0m\u001b[1m(\u001b[0m\u001b[32m'data/tinyshakespeare/valid.txt'\u001b[0m\u001b[1m)\u001b[0m,\n",
       "\u001b[2;32m│   \u001b[0m\u001b[33mencoding_name\u001b[0m=\u001b[32m'gpt2'\u001b[0m,\n",
       "\u001b[2;32m│   \u001b[0m\u001b[33mbatch_size\u001b[0m=\u001b[1;36m2\u001b[0m,\n",
       "\u001b[2;32m│   \u001b[0m\u001b[33mblock_size\u001b[0m=\u001b[1;36m8\u001b[0m,\n",
       "\u001b[2;32m│   \u001b[0m\u001b[33mdevice_type\u001b[0m=\u001b[32m'cpu'\u001b[0m,\n",
       "\u001b[2;32m│   \u001b[0m\u001b[33mdevice\u001b[0m=\u001b[1;35mdevice\u001b[0m\u001b[1m(\u001b[0m\u001b[33mtype\u001b[0m=\u001b[32m'cpu'\u001b[0m\u001b[1m)\u001b[0m,\n",
       "\u001b[2;32m│   \u001b[0m\u001b[33md_model\u001b[0m=\u001b[1;36m4\u001b[0m,\n",
       "\u001b[2;32m│   \u001b[0m\u001b[33md_ff\u001b[0m=\u001b[3;35mNone\u001b[0m,\n",
       "\u001b[2;32m│   \u001b[0m\u001b[33mH\u001b[0m=\u001b[1;36m8\u001b[0m,\n",
       "\u001b[2;32m│   \u001b[0m\u001b[33mvocab_size\u001b[0m=\u001b[1;36m50257\u001b[0m,\n",
       "\u001b[2;32m│   \u001b[0m\u001b[33mnum_decoder_blocks\u001b[0m=\u001b[1;36m6\u001b[0m\n",
       "\u001b[1m)\u001b[0m\n"
      ]
     },
     "metadata": {},
     "output_type": "display_data"
    }
   ],
   "source": [
    "class Composer(BaseModel):\n",
    "    seed: int = 2024\n",
    "    debug: bool = False\n",
    "\n",
    "    url: str = \"https://raw.githubusercontent.com/karpathy/char-rnn/master/data/tinyshakespeare/input.txt\"\n",
    "    dataset_name: str = \"tinyshakespeare\"\n",
    "    data_folder: str = Field(default=\"./data/tinyshakespeare\", description=\"Path to the data folder\")\n",
    "\n",
    "    train_path: Path = Field(None, description=\"Path to the train file\")\n",
    "    valid_path: Path = Field(None, description=\"Path to the valid file\")\n",
    "\n",
    "    encoding_name: Literal['gpt2', 'r50k_base', 'p50k_base', 'p50k_edit', 'cl100k_base'] = \"gpt2\"\n",
    "\n",
    "    batch_size: int = Field(default=64, description=\"Batch size\")\n",
    "    block_size: int = Field(default=128, description=\"Block size, an alias for max length/context window size.\", alias=\"context_length\")\n",
    "    device_type: Literal[\"cpu\", \"cuda\"] = \"cpu\"\n",
    "    device: torch.device = Field(None, description=\"Device to use\")\n",
    "\n",
    "    # model parameters\n",
    "    d_model: int = Field(default=512, description=\"Dimension of the model\")\n",
    "    d_ff: int = Field(default=None, description=\"Dimension of the feed forward layer\")\n",
    "    H: int = Field(default=8, description=\"Number of heads\", alias=\"num_heads\")\n",
    "    vocab_size: int = Field(default=50257, description=\"Vocabulary size\")\n",
    "    num_decoder_blocks: int = Field(default=6, description=\"Number of decoder blocks\")\n",
    "\n",
    "\n",
    "    @model_validator(mode=\"after\")\n",
    "    def set_train_valid_paths(self) -> Composer:\n",
    "        self.train_path = Path(self.data_folder) / \"train.txt\"\n",
    "        self.valid_path = Path(self.data_folder) / \"valid.txt\"\n",
    "        return self\n",
    "\n",
    "    @model_validator(mode=\"after\")\n",
    "    def set_device(self) -> Composer:\n",
    "        self.device = torch.device(self.device_type)\n",
    "        return self\n",
    "\n",
    "    @model_validator(mode=\"after\")\n",
    "    def set_debug_fields(self) -> Composer:\n",
    "        if self.debug:\n",
    "            self.batch_size = 2\n",
    "            self.block_size = 8\n",
    "            self.d_model = 4\n",
    "        return self\n",
    "\n",
    "    class Config:\n",
    "        extra = \"forbid\"\n",
    "        arbitrary_types_allowed = True\n",
    "\n",
    "composer = Composer(debug=True)\n",
    "pprint(composer)\n"
   ]
  },
  {
   "cell_type": "markdown",
   "metadata": {},
   "source": [
    "## Reproducibility"
   ]
  },
  {
   "cell_type": "code",
   "execution_count": 298,
   "metadata": {},
   "outputs": [],
   "source": [
    "def configure_deterministic_mode() -> None:\n",
    "    \"\"\"\n",
    "    See https://pytorch.org/docs/stable/generated/torch.use_deterministic_algorithms.html\n",
    "    and https://docs.nvidia.com/cuda/cublas/index.html#cublasApi_reproducibility\n",
    "    \"\"\"\n",
    "    # fmt: off\n",
    "    torch.use_deterministic_algorithms(True, warn_only=True)\n",
    "    torch.backends.cudnn.benchmark        = False\n",
    "    torch.backends.cudnn.deterministic    = True\n",
    "    torch.backends.cudnn.enabled          = False\n",
    "\n",
    "    os.environ['CUBLAS_WORKSPACE_CONFIG'] = ':4096:8'\n",
    "    # fmt: on\n",
    "    warnings.warn(\n",
    "        \"Deterministic mode is activated. This will negatively impact performance and may cause increase in CUDA memory footprint.\",\n",
    "        category=UserWarning,\n",
    "        stacklevel=2,\n",
    "    )\n",
    "\n",
    "\n",
    "def seed_all(\n",
    "    seed: int = 1992,\n",
    "    seed_torch: bool = True,\n",
    "    set_torch_deterministic: bool = True,\n",
    ") -> int:\n",
    "    \"\"\"\n",
    "    Seed all random number generators.\n",
    "\n",
    "    Parameters\n",
    "    ----------\n",
    "    seed : int\n",
    "        Seed number to be used, by default 1992.\n",
    "    seed_torch : bool\n",
    "        Whether to seed PyTorch or not, by default True.\n",
    "\n",
    "    Returns\n",
    "    -------\n",
    "    seed: int\n",
    "        The seed number.\n",
    "    \"\"\"\n",
    "    # fmt: off\n",
    "    os.environ[\"PYTHONHASHSEED\"] = str(seed)       # set PYTHONHASHSEED env var at fixed value\n",
    "    np.random.default_rng(seed)                    # numpy pseudo-random generator\n",
    "    random.seed(seed)                              # python's built-in pseudo-random generator\n",
    "\n",
    "    if seed_torch:\n",
    "        torch.manual_seed(seed)\n",
    "        torch.cuda.manual_seed_all(seed)           # pytorch (both CPU and CUDA)\n",
    "        torch.backends.cudnn.deterministic = True\n",
    "        torch.backends.cudnn.benchmark = False\n",
    "        torch.backends.cudnn.enabled = False\n",
    "\n",
    "        if set_torch_deterministic:\n",
    "            configure_deterministic_mode()\n",
    "    # fmt: on\n",
    "    return seed"
   ]
  },
  {
   "cell_type": "code",
   "execution_count": 299,
   "metadata": {},
   "outputs": [
    {
     "data": {
      "text/plain": [
       "torch.Size([1, 1, 10, 10])"
      ]
     },
     "execution_count": 299,
     "metadata": {},
     "output_type": "execute_result"
    }
   ],
   "source": [
    "attention_weights = torch.eye(10).reshape((1, 1, 10, 10))\n",
    "attention_weights.shape"
   ]
  },
  {
   "cell_type": "code",
   "execution_count": 300,
   "metadata": {},
   "outputs": [
    {
     "data": {
      "text/plain": [
       "2024"
      ]
     },
     "execution_count": 300,
     "metadata": {},
     "output_type": "execute_result"
    }
   ],
   "source": [
    "seed_all(composer.seed, seed_torch=True, set_torch_deterministic=False)"
   ]
  },
  {
   "cell_type": "markdown",
   "metadata": {},
   "source": [
    "## Tokenization and Vocabulary\n",
    "\n",
    "- https://huggingface.co/learn/nlp-course/chapter2/4?fw=pt\n",
    "- https://github.com/openai/tiktoken\n",
    "- https://github.com/openai/openai-cookbook/blob/main/examples/How_to_count_tokens_with_tiktoken.ipynb\n",
    "\n",
    "Language models don't see text like you and I, instead they see a sequence of numbers (known as tokens). Byte pair encoding (BPE) is a way of converting text into tokens. It has a couple desirable properties[^1]:\n",
    "\n",
    "- It's reversible and lossless, so you can convert tokens back into the original text\n",
    "- It works on arbitrary text, even text that is not in the tokeniser's training data\n",
    "- It compresses the text: the token sequence is shorter than the bytes corresponding to the original text. On average, in practice, each token corresponds to about 4 bytes.\n",
    "- It attempts to let the model see common subwords. For instance, \"ing\" is a common subword in English, so BPE encodings will often split \"encoding\" into tokens like \"encod\" and \"ing\" (instead of e.g. \"enc\" and \"oding\"). Because the model will then see the \"ing\" token again and again in different contexts, it helps models generalise and better understand grammar."
   ]
  },
  {
   "cell_type": "code",
   "execution_count": 301,
   "metadata": {},
   "outputs": [],
   "source": [
    "def am_i_in_jupyter() -> bool:\n",
    "    try:\n",
    "        from IPython import get_ipython\n",
    "        if \"IPKernelApp\" not in get_ipython().config:\n",
    "            return False\n",
    "    except ImportError:\n",
    "        return False\n",
    "    return True\n",
    "\n",
    "IN_JUPYTER = am_i_in_jupyter()"
   ]
  },
  {
   "cell_type": "code",
   "execution_count": 302,
   "metadata": {},
   "outputs": [],
   "source": [
    "def download(url: str, dataset_name: str, dest_folder: Path | str) -> Path:\n",
    "    dest_folder_path = Path(dest_folder)\n",
    "\n",
    "    dest_folder_path.mkdir(parents=True, exist_ok=True)\n",
    "\n",
    "    filepath = dest_folder_path / f\"{dataset_name}.txt\"\n",
    "\n",
    "    response = requests.get(url, stream=True)\n",
    "    corpus = response.text\n",
    "    response.raise_for_status()\n",
    "\n",
    "    with open(filepath, \"wb\") as f:\n",
    "        for chunk in response.iter_content(chunk_size=8192):\n",
    "            f.write(chunk)\n",
    "\n",
    "    return filepath, corpus"
   ]
  },
  {
   "cell_type": "code",
   "execution_count": 303,
   "metadata": {},
   "outputs": [
    {
     "data": {
      "text/html": [
       "<pre style=\"white-space:pre;overflow-x:auto;line-height:normal;font-family:Menlo,'DejaVu Sans Mono',consolas,'Courier New',monospace\"><span style=\"color: #800080; text-decoration-color: #800080; font-weight: bold\">PosixPath</span><span style=\"font-weight: bold\">(</span><span style=\"color: #008000; text-decoration-color: #008000\">'data/tinyshakespeare/tinyshakespeare.txt'</span><span style=\"font-weight: bold\">)</span>\n",
       "</pre>\n"
      ],
      "text/plain": [
       "\u001b[1;35mPosixPath\u001b[0m\u001b[1m(\u001b[0m\u001b[32m'data/tinyshakespeare/tinyshakespeare.txt'\u001b[0m\u001b[1m)\u001b[0m\n"
      ]
     },
     "metadata": {},
     "output_type": "display_data"
    },
    {
     "name": "stdout",
     "output_type": "stream",
     "text": [
      "First Citizen:\n",
      "Before we proceed any further, hear me speak.\n",
      "\n",
      "All:\n",
      "Speak, speak.\n",
      "\n",
      "First Citizen:\n",
      "You\n"
     ]
    }
   ],
   "source": [
    "filepath, corpus = download(composer.url, composer.dataset_name, composer.data_folder)\n",
    "pprint(filepath)\n",
    "print(corpus[:100])"
   ]
  },
  {
   "cell_type": "code",
   "execution_count": 304,
   "metadata": {},
   "outputs": [
    {
     "data": {
      "text/plain": [
       "(['gpt2', 'r50k_base', 'p50k_base', 'p50k_edit', 'cl100k_base'], 50257)"
      ]
     },
     "execution_count": 304,
     "metadata": {},
     "output_type": "execute_result"
    }
   ],
   "source": [
    "N = len(corpus)\n",
    "train_data = corpus[: int(N * 0.9)]\n",
    "valid_data = corpus[int(N * 0.9) :]\n",
    "\n",
    "# encode with tiktoken gpt2 bpe\n",
    "tokenizer = tiktoken.get_encoding(composer.encoding_name)\n",
    "tiktoken.list_encoding_names(), tokenizer.n_vocab"
   ]
  },
  {
   "cell_type": "code",
   "execution_count": 305,
   "metadata": {},
   "outputs": [
    {
     "name": "stdout",
     "output_type": "stream",
     "text": [
      "train has 301,966 tokens\n",
      "val has 36,059 tokens\n"
     ]
    }
   ],
   "source": [
    "train_ids = tokenizer.encode_ordinary(train_data)\n",
    "valid_ids = tokenizer.encode_ordinary(valid_data)\n",
    "print(f\"train has {len(train_ids):,} tokens\")\n",
    "print(f\"val has {len(valid_ids):,} tokens\")"
   ]
  },
  {
   "cell_type": "code",
   "execution_count": 306,
   "metadata": {},
   "outputs": [
    {
     "name": "stdout",
     "output_type": "stream",
     "text": [
      "First Citizen\n",
      "--------------------------------------------------------------------------------\n",
      "First Citizen:\n",
      "Before we proceed any further, hear me speak.\n",
      "\n",
      "All:\n",
      "Speak, speak.\n",
      "\n",
      "First Citizen:\n",
      "You are all resolved rather to die than to famish?\n",
      "\n",
      "All:\n",
      "Resolved. resolved.\n",
      "\n",
      "First Citizen:\n",
      "First, you know Caius Marcius is chief enemy to the people.\n",
      "\n",
      "All:\n",
      "We know't, we know't.\n",
      "\n",
      "First Citizen:\n",
      "Let us kill him, and we\n"
     ]
    }
   ],
   "source": [
    "print(tokenizer.decode(train_ids[:2]))\n",
    "print(\"-\" * 80)\n",
    "print(tokenizer.decode(train_ids[:100]))\n"
   ]
  },
  {
   "cell_type": "code",
   "execution_count": 307,
   "metadata": {},
   "outputs": [],
   "source": [
    "# export to bin files\n",
    "train_ids = np.array(train_ids, dtype=np.uint16)\n",
    "valid_ids = np.array(valid_ids, dtype=np.uint16)\n",
    "\n",
    "train_ids.tofile(composer.train_path)\n",
    "valid_ids.tofile(composer.valid_path)\n",
    "\n",
    "# train.bin has 301,966 tokens\n",
    "# val.bin has 36,059 tokens"
   ]
  },
  {
   "cell_type": "markdown",
   "metadata": {},
   "source": [
    "### STOI (TODO)\n",
    "\n",
    "- The first `input` is the sentence `hello bot`.\n",
    "- The tokenization is `[0, 3, 4, 1]` which correctly maps to the tokens `[<SOS>, hello, bot, <EOS>]` as per the `stoi` mapping.\n",
    "- The shape is `[1, 4]` because we have one sentence with 4 tokens, where the first token is the `<SOS>` token and the last token is the `<EOS>` token.\n",
    "    - In this context, the first dimension of the shape corresponds to the number of sentences (or samples) in the batch, and the second dimension corresponds to the number of tokens in each sentence.\n",
    "\n",
    "---\n",
    "\n",
    "In mathematical terms, we have:\n",
    "\n",
    "- The vocabulary $\\mathcal{V}$ consists of the unique tokens $\\{\\text{<SOS>, <EOS>, <PAD>, hello, bot, human}\\}$ in our text data. The size of the vocabulary is $V = |\\mathcal{V}| = 6$.\n",
    "\n",
    "- We define a function $f_{\\text{stoi}}$ that maps each token in our vocabulary to a unique integer index. \n",
    "  \n",
    "  $$\n",
    "  \\begin{aligned}\n",
    "  f_{\\text{stoi}}: \\mathcal{V} &\\to \\{0, 1, ..., V-1\\} \\\\\n",
    "  v &\\mapsto f_{\\text{stoi}}(v)\n",
    "  \\end{aligned}\n",
    "  $$\n",
    "  \n",
    "  This function represents the `stoi` mapping in the code. For example, $f_{\\text{stoi}}(\\text{<SOS>}) = 0$, $f_{\\text{stoi}}(\\text{hello}) = 3$, etc.\n",
    "\n",
    "- A sequence of text, such as the sentence \"hello bot\", is represented as a sequence of token indices $X=(x_1, x_2, x_3, x_4)$ using the $f_{\\text{stoi}}$ mapping. For the sentence \"hello bot\", we have:\n",
    "  \n",
    "    $$\n",
    "    \\begin{aligned}\n",
    "    \\mathbf{X} &= (f_{\\text{stoi}}(\\text{<SOS>}), f_{\\text{stoi}}(\\text{hello}), f_{{\\text{stoi}}}(\\text{bot}), f_{\\text{stoi}}(\\text{<EOS>})) \\\\\n",
    "    &= (0, 3, 4, 1)\n",
    "    \\end{aligned}\n",
    "    $$\n",
    "\n",
    "- Although $\\mathbf{X}$ is a sequence, we can consider it to be a vector:\n",
    "\n",
    "    $$\n",
    "    \\mathbf{X} = \\begin{bmatrix} 0 & 3 & 4 & 1 \\end{bmatrix} \\in \\mathbb{Z}^{1 \\times 4}\n",
    "    $$\n",
    "\n",
    "    which correctly corresponds to the shape `[1, 4]` in the code."
   ]
  },
  {
   "cell_type": "markdown",
   "metadata": {},
   "source": [
    "## Dataset and Dataloading (Poor Man's Dataloader)\n",
    "\n",
    "**TODO: to bridge the gap between the previous section and this one, we need to\n",
    "explain why we need to construct a dataset.**\n",
    "\n",
    "---\n",
    "\n",
    "As Karpathy puts it, he implemented a poor man's\n",
    "[dataloader](https://pytorch.org/tutorials/beginner/basics/data_tutorial.html).\n",
    "We will start by dissecting the code and understanding how it works and finally,\n",
    "show that everything can be done with PyTorch's `Dataset` and `Dataloader`."
   ]
  },
  {
   "cell_type": "markdown",
   "metadata": {},
   "source": [
    "### Memory Mapping\n",
    "\n",
    "Firstly, Karpathy uses `numpy`'s\n",
    "[memory mapping](https://numpy.org/doc/stable/reference/generated/numpy.memmap.html)\n",
    "(`numpy.memmap`) to load the data. Memory mapping is used to create a\n",
    "memory-mapped array from a binary file. This involves mapping the contents of a\n",
    "file directly into the virtual memory space of the calling process. This allows\n",
    "applications to access the file data as if it were loaded in memory, using\n",
    "pointer operations or array indexing, without the need for explicit read or\n",
    "write operations.\n",
    "\n",
    "This essentially means that you can access small segments of a large file\n",
    "without having to load the entire file into memory. The concept draws\n",
    "similarities to the use of [generators](https://wiki.python.org/moin/Generators)\n",
    "in Python, where you can iterate over a large dataset without having to load the\n",
    "entire dataset into memory."
   ]
  },
  {
   "cell_type": "code",
   "execution_count": 308,
   "metadata": {},
   "outputs": [
    {
     "name": "stdout",
     "output_type": "stream",
     "text": [
      "data_dtype: uint16, data_shape: (301966,)\n"
     ]
    }
   ],
   "source": [
    "train_data = np.memmap(composer.train_path, dtype=np.uint16, mode=\"r\")\n",
    "train_data_dtype = train_data.dtype\n",
    "train_data_shape = train_data.shape\n",
    "\n",
    "print(f\"data_dtype: {train_data_dtype}, data_shape: {train_data_shape}\")"
   ]
  },
  {
   "cell_type": "markdown",
   "metadata": {},
   "source": [
    "We see that the shape of train data is `(301966,)`, which means that it is a 1D (flattened) array \n",
    "with $301966$ elements - this is basically the length of the entire train corpus, in terms of\n",
    "tokens."
   ]
  },
  {
   "cell_type": "markdown",
   "metadata": {},
   "source": [
    "### Notation, Context Length, Shuffling and Batching"
   ]
  },
  {
   "cell_type": "markdown",
   "metadata": {},
   "source": [
    "However, we are not going to pass the entire training corpus as is to the model.\n",
    "Instead, we are going to pass a **batch** of sequences (each sequence of length\n",
    "`context_length`) to the model at a time.\n",
    "\n",
    "#### Notation\n",
    "\n",
    "Let's consider a sequence $\\mathbf{x} = (x_1, x_2, \\ldots, x_T)$, where:\n",
    "\n",
    "-   $x_t$ represents the $t$-th token in the sequence,\n",
    "-   Each token $x_t$ is an element of a predefined vocabulary $\\mathcal{V} := \\mathcal{X}$,\n",
    "-   $T$ denotes the total number of tokens in the sequence, i.e., the sequence\n",
    "    length.\n",
    "\n",
    "In practice, we handle multiple sequences at once by grouping them into a batch.\n",
    "This batch, denoted as $\\mathcal{B}$, is then presented to the model for\n",
    "parallel processing.\n",
    "\n",
    "A batch of sequences is represented as a matrix $\\mathbf{X}$, where each row\n",
    "corresponds to a sequence in the batch. If the batch size is $\\mathcal{B}$ and\n",
    "each sequence within the batch has a fixed length $T$, then $\\mathbf{X}$ can be\n",
    "expressed as:\n",
    "\n",
    "$$\n",
    "    \\mathbf{X} = \\begin{bmatrix} x_{1,1} & x_{1,2} & \\ldots & x_{1,T} \\\\ x_{2,1}\n",
    "        & x_{2,2} & \\ldots & x_{2,T} \\\\ \\vdots & \\vdots & \\ddots & \\vdots \\\\ x_{\\mathcal{B},1} &\n",
    "        x_{\\mathcal{B},2} & \\ldots & x_{\\mathcal{B},T} \\\\\\end{bmatrix} \\in \\mathbb{Z}^{\\mathcal{B} \\times T}\n",
    "$$\n",
    "\n",
    "Here, $x_{i,j}$ denotes the $j$-th token in the $i$-th sequence of the batch.\n",
    "It's important to note that while we represent the sequences in a real-valued\n",
    "space $\\mathbb{Z}^{\\mathcal{B} \\times T}$ for mathematical convenience, in\n",
    "practice, each $x_{i,j}$ corresponds to a discrete token from the vocabulary\n",
    "$\\mathcal{X}$ so using $\\mathbb{Z}^{+}$ would be more appropriate."
   ]
  },
  {
   "cell_type": "markdown",
   "metadata": {},
   "source": [
    "#### Context Length / Block Size\n",
    "\n",
    "$T$ is often referred to as the sequence length, or in the context of GPT, it is\n",
    "the `block_size` or `context_length` or `max_seq_len`.\n",
    "\n",
    "It is the length of the sequence that the model will be trained on and is also\n",
    "the context length/context window that we often hear about.\n",
    "\n",
    "For example,\n",
    "[Gemini 1.5](https://blog.google/technology/ai/google-gemini-next-generation-model-february-2024)\n",
    "was announced to have a standard $128,000$ token context window, up to a maximum\n",
    "of $1$ million max length.\n",
    "\n",
    "Typically, I think that if your model is trained on a certain context length, it\n",
    "is not trivial to change it. For example, if you train a model on a context\n",
    "length of $128$, you cannot simply change it to $256$ without retraining the\n",
    "model. But it seems that it is increasingly possible to do so."
   ]
  },
  {
   "cell_type": "markdown",
   "metadata": {},
   "source": [
    "Let's look at an example, if we define our $L$ to be $32$, then we would expect each\n",
    "sequence to be of length $32$."
   ]
  },
  {
   "cell_type": "code",
   "execution_count": 309,
   "metadata": {},
   "outputs": [
    {
     "data": {
      "text/html": [
       "<pre style=\"white-space:pre;overflow-x:auto;line-height:normal;font-family:Menlo,'DejaVu Sans Mono',consolas,'Courier New',monospace\"><span style=\"color: #800080; text-decoration-color: #800080; font-weight: bold\">memmap</span><span style=\"font-weight: bold\">([</span> <span style=\"color: #008080; text-decoration-color: #008080; font-weight: bold\">5962</span>, <span style=\"color: #008080; text-decoration-color: #008080; font-weight: bold\">22307</span>,    <span style=\"color: #008080; text-decoration-color: #008080; font-weight: bold\">25</span>,   <span style=\"color: #008080; text-decoration-color: #008080; font-weight: bold\">198</span>,  <span style=\"color: #008080; text-decoration-color: #008080; font-weight: bold\">8421</span>,   <span style=\"color: #008080; text-decoration-color: #008080; font-weight: bold\">356</span>,  <span style=\"color: #008080; text-decoration-color: #008080; font-weight: bold\">5120</span>,   <span style=\"color: #008080; text-decoration-color: #008080; font-weight: bold\">597</span>,  <span style=\"color: #008080; text-decoration-color: #008080; font-weight: bold\">2252</span>,\n",
       "<span style=\"color: #7fbf7f; text-decoration-color: #7fbf7f\">│   │      </span><span style=\"color: #008080; text-decoration-color: #008080; font-weight: bold\">11</span>,  <span style=\"color: #008080; text-decoration-color: #008080; font-weight: bold\">3285</span>,   <span style=\"color: #008080; text-decoration-color: #008080; font-weight: bold\">502</span>,  <span style=\"color: #008080; text-decoration-color: #008080; font-weight: bold\">2740</span>,    <span style=\"color: #008080; text-decoration-color: #008080; font-weight: bold\">13</span>,   <span style=\"color: #008080; text-decoration-color: #008080; font-weight: bold\">198</span>,   <span style=\"color: #008080; text-decoration-color: #008080; font-weight: bold\">198</span>,  <span style=\"color: #008080; text-decoration-color: #008080; font-weight: bold\">3237</span>,    <span style=\"color: #008080; text-decoration-color: #008080; font-weight: bold\">25</span>,\n",
       "<span style=\"color: #7fbf7f; text-decoration-color: #7fbf7f\">│   │     </span><span style=\"color: #008080; text-decoration-color: #008080; font-weight: bold\">198</span>,  <span style=\"color: #008080; text-decoration-color: #008080; font-weight: bold\">5248</span>,   <span style=\"color: #008080; text-decoration-color: #008080; font-weight: bold\">461</span>,    <span style=\"color: #008080; text-decoration-color: #008080; font-weight: bold\">11</span>,  <span style=\"color: #008080; text-decoration-color: #008080; font-weight: bold\">2740</span>,    <span style=\"color: #008080; text-decoration-color: #008080; font-weight: bold\">13</span>,   <span style=\"color: #008080; text-decoration-color: #008080; font-weight: bold\">198</span>,   <span style=\"color: #008080; text-decoration-color: #008080; font-weight: bold\">198</span>,  <span style=\"color: #008080; text-decoration-color: #008080; font-weight: bold\">5962</span>,\n",
       "<span style=\"color: #7fbf7f; text-decoration-color: #7fbf7f\">│   │   </span><span style=\"color: #008080; text-decoration-color: #008080; font-weight: bold\">22307</span>,    <span style=\"color: #008080; text-decoration-color: #008080; font-weight: bold\">25</span>,   <span style=\"color: #008080; text-decoration-color: #008080; font-weight: bold\">198</span>,  <span style=\"color: #008080; text-decoration-color: #008080; font-weight: bold\">1639</span>,   <span style=\"color: #008080; text-decoration-color: #008080; font-weight: bold\">389</span><span style=\"font-weight: bold\">]</span>, <span style=\"color: #808000; text-decoration-color: #808000\">dtype</span>=<span style=\"color: #800080; text-decoration-color: #800080\">uint16</span><span style=\"font-weight: bold\">)</span>\n",
       "</pre>\n"
      ],
      "text/plain": [
       "\u001b[1;35mmemmap\u001b[0m\u001b[1m(\u001b[0m\u001b[1m[\u001b[0m \u001b[1;36m5962\u001b[0m, \u001b[1;36m22307\u001b[0m,    \u001b[1;36m25\u001b[0m,   \u001b[1;36m198\u001b[0m,  \u001b[1;36m8421\u001b[0m,   \u001b[1;36m356\u001b[0m,  \u001b[1;36m5120\u001b[0m,   \u001b[1;36m597\u001b[0m,  \u001b[1;36m2252\u001b[0m,\n",
       "\u001b[2;32m│   │      \u001b[0m\u001b[1;36m11\u001b[0m,  \u001b[1;36m3285\u001b[0m,   \u001b[1;36m502\u001b[0m,  \u001b[1;36m2740\u001b[0m,    \u001b[1;36m13\u001b[0m,   \u001b[1;36m198\u001b[0m,   \u001b[1;36m198\u001b[0m,  \u001b[1;36m3237\u001b[0m,    \u001b[1;36m25\u001b[0m,\n",
       "\u001b[2;32m│   │     \u001b[0m\u001b[1;36m198\u001b[0m,  \u001b[1;36m5248\u001b[0m,   \u001b[1;36m461\u001b[0m,    \u001b[1;36m11\u001b[0m,  \u001b[1;36m2740\u001b[0m,    \u001b[1;36m13\u001b[0m,   \u001b[1;36m198\u001b[0m,   \u001b[1;36m198\u001b[0m,  \u001b[1;36m5962\u001b[0m,\n",
       "\u001b[2;32m│   │   \u001b[0m\u001b[1;36m22307\u001b[0m,    \u001b[1;36m25\u001b[0m,   \u001b[1;36m198\u001b[0m,  \u001b[1;36m1639\u001b[0m,   \u001b[1;36m389\u001b[0m\u001b[1m]\u001b[0m, \u001b[33mdtype\u001b[0m=\u001b[35muint16\u001b[0m\u001b[1m)\u001b[0m\n"
      ]
     },
     "metadata": {},
     "output_type": "display_data"
    },
    {
     "name": "stdout",
     "output_type": "stream",
     "text": [
      "First Citizen:\n",
      "Before we proceed any further, hear me speak.\n",
      "\n",
      "All:\n",
      "Speak, speak.\n",
      "\n",
      "First Citizen:\n",
      "You are\n"
     ]
    }
   ],
   "source": [
    "first_sequence = train_data[0:0+32]\n",
    "pprint(first_sequence)\n",
    "\n",
    "first_sequence_decoded = tokenizer.decode(first_sequence)\n",
    "print(first_sequence_decoded)"
   ]
  },
  {
   "cell_type": "markdown",
   "metadata": {},
   "source": [
    "The example is just extracting $1$ such sequence $\\mathbf{x}$ from the train\n",
    "corpus. To leverage the prowess of linear algebra operations in CUDA, we would\n",
    "typically pass a batch of sequences $\\mathcal{B}$ to the model at a time.\n",
    "\n",
    "Furthermore, we would require some level of randomness in the sequences that we\n",
    "pass to the model to enable generalisation. You really do not want the model to\n",
    "overfit to an ordered sequence of tokens in the training corpus.\n",
    "\n",
    "To this end, let's see how Karpathy implements batching and shuffling of the\n",
    "sequences."
   ]
  },
  {
   "cell_type": "markdown",
   "metadata": {},
   "source": [
    "#### Shuffling and Discrete Uniform Sampling\n",
    "\n",
    "To enable shuffling, Karpathy generates a tensor of random integers (essentially a list of\n",
    "random integers), which serve as indices. These indices are used to select\n",
    "random sequences from the training (and validation) data.\n",
    "\n",
    "For simplicity, let's look at the case where batch size is reduced to $\\mathcal{B} = 1$.\n",
    "This means we only need to sample $1$ sequence from the training data - and consequently\n",
    "we only need $1$ random index.\n",
    "\n",
    "We can easily achieve this via `torch.randint` which generates random integers\n",
    "from a discrete uniform distribution over the half-open interval $[l, h)$,\n",
    "and since we only want to sample $1$ sequence, we set `size=(1,)`."
   ]
  },
  {
   "cell_type": "code",
   "execution_count": 310,
   "metadata": {},
   "outputs": [
    {
     "data": {
      "text/html": [
       "<pre style=\"white-space:pre;overflow-x:auto;line-height:normal;font-family:Menlo,'DejaVu Sans Mono',consolas,'Courier New',monospace\"><span style=\"color: #800080; text-decoration-color: #800080; font-weight: bold\">tensor</span><span style=\"font-weight: bold\">([</span><span style=\"color: #008080; text-decoration-color: #008080; font-weight: bold\">122484</span><span style=\"font-weight: bold\">])</span>\n",
       "</pre>\n"
      ],
      "text/plain": [
       "\u001b[1;35mtensor\u001b[0m\u001b[1m(\u001b[0m\u001b[1m[\u001b[0m\u001b[1;36m122484\u001b[0m\u001b[1m]\u001b[0m\u001b[1m)\u001b[0m\n"
      ]
     },
     "metadata": {},
     "output_type": "display_data"
    },
    {
     "data": {
      "text/html": [
       "<pre style=\"white-space:pre;overflow-x:auto;line-height:normal;font-family:Menlo,'DejaVu Sans Mono',consolas,'Courier New',monospace\"><span style=\"color: #800080; text-decoration-color: #800080; font-weight: bold\">torch.Size</span><span style=\"font-weight: bold\">([</span><span style=\"color: #008080; text-decoration-color: #008080; font-weight: bold\">1</span><span style=\"font-weight: bold\">])</span>\n",
       "</pre>\n"
      ],
      "text/plain": [
       "\u001b[1;35mtorch.Size\u001b[0m\u001b[1m(\u001b[0m\u001b[1m[\u001b[0m\u001b[1;36m1\u001b[0m\u001b[1m]\u001b[0m\u001b[1m)\u001b[0m\n"
      ]
     },
     "metadata": {},
     "output_type": "display_data"
    }
   ],
   "source": [
    "generator = torch.Generator(device=composer.device)\n",
    "\n",
    "generator.manual_seed(25)\n",
    "\n",
    "low, high = 0, len(train_data) - composer.block_size\n",
    "size = (1,)\n",
    "indices: torch.Tensor = torch.randint(low=low, high=high, size=size, generator=generator)\n",
    "pprint(indices)\n",
    "pprint(indices.shape)"
   ]
  },
  {
   "cell_type": "markdown",
   "metadata": {},
   "source": [
    "The mathematical operation performed by `torch.randint(low, high, size, generator)` can be described as drawing samples from a uniform discrete distribution. Each element of the resulting tensor is an independent and identically distributed {cite}`radford2019language` (i.i.d.) random variable $X_i$ with the following probability mass function (PMF):\n",
    "\n",
    "$$\n",
    "\\mathbb{P}(X_i = k) = \\frac{1}{h - l} \\quad \\text{for} \\, k = l, \\ldots, h-1 \n",
    "$$\n",
    "\n",
    "This PMF implies that each integer in the range $[l, h-1]$ has an equal probability of being selected."
   ]
  },
  {
   "cell_type": "markdown",
   "metadata": {},
   "source": [
    "In our demonstration, we selected a random index, specifically $136,016$, from\n",
    "our training dataset. This serves as a starting point for constructing a\n",
    "sequence, denoted as $\\mathbf{x}$. This sequence consists of the token found at\n",
    "the chosen index and extends to include the subsequent $T$ tokens, where $T$\n",
    "represents the block size. For the sake of simplicity, and to align with our\n",
    "predefined settings, we have chosen $T = 8$. This block size is predetermined in\n",
    "our `composer` configuration, activated specifically under a `debug` mode.\n",
    "\n",
    "In code, we can achieve this by slicing the training data from the random index\n",
    "to the random index plus the block size. This is done by `train_data[random_index:random_index+block_size]`."
   ]
  },
  {
   "cell_type": "code",
   "execution_count": 311,
   "metadata": {},
   "outputs": [
    {
     "data": {
      "text/html": [
       "<pre style=\"white-space:pre;overflow-x:auto;line-height:normal;font-family:Menlo,'DejaVu Sans Mono',consolas,'Courier New',monospace\"><span style=\"color: #800080; text-decoration-color: #800080; font-weight: bold\">memmap</span><span style=\"font-weight: bold\">([</span><span style=\"color: #008080; text-decoration-color: #008080; font-weight: bold\">11503</span>,   <span style=\"color: #008080; text-decoration-color: #008080; font-weight: bold\">290</span>, <span style=\"color: #008080; text-decoration-color: #008080; font-weight: bold\">21120</span>,    <span style=\"color: #008080; text-decoration-color: #008080; font-weight: bold\">30</span>,   <span style=\"color: #008080; text-decoration-color: #008080; font-weight: bold\">880</span>,   <span style=\"color: #008080; text-decoration-color: #008080; font-weight: bold\">788</span>,    <span style=\"color: #008080; text-decoration-color: #008080; font-weight: bold\">11</span>, <span style=\"color: #008080; text-decoration-color: #008080; font-weight: bold\">29448</span><span style=\"font-weight: bold\">]</span>,\n",
       "<span style=\"color: #7fbf7f; text-decoration-color: #7fbf7f\">│      </span><span style=\"color: #808000; text-decoration-color: #808000\">dtype</span>=<span style=\"color: #800080; text-decoration-color: #800080\">uint16</span><span style=\"font-weight: bold\">)</span>\n",
       "</pre>\n"
      ],
      "text/plain": [
       "\u001b[1;35mmemmap\u001b[0m\u001b[1m(\u001b[0m\u001b[1m[\u001b[0m\u001b[1;36m11503\u001b[0m,   \u001b[1;36m290\u001b[0m, \u001b[1;36m21120\u001b[0m,    \u001b[1;36m30\u001b[0m,   \u001b[1;36m880\u001b[0m,   \u001b[1;36m788\u001b[0m,    \u001b[1;36m11\u001b[0m, \u001b[1;36m29448\u001b[0m\u001b[1m]\u001b[0m,\n",
       "\u001b[2;32m│      \u001b[0m\u001b[33mdtype\u001b[0m=\u001b[35muint16\u001b[0m\u001b[1m)\u001b[0m\n"
      ]
     },
     "metadata": {},
     "output_type": "display_data"
    },
    {
     "data": {
      "text/html": [
       "<pre style=\"white-space:pre;overflow-x:auto;line-height:normal;font-family:Menlo,'DejaVu Sans Mono',consolas,'Courier New',monospace\"><span style=\"font-weight: bold\">(</span><span style=\"color: #008080; text-decoration-color: #008080; font-weight: bold\">8</span>,<span style=\"font-weight: bold\">)</span>\n",
       "</pre>\n"
      ],
      "text/plain": [
       "\u001b[1m(\u001b[0m\u001b[1;36m8\u001b[0m,\u001b[1m)\u001b[0m\n"
      ]
     },
     "metadata": {},
     "output_type": "display_data"
    },
    {
     "name": "stdout",
     "output_type": "stream",
     "text": [
      " priest and clerk? well then, amen\n"
     ]
    }
   ],
   "source": [
    "random_sequence = train_data[indices:indices+composer.block_size]\n",
    "pprint(random_sequence)\n",
    "pprint(random_sequence.shape)\n",
    "\n",
    "random_sequence_decoded = tokenizer.decode(random_sequence)\n",
    "print(tokenizer.decode(random_sequence))"
   ]
  },
  {
   "cell_type": "markdown",
   "metadata": {},
   "source": [
    "One might wonder why the highest value of the random integers is\n",
    "`len(self.train_data) - self.block_size`. This is mostly to prevent index out of\n",
    "range errors. As we shall soon see, we are using these `indices` to slice a\n",
    "sequence of length `block_size` from the data where you start slicing from the\n",
    "index `index` and end at `index + block_size`."
   ]
  },
  {
   "cell_type": "markdown",
   "metadata": {},
   "source": [
    "#### Batching\n",
    "\n",
    "Now that we understand how to sample a single sequence from the training data,\n",
    "let's look at how we can sample a batch of sequences.\n",
    "PyTorch made it easy for you, as we can just simply change the `size` parameter\n",
    "to `(batch_size,)` so we can sample $\\mathcal{B}$ number of indices - and\n",
    "consequently $\\mathcal{B}$ number of sequences.\n",
    "\n",
    "In our case, if we set $\\mathcal{B} = 2$, we would expect to get $2$ random\n",
    "indices."
   ]
  },
  {
   "cell_type": "code",
   "execution_count": 312,
   "metadata": {},
   "outputs": [
    {
     "data": {
      "text/html": [
       "<pre style=\"white-space:pre;overflow-x:auto;line-height:normal;font-family:Menlo,'DejaVu Sans Mono',consolas,'Courier New',monospace\"><span style=\"color: #800080; text-decoration-color: #800080; font-weight: bold\">tensor</span><span style=\"font-weight: bold\">([</span><span style=\"color: #008080; text-decoration-color: #008080; font-weight: bold\">122484</span>, <span style=\"color: #008080; text-decoration-color: #008080; font-weight: bold\">196406</span><span style=\"font-weight: bold\">])</span>\n",
       "</pre>\n"
      ],
      "text/plain": [
       "\u001b[1;35mtensor\u001b[0m\u001b[1m(\u001b[0m\u001b[1m[\u001b[0m\u001b[1;36m122484\u001b[0m, \u001b[1;36m196406\u001b[0m\u001b[1m]\u001b[0m\u001b[1m)\u001b[0m\n"
      ]
     },
     "metadata": {},
     "output_type": "display_data"
    },
    {
     "data": {
      "text/html": [
       "<pre style=\"white-space:pre;overflow-x:auto;line-height:normal;font-family:Menlo,'DejaVu Sans Mono',consolas,'Courier New',monospace\"><span style=\"color: #800080; text-decoration-color: #800080; font-weight: bold\">torch.Size</span><span style=\"font-weight: bold\">([</span><span style=\"color: #008080; text-decoration-color: #008080; font-weight: bold\">2</span><span style=\"font-weight: bold\">])</span>\n",
       "</pre>\n"
      ],
      "text/plain": [
       "\u001b[1;35mtorch.Size\u001b[0m\u001b[1m(\u001b[0m\u001b[1m[\u001b[0m\u001b[1;36m2\u001b[0m\u001b[1m]\u001b[0m\u001b[1m)\u001b[0m\n"
      ]
     },
     "metadata": {},
     "output_type": "display_data"
    }
   ],
   "source": [
    "generator = torch.Generator(device=composer.device)\n",
    "generator.manual_seed(25)\n",
    "low, high = 0, len(train_data) - composer.block_size\n",
    "size = (composer.batch_size,)\n",
    "indices: torch.Tensor = torch.randint(low=low, high=high, size=size, generator=generator)\n",
    "pprint(indices)\n",
    "pprint(indices.shape)"
   ]
  },
  {
   "cell_type": "markdown",
   "metadata": {},
   "source": [
    "We then construct a batch of \n",
    "input sequences $\\mathcal{B}$ by selecting the tokens at the\n",
    "indices $136,016$ and $197,976$ and the next $T$ tokens via a for loop - and using `torch.stack`\n",
    "to stack the sequences into a tensor of shape $\\mathbb{Z}^{\\mathcal{B} \\times L}$."
   ]
  },
  {
   "cell_type": "code",
   "execution_count": 313,
   "metadata": {},
   "outputs": [
    {
     "data": {
      "text/html": [
       "<pre style=\"white-space:pre;overflow-x:auto;line-height:normal;font-family:Menlo,'DejaVu Sans Mono',consolas,'Courier New',monospace\"><span style=\"color: #800080; text-decoration-color: #800080; font-weight: bold\">tensor</span><span style=\"font-weight: bold\">([[</span><span style=\"color: #008080; text-decoration-color: #008080; font-weight: bold\">11503</span>,   <span style=\"color: #008080; text-decoration-color: #008080; font-weight: bold\">290</span>, <span style=\"color: #008080; text-decoration-color: #008080; font-weight: bold\">21120</span>,    <span style=\"color: #008080; text-decoration-color: #008080; font-weight: bold\">30</span>,   <span style=\"color: #008080; text-decoration-color: #008080; font-weight: bold\">880</span>,   <span style=\"color: #008080; text-decoration-color: #008080; font-weight: bold\">788</span>,    <span style=\"color: #008080; text-decoration-color: #008080; font-weight: bold\">11</span>, <span style=\"color: #008080; text-decoration-color: #008080; font-weight: bold\">29448</span><span style=\"font-weight: bold\">]</span>,\n",
       "<span style=\"color: #7fbf7f; text-decoration-color: #7fbf7f\">│   │   </span><span style=\"font-weight: bold\">[</span>  <span style=\"color: #008080; text-decoration-color: #008080; font-weight: bold\">326</span>,  <span style=\"color: #008080; text-decoration-color: #008080; font-weight: bold\">8616</span>,   <span style=\"color: #008080; text-decoration-color: #008080; font-weight: bold\">373</span>, <span style=\"color: #008080; text-decoration-color: #008080; font-weight: bold\">14855</span>,    <span style=\"color: #008080; text-decoration-color: #008080; font-weight: bold\">13</span>,   <span style=\"color: #008080; text-decoration-color: #008080; font-weight: bold\">198</span>,   <span style=\"color: #008080; text-decoration-color: #008080; font-weight: bold\">198</span>, <span style=\"color: #008080; text-decoration-color: #008080; font-weight: bold\">37286</span><span style=\"font-weight: bold\">]])</span>\n",
       "</pre>\n"
      ],
      "text/plain": [
       "\u001b[1;35mtensor\u001b[0m\u001b[1m(\u001b[0m\u001b[1m[\u001b[0m\u001b[1m[\u001b[0m\u001b[1;36m11503\u001b[0m,   \u001b[1;36m290\u001b[0m, \u001b[1;36m21120\u001b[0m,    \u001b[1;36m30\u001b[0m,   \u001b[1;36m880\u001b[0m,   \u001b[1;36m788\u001b[0m,    \u001b[1;36m11\u001b[0m, \u001b[1;36m29448\u001b[0m\u001b[1m]\u001b[0m,\n",
       "\u001b[2;32m│   │   \u001b[0m\u001b[1m[\u001b[0m  \u001b[1;36m326\u001b[0m,  \u001b[1;36m8616\u001b[0m,   \u001b[1;36m373\u001b[0m, \u001b[1;36m14855\u001b[0m,    \u001b[1;36m13\u001b[0m,   \u001b[1;36m198\u001b[0m,   \u001b[1;36m198\u001b[0m, \u001b[1;36m37286\u001b[0m\u001b[1m]\u001b[0m\u001b[1m]\u001b[0m\u001b[1m)\u001b[0m\n"
      ]
     },
     "metadata": {},
     "output_type": "display_data"
    },
    {
     "data": {
      "text/html": [
       "<pre style=\"white-space:pre;overflow-x:auto;line-height:normal;font-family:Menlo,'DejaVu Sans Mono',consolas,'Courier New',monospace\"><span style=\"color: #800080; text-decoration-color: #800080; font-weight: bold\">torch.Size</span><span style=\"font-weight: bold\">([</span><span style=\"color: #008080; text-decoration-color: #008080; font-weight: bold\">2</span>, <span style=\"color: #008080; text-decoration-color: #008080; font-weight: bold\">8</span><span style=\"font-weight: bold\">])</span>\n",
       "</pre>\n"
      ],
      "text/plain": [
       "\u001b[1;35mtorch.Size\u001b[0m\u001b[1m(\u001b[0m\u001b[1m[\u001b[0m\u001b[1;36m2\u001b[0m, \u001b[1;36m8\u001b[0m\u001b[1m]\u001b[0m\u001b[1m)\u001b[0m\n"
      ]
     },
     "metadata": {},
     "output_type": "display_data"
    }
   ],
   "source": [
    "x = torch.stack([torch.from_numpy((train_data[index : index + composer.block_size]).astype(np.int64)) for index in indices])\n",
    "pprint(x)\n",
    "pprint(x.shape)"
   ]
  },
  {
   "cell_type": "markdown",
   "metadata": {},
   "source": [
    "It is worth reconciling the fact that the slicing uses `[index:index + block_size]` and\n",
    "therefore completes the reasoning behind the `len(self.train_data) - self.block_size` in\n",
    "the `torch.randint` function call - to prevent index out of range errors. Consider\n",
    "that if we do not subtract `block_size` from the length of the training data, we might\n",
    "end up with an index that is the last index of the training data, and when we add\n",
    "`block_size` to it, we would end up with an index that is out of range."
   ]
  },
  {
   "cell_type": "markdown",
   "metadata": {},
   "source": [
    "### Construction of Input and Target Sequences\n",
    "\n",
    "As we will define more formally later, GPT model is an autoregressive\n",
    "self-supervised learning model{cite}`math11112451` that directly learns a\n",
    "conditional probability distribution $\\mathbb{P}(x_t | x_{<t} ; \\Theta)$ over\n",
    "the vocabulary $\\mathcal{V}$ of tokens, which is conditioned on the entire\n",
    "history of tokens $x_{<t} = (x_1, x_2, \\ldots, x_{t-1})$.\n",
    "\n",
    "We have seen earlier how to construct an input sequence $\\mathbf{x}$ from the\n",
    "training data. To put things into perspective, we consider again the first\n",
    "sequence that we constructed from the training data:\n",
    "\n",
    "$$\n",
    "\\mathbf{x} = \\begin{bmatrix} 3194 & 612 & 11 & 290 & 284 & 606 & 910 & 11 \\end{bmatrix}\n",
    "$$\n",
    "\n",
    "representing the sentence `' written there, and to them say,'`.\n",
    "\n",
    "Given the autoregressive and self-supervised nature, in order to construct the\n",
    "target sequence $\\mathbf{y}$, we simply shift the input sequence by one token to\n",
    "the left. This means that the target sequence $\\mathbf{y}$ is:\n",
    "\n",
    "$$\n",
    "\\mathbf{y} = \\begin{bmatrix} 612 & 11 & 290 & 284 & 606 & 910 & 11 & 198 \\end{bmatrix}\n",
    "$$\n",
    "\n",
    "representing the sentence `' there, and to them say,\\n'`.\n",
    "\n",
    "This behaviour is autoregressive because we are using the context tokens\n",
    "$x_{<t}$ to predict the next token $x_t$, and self-supervised because we are\n",
    "using the input sequence $\\mathbf{x}$ to construct the target sequence\n",
    "$\\mathbf{y}$ without any external labels.\n",
    "\n",
    "To illustrate further, the prediction process during training is cumulative:\n",
    "\n",
    "-   For predicting $x_2$, the model uses $x_1$ as context:\n",
    "    $\\mathbb{P}\\left(x_2 \\mid x_1\\right)$.\n",
    "-   For predicting $x_3$, the model uses both $x_1$ and $x_2$ as context:\n",
    "    $\\mathbb{P}\\left(x_3 \\mid x_1, x_2\\right)$.\n",
    "-   This pattern continues, such that for predicting $x_t$, the model uses\n",
    "    $x_1, x_2, \\ldots, x_{t-1}$ as context:\n",
    "    $\\mathbb{P}\\left(x_t \\mid x_1, x_2, \\ldots, x_{t-1}\\right)$\n",
    "\n",
    "In code, we can achieve this by simply slicing the adding a `1` to the `index`\n",
    "in the `train_data` slicing operation."
   ]
  },
  {
   "cell_type": "code",
   "execution_count": 314,
   "metadata": {},
   "outputs": [
    {
     "data": {
      "text/html": [
       "<pre style=\"white-space:pre;overflow-x:auto;line-height:normal;font-family:Menlo,'DejaVu Sans Mono',consolas,'Courier New',monospace\"><span style=\"color: #800080; text-decoration-color: #800080; font-weight: bold\">tensor</span><span style=\"font-weight: bold\">([[</span>  <span style=\"color: #008080; text-decoration-color: #008080; font-weight: bold\">290</span>, <span style=\"color: #008080; text-decoration-color: #008080; font-weight: bold\">21120</span>,    <span style=\"color: #008080; text-decoration-color: #008080; font-weight: bold\">30</span>,   <span style=\"color: #008080; text-decoration-color: #008080; font-weight: bold\">880</span>,   <span style=\"color: #008080; text-decoration-color: #008080; font-weight: bold\">788</span>,    <span style=\"color: #008080; text-decoration-color: #008080; font-weight: bold\">11</span>, <span style=\"color: #008080; text-decoration-color: #008080; font-weight: bold\">29448</span>,    <span style=\"color: #008080; text-decoration-color: #008080; font-weight: bold\">13</span><span style=\"font-weight: bold\">]</span>,\n",
       "<span style=\"color: #7fbf7f; text-decoration-color: #7fbf7f\">│   │   </span><span style=\"font-weight: bold\">[</span> <span style=\"color: #008080; text-decoration-color: #008080; font-weight: bold\">8616</span>,   <span style=\"color: #008080; text-decoration-color: #008080; font-weight: bold\">373</span>, <span style=\"color: #008080; text-decoration-color: #008080; font-weight: bold\">14855</span>,    <span style=\"color: #008080; text-decoration-color: #008080; font-weight: bold\">13</span>,   <span style=\"color: #008080; text-decoration-color: #008080; font-weight: bold\">198</span>,   <span style=\"color: #008080; text-decoration-color: #008080; font-weight: bold\">198</span>, <span style=\"color: #008080; text-decoration-color: #008080; font-weight: bold\">37286</span>,   <span style=\"color: #008080; text-decoration-color: #008080; font-weight: bold\">406</span><span style=\"font-weight: bold\">]])</span>\n",
       "</pre>\n"
      ],
      "text/plain": [
       "\u001b[1;35mtensor\u001b[0m\u001b[1m(\u001b[0m\u001b[1m[\u001b[0m\u001b[1m[\u001b[0m  \u001b[1;36m290\u001b[0m, \u001b[1;36m21120\u001b[0m,    \u001b[1;36m30\u001b[0m,   \u001b[1;36m880\u001b[0m,   \u001b[1;36m788\u001b[0m,    \u001b[1;36m11\u001b[0m, \u001b[1;36m29448\u001b[0m,    \u001b[1;36m13\u001b[0m\u001b[1m]\u001b[0m,\n",
       "\u001b[2;32m│   │   \u001b[0m\u001b[1m[\u001b[0m \u001b[1;36m8616\u001b[0m,   \u001b[1;36m373\u001b[0m, \u001b[1;36m14855\u001b[0m,    \u001b[1;36m13\u001b[0m,   \u001b[1;36m198\u001b[0m,   \u001b[1;36m198\u001b[0m, \u001b[1;36m37286\u001b[0m,   \u001b[1;36m406\u001b[0m\u001b[1m]\u001b[0m\u001b[1m]\u001b[0m\u001b[1m)\u001b[0m\n"
      ]
     },
     "metadata": {},
     "output_type": "display_data"
    },
    {
     "data": {
      "text/html": [
       "<pre style=\"white-space:pre;overflow-x:auto;line-height:normal;font-family:Menlo,'DejaVu Sans Mono',consolas,'Courier New',monospace\"><span style=\"color: #800080; text-decoration-color: #800080; font-weight: bold\">torch.Size</span><span style=\"font-weight: bold\">([</span><span style=\"color: #008080; text-decoration-color: #008080; font-weight: bold\">2</span>, <span style=\"color: #008080; text-decoration-color: #008080; font-weight: bold\">8</span><span style=\"font-weight: bold\">])</span>\n",
       "</pre>\n"
      ],
      "text/plain": [
       "\u001b[1;35mtorch.Size\u001b[0m\u001b[1m(\u001b[0m\u001b[1m[\u001b[0m\u001b[1;36m2\u001b[0m, \u001b[1;36m8\u001b[0m\u001b[1m]\u001b[0m\u001b[1m)\u001b[0m\n"
      ]
     },
     "metadata": {},
     "output_type": "display_data"
    },
    {
     "data": {
      "text/plain": [
       "' and clerk? well then, amen.'"
      ]
     },
     "execution_count": 314,
     "metadata": {},
     "output_type": "execute_result"
    }
   ],
   "source": [
    "y = torch.stack([torch.from_numpy((train_data[index + 1: index + 1 + composer.block_size]).astype(np.int64)) for index in indices])\n",
    "pprint(y)\n",
    "pprint(y.shape)\n",
    "\n",
    "tokenizer.decode(y[0].numpy())"
   ]
  },
  {
   "cell_type": "markdown",
   "metadata": {},
   "source": [
    "### Asynchronous Data Loading and Prefetching\n",
    "\n",
    "As we approach the last part of the code, Karpathy moves `x` and `y` to the\n",
    "device and returns them."
   ]
  },
  {
   "cell_type": "code",
   "execution_count": 315,
   "metadata": {},
   "outputs": [],
   "source": [
    "if composer.device_type == \"cuda\":\n",
    "    # pin arrays x,y, which allows us to move them to GPU asynchronously (non_blocking=True)\n",
    "    x, y = x.pin_memory().to(composer.device, non_blocking=True), y.pin_memory().to(composer.device, non_blocking=True)\n",
    "else:\n",
    "    x, y = x.to(composer.device), y.to(composer.device)"
   ]
  },
  {
   "cell_type": "markdown",
   "metadata": {},
   "source": [
    "This is a common operation in PyTorch, where we move the data to the underlying\n",
    "device (CPU or GPU or MPS) to leverage the processing capabilities of the\n",
    "device. It goes without saying that modern deep learning models are trained on\n",
    "GPUs - and CUDA is the de facto standard for GPU-accelerated computing.\n",
    "\n",
    "CUDA allows a `pin_memory` and `non_blocking` parameter to be set when transferring\n",
    "tensor data from CPU to GPU. The `pin_memory` parameter is used to allow `.to(\"cuda\")`\n",
    "to be more [performant](https://devblogs.nvidia.com/how-optimize-data-transfers-cuda-cc/)\n",
    "as it avoids some implicit CPU-to-CPU copies. Tensors which are pinned in memory\n",
    "also allow the transfer from CPU to GPU to be done asynchronously via `non_blocking` with respect to\n",
    "the host[^2].\n",
    "\n",
    "It can be useful because we can do some other work in CPU while the data is being\n",
    "transferred to GPU. Consider the below scenario:\n",
    "\n",
    "- `tensor.pin_memory().to(\"cuda\", non_blocking=True)` will transfer the tensor\n",
    "  to the GPU asynchronously, and the CPU can continue doing some other work.\n",
    "- While waiting, CPU can do some other operations without waiting for the\n",
    "  transfer to complete,\n",
    "- Once `tensor` is transferred to the GPU, then we can do some other operations\n",
    "  on the GPU.\n",
    "\n",
    "What is worth noting is that CUDA manages the synchronization such that\n",
    "operations on the GPU will not start until the transfer is complete. However, CUDA\n",
    "programming is complex and is out of the scope of this post. Interested readers\n",
    "can see the reference section."
   ]
  },
  {
   "cell_type": "markdown",
   "metadata": {},
   "source": [
    "### Collating Everything Together"
   ]
  },
  {
   "cell_type": "code",
   "execution_count": 316,
   "metadata": {},
   "outputs": [],
   "source": [
    "def get_batch(\n",
    "    composer: Composer,\n",
    "    *,\n",
    "    split: Literal[\"train\", \"valid\"],\n",
    "    batch_size: int,\n",
    "    block_size: int,\n",
    "    generator: torch.Generator,\n",
    "    device: torch.device,\n",
    "    device_type: Literal[\"cpu\", \"cuda\"] = \"cpu\",\n",
    ") -> Tuple[torch.Tensor, torch.Tensor]:\n",
    "    # We recreate np.memmap every batch to avoid a memory leak, as per\n",
    "    # https://stackoverflow.com/questions/45132940/numpy-memmap-memory-usage-want-to-iterate-once/61472122#61472122\n",
    "    if split == \"train\":\n",
    "        data = np.memmap(composer.train_path, dtype=np.uint16, mode=\"r\")\n",
    "    else:\n",
    "        data = np.memmap(composer.valid_path, dtype=np.uint16, mode=\"r\")\n",
    "\n",
    "    low, high = 0, len(data) - block_size\n",
    "    size = (batch_size,)\n",
    "\n",
    "    indices = torch.randint(low=low, high=high, size=size, generator=generator)\n",
    "\n",
    "    x = torch.stack([torch.from_numpy((data[index : index + block_size]).astype(np.int64)) for index in indices])\n",
    "    y = torch.stack(\n",
    "        [torch.from_numpy((data[index + 1 : index + 1 + block_size]).astype(np.int64)) for index in indices]\n",
    "    )\n",
    "    if device_type == \"cuda\":\n",
    "        # pin arrays x,y, which allows us to move them to GPU asynchronously (non_blocking=True)\n",
    "        x, y = x.pin_memory().to(device, non_blocking=True), y.pin_memory().to(device, non_blocking=True)\n",
    "    else:\n",
    "        x, y = x.to(device), y.to(device)\n",
    "    return x, y"
   ]
  },
  {
   "cell_type": "code",
   "execution_count": 317,
   "metadata": {},
   "outputs": [
    {
     "data": {
      "text/html": [
       "<pre style=\"white-space:pre;overflow-x:auto;line-height:normal;font-family:Menlo,'DejaVu Sans Mono',consolas,'Courier New',monospace\"><span style=\"color: #800080; text-decoration-color: #800080; font-weight: bold\">tensor</span><span style=\"font-weight: bold\">([[</span><span style=\"color: #008080; text-decoration-color: #008080; font-weight: bold\">11503</span>,   <span style=\"color: #008080; text-decoration-color: #008080; font-weight: bold\">290</span>, <span style=\"color: #008080; text-decoration-color: #008080; font-weight: bold\">21120</span>,    <span style=\"color: #008080; text-decoration-color: #008080; font-weight: bold\">30</span>,   <span style=\"color: #008080; text-decoration-color: #008080; font-weight: bold\">880</span>,   <span style=\"color: #008080; text-decoration-color: #008080; font-weight: bold\">788</span>,    <span style=\"color: #008080; text-decoration-color: #008080; font-weight: bold\">11</span>, <span style=\"color: #008080; text-decoration-color: #008080; font-weight: bold\">29448</span><span style=\"font-weight: bold\">]</span>,\n",
       "<span style=\"color: #7fbf7f; text-decoration-color: #7fbf7f\">│   │   </span><span style=\"font-weight: bold\">[</span>  <span style=\"color: #008080; text-decoration-color: #008080; font-weight: bold\">326</span>,  <span style=\"color: #008080; text-decoration-color: #008080; font-weight: bold\">8616</span>,   <span style=\"color: #008080; text-decoration-color: #008080; font-weight: bold\">373</span>, <span style=\"color: #008080; text-decoration-color: #008080; font-weight: bold\">14855</span>,    <span style=\"color: #008080; text-decoration-color: #008080; font-weight: bold\">13</span>,   <span style=\"color: #008080; text-decoration-color: #008080; font-weight: bold\">198</span>,   <span style=\"color: #008080; text-decoration-color: #008080; font-weight: bold\">198</span>, <span style=\"color: #008080; text-decoration-color: #008080; font-weight: bold\">37286</span><span style=\"font-weight: bold\">]])</span>\n",
       "</pre>\n"
      ],
      "text/plain": [
       "\u001b[1;35mtensor\u001b[0m\u001b[1m(\u001b[0m\u001b[1m[\u001b[0m\u001b[1m[\u001b[0m\u001b[1;36m11503\u001b[0m,   \u001b[1;36m290\u001b[0m, \u001b[1;36m21120\u001b[0m,    \u001b[1;36m30\u001b[0m,   \u001b[1;36m880\u001b[0m,   \u001b[1;36m788\u001b[0m,    \u001b[1;36m11\u001b[0m, \u001b[1;36m29448\u001b[0m\u001b[1m]\u001b[0m,\n",
       "\u001b[2;32m│   │   \u001b[0m\u001b[1m[\u001b[0m  \u001b[1;36m326\u001b[0m,  \u001b[1;36m8616\u001b[0m,   \u001b[1;36m373\u001b[0m, \u001b[1;36m14855\u001b[0m,    \u001b[1;36m13\u001b[0m,   \u001b[1;36m198\u001b[0m,   \u001b[1;36m198\u001b[0m, \u001b[1;36m37286\u001b[0m\u001b[1m]\u001b[0m\u001b[1m]\u001b[0m\u001b[1m)\u001b[0m\n"
      ]
     },
     "metadata": {},
     "output_type": "display_data"
    },
    {
     "data": {
      "text/html": [
       "<pre style=\"white-space:pre;overflow-x:auto;line-height:normal;font-family:Menlo,'DejaVu Sans Mono',consolas,'Courier New',monospace\"><span style=\"color: #800080; text-decoration-color: #800080; font-weight: bold\">tensor</span><span style=\"font-weight: bold\">([[</span>  <span style=\"color: #008080; text-decoration-color: #008080; font-weight: bold\">290</span>, <span style=\"color: #008080; text-decoration-color: #008080; font-weight: bold\">21120</span>,    <span style=\"color: #008080; text-decoration-color: #008080; font-weight: bold\">30</span>,   <span style=\"color: #008080; text-decoration-color: #008080; font-weight: bold\">880</span>,   <span style=\"color: #008080; text-decoration-color: #008080; font-weight: bold\">788</span>,    <span style=\"color: #008080; text-decoration-color: #008080; font-weight: bold\">11</span>, <span style=\"color: #008080; text-decoration-color: #008080; font-weight: bold\">29448</span>,    <span style=\"color: #008080; text-decoration-color: #008080; font-weight: bold\">13</span><span style=\"font-weight: bold\">]</span>,\n",
       "<span style=\"color: #7fbf7f; text-decoration-color: #7fbf7f\">│   │   </span><span style=\"font-weight: bold\">[</span> <span style=\"color: #008080; text-decoration-color: #008080; font-weight: bold\">8616</span>,   <span style=\"color: #008080; text-decoration-color: #008080; font-weight: bold\">373</span>, <span style=\"color: #008080; text-decoration-color: #008080; font-weight: bold\">14855</span>,    <span style=\"color: #008080; text-decoration-color: #008080; font-weight: bold\">13</span>,   <span style=\"color: #008080; text-decoration-color: #008080; font-weight: bold\">198</span>,   <span style=\"color: #008080; text-decoration-color: #008080; font-weight: bold\">198</span>, <span style=\"color: #008080; text-decoration-color: #008080; font-weight: bold\">37286</span>,   <span style=\"color: #008080; text-decoration-color: #008080; font-weight: bold\">406</span><span style=\"font-weight: bold\">]])</span>\n",
       "</pre>\n"
      ],
      "text/plain": [
       "\u001b[1;35mtensor\u001b[0m\u001b[1m(\u001b[0m\u001b[1m[\u001b[0m\u001b[1m[\u001b[0m  \u001b[1;36m290\u001b[0m, \u001b[1;36m21120\u001b[0m,    \u001b[1;36m30\u001b[0m,   \u001b[1;36m880\u001b[0m,   \u001b[1;36m788\u001b[0m,    \u001b[1;36m11\u001b[0m, \u001b[1;36m29448\u001b[0m,    \u001b[1;36m13\u001b[0m\u001b[1m]\u001b[0m,\n",
       "\u001b[2;32m│   │   \u001b[0m\u001b[1m[\u001b[0m \u001b[1;36m8616\u001b[0m,   \u001b[1;36m373\u001b[0m, \u001b[1;36m14855\u001b[0m,    \u001b[1;36m13\u001b[0m,   \u001b[1;36m198\u001b[0m,   \u001b[1;36m198\u001b[0m, \u001b[1;36m37286\u001b[0m,   \u001b[1;36m406\u001b[0m\u001b[1m]\u001b[0m\u001b[1m]\u001b[0m\u001b[1m)\u001b[0m\n"
      ]
     },
     "metadata": {},
     "output_type": "display_data"
    }
   ],
   "source": [
    "generator = torch.Generator(device=composer.device)\n",
    "generator.manual_seed(25)\n",
    "train_batch = get_batch(composer, split=\"train\", batch_size=composer.batch_size, block_size=composer.block_size, device=composer.device, generator=generator)\n",
    "x, y = train_batch\n",
    "pprint(x)\n",
    "pprint(y)"
   ]
  },
  {
   "cell_type": "markdown",
   "metadata": {},
   "source": [
    "### Using PyTorch's Dataset and Dataloader\n",
    "\n",
    "It is relatively simple to understand - and since there is not a need to\n",
    "[collate](https://pytorch.org/docs/stable/data.html#dataloader-collate-fn) the\n",
    "data, which makes things a bit easier."
   ]
  },
  {
   "cell_type": "markdown",
   "metadata": {},
   "source": [
    "## Generative Pre-trained Transformer (GPT)"
   ]
  },
  {
   "cell_type": "markdown",
   "metadata": {},
   "source": [
    "## Token Embeddings\n",
    "\n",
    "First, we will look at the first sequence, given by `' priest and clerk? well then, amen'`,\n",
    "which we have already mapped to its corresponding token IDs.\n",
    "\n",
    "$$\n",
    "\\mathbf{x} = \\begin{bmatrix} 11503 & 290 & 21120 & 30 & 880 & 788 & 11 & 29448 \\end{bmatrix}\n",
    "$$\n",
    "\n",
    "The shape is $1 \\times 8$, which is a single sequence of $8$ tokens. And in this case, \n",
    "we have each word/punctuation mapped to a unique token ID, as seen below."
   ]
  },
  {
   "cell_type": "code",
   "execution_count": 318,
   "metadata": {},
   "outputs": [
    {
     "name": "stdout",
     "output_type": "stream",
     "text": [
      "Token ID: 11503, Token:  priest\n",
      "Token ID: 290, Token:  and\n",
      "Token ID: 21120, Token:  clerk\n",
      "Token ID: 30, Token: ?\n",
      "Token ID: 880, Token:  well\n",
      "Token ID: 788, Token:  then\n",
      "Token ID: 11, Token: ,\n",
      "Token ID: 29448, Token:  amen\n"
     ]
    }
   ],
   "source": [
    "for token in x[0]:\n",
    "    print(f\"Token ID: {token.item()}, Token: {tokenizer.decode([token.item()])}\")"
   ]
  },
  {
   "cell_type": "markdown",
   "metadata": {},
   "source": [
    "Next, we need to map each token to a vector (embeddings) in a high-dimensional\n",
    "space.\n",
    "\n",
    "The integer tokens, by themselves, do not carry much information. For example,\n",
    "the word `priest` is tokenized to be `11503`, which is an arbitrary integer. In\n",
    "a one-dimensional Euclidean space, the word `priest` and the next word `and`,\n",
    "indexed by `290`, **_would appear to be very far apart from each other_**.\n",
    "However, if we were to change a tokenizer, and somehow the word `priest` is now\n",
    "tokenized to be `291`, then the words `priest` and `and` **_would appear to be\n",
    "very near to each other_**.\n",
    "\n",
    "This means that the model could potentially learn the relationship of two tokens\n",
    "based solely on their tokenized integers. To address this, we use embedding\n",
    "vectors. While the initial mapping from words to vectors is dependent on the\n",
    "tokenizer and may be arbitrary, during training, the model adjusts these vectors\n",
    "so that words used in similar contexts come to have similar vectors. This allows\n",
    "the model to capture semantic relationships between words - and by extension,\n",
    "allows the model to capture relationships between tokens better."
   ]
  },
  {
   "cell_type": "code",
   "execution_count": 319,
   "metadata": {},
   "outputs": [
    {
     "data": {
      "text/html": [
       "<pre style=\"white-space:pre;overflow-x:auto;line-height:normal;font-family:Menlo,'DejaVu Sans Mono',consolas,'Courier New',monospace\"><span style=\"color: #008000; text-decoration-color: #008000\">' priest and clerk? well then, amen'</span>\n",
       "</pre>\n"
      ],
      "text/plain": [
       "\u001b[32m' priest and clerk? well then, amen'\u001b[0m\n"
      ]
     },
     "metadata": {},
     "output_type": "display_data"
    },
    {
     "data": {
      "text/html": [
       "<pre style=\"white-space:pre;overflow-x:auto;line-height:normal;font-family:Menlo,'DejaVu Sans Mono',consolas,'Courier New',monospace\"><span style=\"color: #800080; text-decoration-color: #800080; font-weight: bold\">tensor</span><span style=\"font-weight: bold\">([</span><span style=\"color: #008080; text-decoration-color: #008080; font-weight: bold\">11503</span>,   <span style=\"color: #008080; text-decoration-color: #008080; font-weight: bold\">290</span>, <span style=\"color: #008080; text-decoration-color: #008080; font-weight: bold\">21120</span>,    <span style=\"color: #008080; text-decoration-color: #008080; font-weight: bold\">30</span>,   <span style=\"color: #008080; text-decoration-color: #008080; font-weight: bold\">880</span>,   <span style=\"color: #008080; text-decoration-color: #008080; font-weight: bold\">788</span>,    <span style=\"color: #008080; text-decoration-color: #008080; font-weight: bold\">11</span>, <span style=\"color: #008080; text-decoration-color: #008080; font-weight: bold\">29448</span><span style=\"font-weight: bold\">])</span>\n",
       "</pre>\n"
      ],
      "text/plain": [
       "\u001b[1;35mtensor\u001b[0m\u001b[1m(\u001b[0m\u001b[1m[\u001b[0m\u001b[1;36m11503\u001b[0m,   \u001b[1;36m290\u001b[0m, \u001b[1;36m21120\u001b[0m,    \u001b[1;36m30\u001b[0m,   \u001b[1;36m880\u001b[0m,   \u001b[1;36m788\u001b[0m,    \u001b[1;36m11\u001b[0m, \u001b[1;36m29448\u001b[0m\u001b[1m]\u001b[0m\u001b[1m)\u001b[0m\n"
      ]
     },
     "metadata": {},
     "output_type": "display_data"
    }
   ],
   "source": [
    "x0 = x[0]\n",
    "pprint(tokenizer.decode(x0.cpu().numpy()))\n",
    "pprint(x0)"
   ]
  },
  {
   "cell_type": "code",
   "execution_count": 320,
   "metadata": {},
   "outputs": [
    {
     "data": {
      "text/html": [
       "<pre style=\"white-space:pre;overflow-x:auto;line-height:normal;font-family:Menlo,'DejaVu Sans Mono',consolas,'Courier New',monospace\"><span style=\"color: #800080; text-decoration-color: #800080; font-weight: bold\">tensor</span><span style=\"font-weight: bold\">([[</span><span style=\"color: #008080; text-decoration-color: #008080; font-weight: bold\">-1.0213</span>,  <span style=\"color: #008080; text-decoration-color: #008080; font-weight: bold\">0.3146</span>, <span style=\"color: #008080; text-decoration-color: #008080; font-weight: bold\">-0.2616</span>,  <span style=\"color: #008080; text-decoration-color: #008080; font-weight: bold\">0.3730</span><span style=\"font-weight: bold\">]</span>,\n",
       "<span style=\"color: #7fbf7f; text-decoration-color: #7fbf7f\">│   │   </span><span style=\"font-weight: bold\">[</span> <span style=\"color: #008080; text-decoration-color: #008080; font-weight: bold\">0.5715</span>,  <span style=\"color: #008080; text-decoration-color: #008080; font-weight: bold\">0.1229</span>, <span style=\"color: #008080; text-decoration-color: #008080; font-weight: bold\">-0.8145</span>, <span style=\"color: #008080; text-decoration-color: #008080; font-weight: bold\">-1.4164</span><span style=\"font-weight: bold\">]</span>,\n",
       "<span style=\"color: #7fbf7f; text-decoration-color: #7fbf7f\">│   │   </span><span style=\"font-weight: bold\">[</span> <span style=\"color: #008080; text-decoration-color: #008080; font-weight: bold\">0.4973</span>, <span style=\"color: #008080; text-decoration-color: #008080; font-weight: bold\">-1.1740</span>, <span style=\"color: #008080; text-decoration-color: #008080; font-weight: bold\">-0.6713</span>, <span style=\"color: #008080; text-decoration-color: #008080; font-weight: bold\">-0.1102</span><span style=\"font-weight: bold\">]</span>,\n",
       "<span style=\"color: #7fbf7f; text-decoration-color: #7fbf7f\">│   │   </span><span style=\"font-weight: bold\">[</span><span style=\"color: #008080; text-decoration-color: #008080; font-weight: bold\">-2.3167</span>,  <span style=\"color: #008080; text-decoration-color: #008080; font-weight: bold\">0.2943</span>,  <span style=\"color: #008080; text-decoration-color: #008080; font-weight: bold\">0.9573</span>,  <span style=\"color: #008080; text-decoration-color: #008080; font-weight: bold\">0.2935</span><span style=\"font-weight: bold\">]</span>,\n",
       "<span style=\"color: #7fbf7f; text-decoration-color: #7fbf7f\">│   │   </span><span style=\"font-weight: bold\">[</span> <span style=\"color: #008080; text-decoration-color: #008080; font-weight: bold\">0.0623</span>, <span style=\"color: #008080; text-decoration-color: #008080; font-weight: bold\">-0.1054</span>,  <span style=\"color: #008080; text-decoration-color: #008080; font-weight: bold\">0.8182</span>, <span style=\"color: #008080; text-decoration-color: #008080; font-weight: bold\">-2.4184</span><span style=\"font-weight: bold\">]</span>,\n",
       "<span style=\"color: #7fbf7f; text-decoration-color: #7fbf7f\">│   │   </span><span style=\"font-weight: bold\">[</span><span style=\"color: #008080; text-decoration-color: #008080; font-weight: bold\">-1.4016</span>,  <span style=\"color: #008080; text-decoration-color: #008080; font-weight: bold\">0.3422</span>, <span style=\"color: #008080; text-decoration-color: #008080; font-weight: bold\">-0.9704</span>, <span style=\"color: #008080; text-decoration-color: #008080; font-weight: bold\">-0.2435</span><span style=\"font-weight: bold\">]</span>,\n",
       "<span style=\"color: #7fbf7f; text-decoration-color: #7fbf7f\">│   │   </span><span style=\"font-weight: bold\">[</span><span style=\"color: #008080; text-decoration-color: #008080; font-weight: bold\">-0.0576</span>, <span style=\"color: #008080; text-decoration-color: #008080; font-weight: bold\">-0.0596</span>,  <span style=\"color: #008080; text-decoration-color: #008080; font-weight: bold\">0.2764</span>, <span style=\"color: #008080; text-decoration-color: #008080; font-weight: bold\">-0.2403</span><span style=\"font-weight: bold\">]</span>,\n",
       "<span style=\"color: #7fbf7f; text-decoration-color: #7fbf7f\">│   │   </span><span style=\"font-weight: bold\">[</span> <span style=\"color: #008080; text-decoration-color: #008080; font-weight: bold\">1.2707</span>, <span style=\"color: #008080; text-decoration-color: #008080; font-weight: bold\">-0.5865</span>, <span style=\"color: #008080; text-decoration-color: #008080; font-weight: bold\">-1.4099</span>, <span style=\"color: #008080; text-decoration-color: #008080; font-weight: bold\">-1.3797</span><span style=\"font-weight: bold\">]]</span>, <span style=\"color: #808000; text-decoration-color: #808000\">grad_fn</span>=<span style=\"font-weight: bold\">&lt;</span><span style=\"color: #ff00ff; text-decoration-color: #ff00ff; font-weight: bold\">EmbeddingBackward0</span><span style=\"font-weight: bold\">&gt;)</span>\n",
       "</pre>\n"
      ],
      "text/plain": [
       "\u001b[1;35mtensor\u001b[0m\u001b[1m(\u001b[0m\u001b[1m[\u001b[0m\u001b[1m[\u001b[0m\u001b[1;36m-1.0213\u001b[0m,  \u001b[1;36m0.3146\u001b[0m, \u001b[1;36m-0.2616\u001b[0m,  \u001b[1;36m0.3730\u001b[0m\u001b[1m]\u001b[0m,\n",
       "\u001b[2;32m│   │   \u001b[0m\u001b[1m[\u001b[0m \u001b[1;36m0.5715\u001b[0m,  \u001b[1;36m0.1229\u001b[0m, \u001b[1;36m-0.8145\u001b[0m, \u001b[1;36m-1.4164\u001b[0m\u001b[1m]\u001b[0m,\n",
       "\u001b[2;32m│   │   \u001b[0m\u001b[1m[\u001b[0m \u001b[1;36m0.4973\u001b[0m, \u001b[1;36m-1.1740\u001b[0m, \u001b[1;36m-0.6713\u001b[0m, \u001b[1;36m-0.1102\u001b[0m\u001b[1m]\u001b[0m,\n",
       "\u001b[2;32m│   │   \u001b[0m\u001b[1m[\u001b[0m\u001b[1;36m-2.3167\u001b[0m,  \u001b[1;36m0.2943\u001b[0m,  \u001b[1;36m0.9573\u001b[0m,  \u001b[1;36m0.2935\u001b[0m\u001b[1m]\u001b[0m,\n",
       "\u001b[2;32m│   │   \u001b[0m\u001b[1m[\u001b[0m \u001b[1;36m0.0623\u001b[0m, \u001b[1;36m-0.1054\u001b[0m,  \u001b[1;36m0.8182\u001b[0m, \u001b[1;36m-2.4184\u001b[0m\u001b[1m]\u001b[0m,\n",
       "\u001b[2;32m│   │   \u001b[0m\u001b[1m[\u001b[0m\u001b[1;36m-1.4016\u001b[0m,  \u001b[1;36m0.3422\u001b[0m, \u001b[1;36m-0.9704\u001b[0m, \u001b[1;36m-0.2435\u001b[0m\u001b[1m]\u001b[0m,\n",
       "\u001b[2;32m│   │   \u001b[0m\u001b[1m[\u001b[0m\u001b[1;36m-0.0576\u001b[0m, \u001b[1;36m-0.0596\u001b[0m,  \u001b[1;36m0.2764\u001b[0m, \u001b[1;36m-0.2403\u001b[0m\u001b[1m]\u001b[0m,\n",
       "\u001b[2;32m│   │   \u001b[0m\u001b[1m[\u001b[0m \u001b[1;36m1.2707\u001b[0m, \u001b[1;36m-0.5865\u001b[0m, \u001b[1;36m-1.4099\u001b[0m, \u001b[1;36m-1.3797\u001b[0m\u001b[1m]\u001b[0m\u001b[1m]\u001b[0m, \u001b[33mgrad_fn\u001b[0m=\u001b[1m<\u001b[0m\u001b[1;95mEmbeddingBackward0\u001b[0m\u001b[1m>\u001b[0m\u001b[1m)\u001b[0m\n"
      ]
     },
     "metadata": {},
     "output_type": "display_data"
    },
    {
     "data": {
      "text/html": [
       "<pre style=\"white-space:pre;overflow-x:auto;line-height:normal;font-family:Menlo,'DejaVu Sans Mono',consolas,'Courier New',monospace\"><span style=\"color: #800080; text-decoration-color: #800080; font-weight: bold\">torch.Size</span><span style=\"font-weight: bold\">([</span><span style=\"color: #008080; text-decoration-color: #008080; font-weight: bold\">8</span>, <span style=\"color: #008080; text-decoration-color: #008080; font-weight: bold\">4</span><span style=\"font-weight: bold\">])</span>\n",
       "</pre>\n"
      ],
      "text/plain": [
       "\u001b[1;35mtorch.Size\u001b[0m\u001b[1m(\u001b[0m\u001b[1m[\u001b[0m\u001b[1;36m8\u001b[0m, \u001b[1;36m4\u001b[0m\u001b[1m]\u001b[0m\u001b[1m)\u001b[0m\n"
      ]
     },
     "metadata": {},
     "output_type": "display_data"
    }
   ],
   "source": [
    "torch.manual_seed(composer.seed)\n",
    "\n",
    "tok_embed = nn.Embedding(num_embeddings=composer.vocab_size, embedding_dim=composer.d_model)\n",
    "x0_tok_embed = tok_embed(x0)\n",
    "pprint(x0_tok_embed)\n",
    "pprint(x0_tok_embed.shape)"
   ]
  },
  {
   "cell_type": "markdown",
   "metadata": {},
   "source": [
    "### Lookup Operation\n",
    "\n",
    "So this operation above is essentially a lookup operation, where we look up the\n",
    "embedding vector for each token in the sequence. This is done by\n",
    "`self.token_embeddings(x)`. We run it against the first sequence for simplicity,\n",
    "and `x0_tok_embed` is the resulting tensor, with a shape of $T \\times D$. In our\n",
    "case, the sequence length (block size) is $T = 8$, and the embedding dimension\n",
    "is $D = 4$. This means that we have essentially mapped each of the $8$ tokens\n",
    "representing `priest and clerk? well then, amen` to a $4$-dimensional vector.\n",
    "\n",
    "-   `priest` is mapped to `[-1.0213, 0.3146, -0.2616, 0.3730]`\n",
    "-   `and` is mapped to `[ 0.5715, 0.1229, -0.8145, -1.4164]`\n",
    "-   ...\n",
    "-   `amen` is mapped to `[ 1.2707, -0.5865, -1.4099, -1.3797]`\n",
    "\n",
    "With each token being a vector, not only does the token carry more information,\n",
    "it is also much easier to do linear algebra operations on the tokens. For\n",
    "example, we can easily calculate the mean/sum of the embeddings for pooling, or\n",
    "we can easily calculate the dot product between two tokens to measure their\n",
    "similarity in a high-dimensional space (as compared to it being an integer with\n",
    "only 1 dimension).\n",
    "\n",
    "Furthermore, the embeddings are learned during training, and the model would try\n",
    "to capture semantic relationships between tokens. For example, the model would\n",
    "try to learn that `priest` and `clerk` are related in some way because they\n",
    "refer to people, and `amen` is related to `priest` because it is often used in\n",
    "religious contexts.\n",
    "\n",
    "### Token Embedding Matrix\n",
    "\n",
    "$\\mathbf{W}^{e}$: is the embedding matrix defined as:\n",
    "\n",
    "$$\n",
    "\\mathbf{W}^{e} = \\begin{bmatrix} e_{1,1} & e_{1,2} & \\cdots & e_{1,D} \\\\ e_{2,1} & e_{2,2} & \\cdots & e_{2,D} \\\\ \\vdots & \\vdots & \\ddots & \\vdots \\\\ e_{V,1} & e_{V,2} & \\cdots & e_{V,D} \\end{bmatrix} \\in \\mathbb{R}^{V \\times D}\n",
    "$$\n",
    "\n",
    "where\n",
    "\n",
    "-   $V := \\lvert \\mathcal{V} \\rvert$: is the vocabulary size.\n",
    "-   $D$: is the embedding dimension.\n",
    "-   $e_{j, d}$: is the embedding element at position $j, d$. For a word $v_j$ in\n",
    "    the vocabulary $\\mathcal{V}$, the corresponding row in $\\mathbf{W}^{e}$ is\n",
    "    the embedding vector for that word.\n",
    "\n",
    "### Representation Mapping\n",
    "\n",
    "Define a function $h_{\\text{tok_embed}}: \\mathcal{V} \\to \\mathbb{R}^{D}$ such\n",
    "that for each token $x_t \\in \\mathcal{V}$, the function\n",
    "$h_{\\text{tok_embed}}(x_t) = \\mathbf{W}^{e}_{\\text{index}(x_t)}$ returns the\n",
    "embedding vector from $\\mathbf{W}^{e}$, where $\\text{index}(x_t)$ is the index\n",
    "of $x_t$ in the vocabulary $\\mathcal{V}$ (often times $x_t$ is already an\n",
    "integer index).\n",
    "\n",
    "### One-Hot Encoding and Embedding Matrix\n",
    "\n",
    "It is worth noting that the underlying mechanism of calling `tok_embed(x)` is\n",
    "the same as performing a matrix multiplication between a one-hot encoded vector\n",
    "and the embedding matrix. This is because the one-hot encoded vector is a sparse\n",
    "vector with only one non-zero element, and when multiplied with the embedding\n",
    "matrix, it selects the row corresponding to the non-zero element."
   ]
  },
  {
   "cell_type": "code",
   "execution_count": 321,
   "metadata": {},
   "outputs": [],
   "source": [
    "x0_ohe = F.one_hot(x0, num_classes=composer.vocab_size)\n",
    "x0_ohe = x0_ohe.float()\n",
    "assert x0_ohe.shape == (composer.block_size, composer.vocab_size) # [8, 50257]\n",
    "\n",
    "for index, token_id in enumerate(x0):\n",
    "    assert x0_ohe[index, token_id].item() == 1.0 # check if the one-hot encoding is correct"
   ]
  },
  {
   "cell_type": "markdown",
   "metadata": {},
   "source": [
    "-   Recall our tokenized sequence is\n",
    "    `[11503, 290, 21120, 30, 880, 788, 11, 29448]`.\n",
    "-   Converting it to one-hot encoding, we would have a matrix of size\n",
    "    `[8, 50257]` (or more generally `[B, T, V]` in the presence of batch size\n",
    "    `B`).\n",
    "-   Each row is a one-hot vector of the token $x_{t} \\in \\mathbb{R}^{V}$ at\n",
    "    position $t$. For example, the first row would be a one-hot vector of the\n",
    "    token `11503`, so every element in the first row is $0$ except for the\n",
    "    $11503$-th element, which is $1$.\n",
    "-   A minute quirk here is that the token $x_{t}$ exists in the **_continuous\n",
    "    space_** instead of the **_discrete space_**. This is because we have to\n",
    "    perform the dot product between the one-hot vector and the embedding vector,\n",
    "    which is a continuous vector. This is more of a data type coercion.\n",
    "    Therefore, in our code, we also converted the one-hot vector to `.float()`.\n"
   ]
  },
  {
   "cell_type": "code",
   "execution_count": 322,
   "metadata": {},
   "outputs": [],
   "source": [
    "embedding_matrix = tok_embed.weight.data\n",
    "x0_ohe_tok_embed = x0_ohe @ embedding_matrix\n",
    "torch.testing.assert_close(x0_tok_embed, x0_ohe_tok_embed, rtol=0.0, atol=0.0)"
   ]
  },
  {
   "cell_type": "markdown",
   "metadata": {},
   "source": [
    "Indeed, we see that the result of `tok_embed(x)` is the same as the result of\n",
    "`x0_ohe @ embedding_matrix`. In other words, you can one hot encoded the input\n",
    "sequence $\\mathbf{x} = (x_1, x_2, \\ldots, x_T)$ and then matrix multiply it with the\n",
    "embedding matrix $\\mathbf{W}^{e}$ (via a linear layer) to get the same result as `tok_embed(x)`.\n",
    "\n",
    "-   $\\mathbf{O}$: one-hot representation of the input sequence\n",
    "    $\\mathbf{x} = (x_1, x_2, \\ldots, x_T)$. This is a $T \\times V$ matrix, where\n",
    "    each row represents a token in the sequence and each column corresponds to a\n",
    "    unique word in the vocabulary $\\mathcal{V}$.\n",
    "\n",
    "    $$\n",
    "    \\begin{aligned}\n",
    "    \\mathbf{O} &= \\begin{bmatrix} o_{1,1} & o_{1,2} & \\cdots & o_{1,V} \\\\ o_{2,1} & o_{2,2} & \\cdots & o_{2,V} \\\\ \\vdots & \\vdots & \\ddots & \\vdots \\\\ o_{T,1} & o_{T,2} & \\cdots & o_{T,V} \\end{bmatrix} \\in \\mathbb{R}^{T \\times V} \\\\\n",
    "    &= \\begin{bmatrix} \\text{---} & \\mathbf{o}_{1, :} & \\text{---} \\\\ \\text{---} & \\mathbf{o}_{2, :} & \\text{---} \\\\ & \\vdots & \\\\ \\text{---} & \\mathbf{o}_{T, :} & \\text{---} \\end{bmatrix} \\in \\mathbb{R}^{T \\times V}\n",
    "    \\end{aligned}\n",
    "    $$\n",
    "\n",
    "    where\n",
    "\n",
    "    -   $T$: is the sequence length.\n",
    "    -   $V$: is the vocabulary size.\n",
    "    -   $o_{t, j}$: is the one-hot encoded element at position $t, j$. For a\n",
    "        given token $x_t$ at the $t$-th position in the sequence $\\mathbf{x}$,\n",
    "        if $f_{\\text{stoi}}(x_t)=j$, then the element at position $j$ in the\n",
    "        one-hot vector for token $x_i$ is 1, and all other elements are 0.\n",
    "    -   $\\mathbf{o}_{t, :}$: is the one-hot encoded vector for the token $x_t$\n",
    "        at the $t$-th position in the sequence $\\mathbf{x}$. This row form is\n",
    "        more important than column form because it serves as the lookup key for\n",
    "        the embedding matrix $\\mathbf{W}^{e}$.\n",
    "\n",
    "-   $\\mathbf{Z}$: is the output tensor of the embedding layer, obtained by\n",
    "    matrix multiplying $\\mathbf{O}$ with $\\mathbf{W}^{e}$, and it is defined as:\n",
    "\n",
    "    $$\n",
    "    \\mathbf{Z} = \\mathbf{O} \\cdot \\mathbf{W}^{e}\n",
    "    $$\n",
    "\n",
    "    $$\n",
    "    \\begin{aligned}\n",
    "    \\mathbf{Z} &= \\mathbf{O} \\cdot \\mathbf{W}^{e} \\\\\n",
    "    &= \\begin{bmatrix} z_{1,1} & z_{1,2} & \\cdots & z_{1,D} \\\\ z_{2,1} & z_{2,2} & \\cdots & z_{2,D} \\\\ \\vdots & \\vdots & \\ddots & \\vdots \\\\ z_{T,1} & z_{T,2} & \\cdots & z_{T,D} \\end{bmatrix} \\in \\mathbb{R}^{T \\times D} \\\\\n",
    "    &= \\begin{bmatrix} \\text{---} & \\mathbf{z}_{1,:} & \\text{---} \\\\ \\text{---} & \\mathbf{z}_{2,:} & \\text{---} \\\\ & \\vdots & \\\\ \\text{---} & \\mathbf{z}_{T,:} & \\text{---} \\end{bmatrix} \\in \\mathbb{R}^{T \\times D}\n",
    "    \\end{aligned}\n",
    "    $$\n",
    "\n",
    "    where\n",
    "\n",
    "    -   $T$: is the sequence length.\n",
    "    -   $D$: is the embedding dimension.\n",
    "    -   $z_{t, d}$: is the element at position $t, d$ in the tensor\n",
    "        $\\mathbf{Z}$. For a token $x_t$ at the $t$-th position in the sequence,\n",
    "        $z_{t, :}$ is the $D$ dimensional embedding vector for that token.\n",
    "    -   $\\mathbf{z}_{t, :}$: is the $D$ dimensional embedding vector for the\n",
    "        token $x_t$ at the $t$-th position in the sequence.\n",
    "\n",
    "        In this context, each token in the sequence is represented by a $D$\n",
    "        dimensional vector. So, the output tensor $\\mathbf{Z}$ captures the\n",
    "        dense representation of the sequence. Each token in the sequence is\n",
    "        replaced by its corresponding embedding vector from the embedding matrix\n",
    "        $\\mathbf{W}^{e}$.\n",
    "\n",
    "        As before, the output tensor $\\mathbf{Z}$ carries semantic information\n",
    "        about the tokens in the sequence. The closer two vectors are in this\n",
    "        embedding space, the more semantically similar they are."
   ]
  },
  {
   "cell_type": "markdown",
   "metadata": {},
   "source": [
    "### Implementation"
   ]
  },
  {
   "cell_type": "code",
   "execution_count": 323,
   "metadata": {},
   "outputs": [],
   "source": [
    "class TokenEmbedding(nn.Module):\n",
    "    def __init__(self, vocab_size: int, d_model: int) -> None:\n",
    "        super().__init__()\n",
    "        self.embedding = nn.Embedding(num_embeddings=vocab_size, embedding_dim=d_model)\n",
    "\n",
    "    def forward(self, x: torch.Tensor) -> torch.Tensor:\n",
    "        return self.embedding(x)"
   ]
  },
  {
   "cell_type": "code",
   "execution_count": 324,
   "metadata": {},
   "outputs": [],
   "source": [
    "generator = torch.Generator(device=composer.device)\n",
    "generator.manual_seed(25)\n",
    "\n",
    "tok_embed = TokenEmbedding(vocab_size=composer.vocab_size, d_model=composer.d_model)\n",
    "W_e = tok_embed.embedding.weight.data"
   ]
  },
  {
   "cell_type": "code",
   "execution_count": 325,
   "metadata": {},
   "outputs": [],
   "source": [
    "x0 = x0.unsqueeze(dim=0) if x0.ndim == 1 else x0 # [T] -> [B, T]\n",
    "\n",
    "z0_tok_embed = tok_embed(x0)\n",
    "assert z0_tok_embed.shape == (1, composer.block_size, composer.d_model) # [B, T, D] = [1, 8, 4]\n",
    "\n",
    "z0_ohe = F.one_hot(x0, num_classes=composer.vocab_size).float()\n",
    "assert z0_ohe.shape == (1, composer.block_size, composer.vocab_size) # [T, V] = [8, 50257]\n",
    "\n",
    "z0_tok_embed_matmul = F.one_hot(x0, num_classes=composer.vocab_size).float() @ W_e\n",
    "torch.testing.assert_close(z0_tok_embed, z0_tok_embed_matmul, rtol=0.0, atol=0.0, msg=\"The matrix multiplication is not correct.\")"
   ]
  },
  {
   "cell_type": "markdown",
   "metadata": {},
   "source": [
    "## Positional Embeddings\n",
    "\n",
    "For the lack of a better phrase, we say that self-attention, the core function\n",
    "of GPTs, is permutation invariant. While it is obvious that the input sequence\n",
    "$\\mathbf{x}$ is ordered in the sense that $x_1$ comes before $x_2$, and $x_2$\n",
    "comes before $x_3$, and so on, this information gets lost in the self-attention\n",
    "mechanism. This means that the model does not differentiate \"the cat ate the\n",
    "mouse\" from \"the mouse ate the cat\" as long as the tokens are the same - and\n",
    "this is not desirable.\n",
    "\n",
    "The dominant approach for preserving information about the order of tokens is to\n",
    "represent this to the model as an additional input associated with each token.\n",
    "These inputs are called positional encodings, and they can either be learned or\n",
    "fixed _a priori_ {cite}`zhang2023dive`. What this means is that we can either\n",
    "construct a learnable parameter that is updated during training, or we can\n",
    "construct a fixed parameter that is not updated during training. For the sake of\n",
    "completeness, we will discuss briefly the scheme where the positional encodings\n",
    "are fixed _a priori_ based on sinusoidal functions - which is also the scheme\n",
    "described in the paper \"Attention is All You Need\" {cite}`vaswani2017attention`.\n",
    "\n",
    "### Definition\n",
    "\n",
    "```{prf:definition} Positional Encoding\n",
    ":label: decoder-positional-encoding\n",
    "\n",
    "The positional encoding function\n",
    "$\\mathrm{PE}: \\mathbb{N} \\times \\mathbb{N} \\rightarrow \\mathbb{R}$ computes the\n",
    "position encoding for each position $p := t \\in \\mathbb{N}$ and each dimension\n",
    "$d = 1, 2, \\ldots, D \\in \\mathbb{N}$ in the input embedding space as follows {cite}`math11112451`:\n",
    "\n",
    "$$\n",
    "\\operatorname{PE}(p, d)= \\begin{cases}\\sin \\left(\\frac{p}{10000^{\\frac{2 d}{D}}}\\right) & \\text { if } d \\text { is even, } \\\\ \\cos \\left(\\frac{p}{10000^{\\frac{2 d-1}{D}}}\\right) & \\text { if } d \\text { is odd. }\\end{cases}\n",
    "$$\n",
    "```\n",
    "\n",
    "Note that $10,000$ is an parameter that can be tuned.\n",
    "\n",
    "Thus, the entire tensor $\\mathbf{P}$ is defined as:\n",
    "\n",
    "$$\n",
    "\\mathbf{P} = \\begin{bmatrix} p_{1,1} & p_{1,2} & \\cdots & p_{1,D} \\\\ p_{2,1} & p_{2,2} & \\cdots & p_{2,D} \\\\ \\vdots & \\vdots & \\ddots & \\vdots \\\\ p_{L,1} & p_{L,2} & \\cdots & p_{L,D} \\end{bmatrix} \\in \\mathbb{R}^{L \\times D}\n",
    "$$\n",
    "\n",
    "where\n",
    "\n",
    "-   $L$: is the sequence length.\n",
    "-   $D$: is the embedding dimension.\n",
    "-   $p_{i, d}$: is the element at position $i, d$ in the tensor\n",
    "    $\\mathbf{P}$.\n",
    "\n",
    "Note that $\\mathbf{P}$ is independent of $\\mathbf{Z}$, and it's computed\n",
    "based on the positional encoding formula used in transformers, which uses\n",
    "sinusoidal functions of different frequencies.\n",
    "\n",
    "### More Intuition on Positional Encodings (Pretty bad analogy, to revise)\n",
    "\n",
    "Consider a sentence \"Mary visited the museum in Paris.\"\n",
    "\n",
    "The original word embeddings ($\\mathbf{Z}$) can be thought of as guests at a\n",
    "party, where each guest represents a word: 'Mary,' 'visited,' 'the,' 'museum,'\n",
    "'in,' and 'Paris.' The personality of each guest represents the semantic meaning\n",
    "of the word they represent.\n",
    "\n",
    "Now, let's think of the positional encoding ($\\mathbf{P}$) as the order in which\n",
    "these guests arrived at the party. This captures the positional information in\n",
    "the sentence. 'Mary' was the first to arrive, 'visited' the second, and so on.\n",
    "\n",
    "When we add the positional encoding to the original embeddings\n",
    "($\\mathbf{Z} = \\mathbf{Z} + \\mathbf{P}$), we're basically combining the\n",
    "personality of each guest (the meaning of the word) with their arrival order at\n",
    "the party (their position in the sentence).\n",
    "\n",
    "So, for example, 'Mary' isn't just represented as a proper noun referring to a\n",
    "person, but she's also identified as the first person who arrived at the party.\n",
    "Similarly, 'Paris' isn't just a proper noun referring to a city, but it's the\n",
    "last entity that arrived.\n",
    "\n",
    "This way, the combined tensor ($\\mathbf{Z} = \\mathbf{Z} + \\mathbf{P}$) captures\n",
    "both the semantic meaning and the positional information for each word, allowing\n",
    "the Transformer to understand both the meaning of the words and their order in\n",
    "the sentence. This is crucial because, in many languages, changing the order of\n",
    "words can drastically alter the meaning of a sentence.\n",
    "\n",
    "### An Example of Positional Encoding\n",
    "\n",
    "To demonstrate how positional encodings are calculated for an input sequence\n",
    "using the given formula, let's take the first three tokens from the example\n",
    "sequence `' priest and clerk? well then, amen'`. We'll assume these tokens are\n",
    "'priest', 'and', 'clerk' and that we're dealing with an embedding dimension\n",
    "$D = 4$ for simplicity. The positions $p$ of these tokens are 1, 2, and 3,\n",
    "respectively.\n",
    "\n",
    "For $D = 4$, each token's positional encoding will be a vector of 4 elements.\n",
    "Let's calculate the positional encodings for $p = 1, 2, 3$ (corresponding to\n",
    "'priest', 'and', 'clerk?') and for each dimension $d = 0, 1, 2, 3$:\n",
    "\n",
    "#### Positional Encoding for $p = 1$ ('priest')\n",
    "\n",
    "-   $d = 0$ (even): $\\sin\\left(\\frac{1}{10000^{0/4}}\\right) = \\sin(1)$\n",
    "-   $d = 1$ (odd):\n",
    "    $\\cos\\left(\\frac{1}{10000^{1/4}}\\right) =\n",
    "    \\cos\\left(\\frac{1}{\\sqrt[4]{10000}}\\right)$\n",
    "-   $d = 2$ (even):\n",
    "    $\\sin\\left(\\frac{1}{10000^{2/4}}\\right) =\n",
    "    \\sin\\left(\\frac{1}{\\sqrt{10000}}\\right)$\n",
    "-   $d = 3$ (odd):\n",
    "    $\\cos\\left(\\frac{1}{10000^{3/4}}\\right) =\n",
    "    \\cos\\left(\\frac{1}{\\sqrt[4]{10000^3}}\\right)$\n",
    "\n",
    "#### Positional Encoding for $p = 2$ ('and')\n",
    "\n",
    "-   $d = 0$ (even): $\\sin\\left(\\frac{2}{10000^{0/4}}\\right) = \\sin(2)$\n",
    "-   $d = 1$ (odd):\n",
    "    $\\cos\\left(\\frac{2}{10000^{1/4}}\\right) =\n",
    "    \\cos\\left(\\frac{2}{\\sqrt[4]{10000}}\\right)$\n",
    "-   $d = 2$ (even):\n",
    "    $\\sin\\left(\\frac{2}{10000^{2/4}}\\right) =\n",
    "    \\sin\\left(\\frac{2}{\\sqrt{10000}}\\right)$\n",
    "-   $d = 3$ (odd):\n",
    "    $\\cos\\left(\\frac{2}{10000^{3/4}}\\right) =\n",
    "    \\cos\\left(\\frac{2}{\\sqrt[4]{10000^3}}\\right)$\n",
    "\n",
    "#### Positional Encoding for $p = 3$ ('clerk?')\n",
    "\n",
    "-   $d = 0$ (even): $\\sin\\left(\\frac{3}{10000^{0/4}}\\right) = \\sin(3)$\n",
    "-   $d = 1$ (odd):\n",
    "    $\\cos\\left(\\frac{3}{10000^{1/4}}\\right) =\n",
    "    \\cos\\left(\\frac{3}{\\sqrt[4]{10000}}\\right)$\n",
    "-   $d = 2$ (even):\n",
    "    $\\sin\\left(\\frac{3}{10000^{2/4}}\\right) =\n",
    "    \\sin\\left(\\frac{3}{\\sqrt{10000}}\\right)$\n",
    "-   $d = 3$ (odd):\n",
    "    $\\cos\\left(\\frac{3}{10000^{3/4}}\\right) =\n",
    "    \\cos\\left(\\frac{3}{\\sqrt[4]{10000^3}}\\right)$\n",
    "\n",
    "The use of $10000^{(\\cdot/D)}$ with large exponents is designed to provide a\n",
    "wide range of frequencies, enabling the model to distinguish between positions\n",
    "at different scales. In practice, the positional encodings for high-dimensional\n",
    "embeddings (e.g., $D=512$ in real models) involve very small and precise values,\n",
    "facilitating the model's learning of complex positional relationships.\n",
    "\n"
   ]
  },
  {
   "cell_type": "markdown",
   "metadata": {},
   "source": [
    "### Implementation"
   ]
  },
  {
   "cell_type": "code",
   "execution_count": 326,
   "metadata": {},
   "outputs": [],
   "source": [
    "from abc import ABC, abstractmethod\n",
    "\n",
    "import torch\n",
    "from torch import nn\n",
    "\n",
    "\n",
    "class PositionalEncoding(ABC, nn.Module):\n",
    "    def __init__(self, d_model: int, context_length: int, dropout: float = 0.0) -> None:\n",
    "        super().__init__()\n",
    "        self.d_model = d_model\n",
    "        self.context_length = context_length\n",
    "        self.dropout = nn.Dropout(p=dropout, inplace=False)\n",
    "\n",
    "    @abstractmethod\n",
    "    def forward(self, x: torch.Tensor) -> torch.Tensor:\n",
    "        ...\n",
    "\n",
    "\n",
    "class Sinusoid(PositionalEncoding):\n",
    "    P: torch.Tensor\n",
    "\n",
    "    def __init__(self, d_model: int, context_length: int, dropout: float = 0.0) -> None:\n",
    "        super().__init__(d_model, context_length, dropout)\n",
    "\n",
    "        P = self._init_positional_encoding()\n",
    "        self.register_buffer(\"P\", P, persistent=True)  # with this no need requires_grad=False\n",
    "\n",
    "    def _init_positional_encoding(self) -> torch.Tensor:\n",
    "        \"\"\"Initialize the positional encoding tensor.\"\"\"\n",
    "        P = torch.zeros((1, self.context_length, self.d_model))\n",
    "        position = self._get_position_vector()\n",
    "        div_term = self._get_div_term_vector()\n",
    "        P[:, :, 0::2] = torch.sin(position / div_term)\n",
    "        P[:, :, 1::2] = torch.cos(position / div_term)\n",
    "        return P\n",
    "\n",
    "    def _get_position_vector(self) -> torch.Tensor:\n",
    "        \"\"\"Return a vector representing the position of each token in a sequence.\"\"\"\n",
    "        return torch.arange(self.context_length, dtype=torch.float32).reshape(-1, 1)\n",
    "\n",
    "    def _get_div_term_vector(self) -> torch.Tensor:\n",
    "        \"\"\"Return a vector representing the divisor term for positional encoding.\"\"\"\n",
    "        return torch.pow(\n",
    "            10000,\n",
    "            torch.arange(0, self.d_model, 2, dtype=torch.float32) / self.d_model,\n",
    "        )\n",
    "\n",
    "    def forward(self, z: torch.Tensor) -> torch.Tensor:\n",
    "        z = self._add_positional_encoding(z)\n",
    "        z = self.dropout(z)\n",
    "        return z\n",
    "\n",
    "    def _add_positional_encoding(self, z: torch.Tensor) -> torch.Tensor:\n",
    "        \"\"\"Add the positional encoding tensor to the input tensor.\"\"\"\n",
    "        return z + self.P[:, : z.shape[1], :]"
   ]
  },
  {
   "cell_type": "markdown",
   "metadata": {},
   "source": [
    "We now do a sum operation between the output of the token embeddings $\\mathbf{Z}$\n",
    "and the positional encodings $\\mathbf{P}$ to get the final input to the model."
   ]
  },
  {
   "cell_type": "code",
   "execution_count": 345,
   "metadata": {},
   "outputs": [],
   "source": [
    "generator = torch.Generator(device=composer.device)\n",
    "generator.manual_seed(25)\n",
    "\n",
    "pos_embed = Sinusoid(d_model=composer.d_model, context_length=composer.block_size, dropout=0.0)\n",
    "P = pos_embed.P\n",
    "\n",
    "z0_tok_embed_with_pos_embed = pos_embed(z0_tok_embed)\n",
    "z0_tok_embed_add_pos_embed = z0_tok_embed + P\n",
    "\n",
    "torch.testing.assert_close(z0_tok_embed_with_pos_embed, z0_tok_embed_add_pos_embed, rtol=0.0, atol=0.0) # just to show that adding P to the z0 is the same as pos_embed(z0)"
   ]
  },
  {
   "cell_type": "markdown",
   "metadata": {},
   "source": [
    "As we have seen earlier using manual calculations, the input sequence's first token/position at $t=1$\n",
    "has values of $[0, 1, 0, 1]$ for the positional encoding with $D=4$. We simply add this positional\n",
    "encoding to the token embeddings to get the final input embeddings. We can verify it visually below (or can add programmatically)."
   ]
  },
  {
   "cell_type": "code",
   "execution_count": 346,
   "metadata": {},
   "outputs": [
    {
     "data": {
      "text/html": [
       "<pre style=\"white-space:pre;overflow-x:auto;line-height:normal;font-family:Menlo,'DejaVu Sans Mono',consolas,'Courier New',monospace\"><span style=\"color: #800080; text-decoration-color: #800080; font-weight: bold\">tensor</span><span style=\"font-weight: bold\">([[[</span> <span style=\"color: #008080; text-decoration-color: #008080; font-weight: bold\">0.0000</span>,  <span style=\"color: #008080; text-decoration-color: #008080; font-weight: bold\">1.0000</span>,  <span style=\"color: #008080; text-decoration-color: #008080; font-weight: bold\">0.0000</span>,  <span style=\"color: #008080; text-decoration-color: #008080; font-weight: bold\">1.0000</span><span style=\"font-weight: bold\">]</span>,\n",
       "<span style=\"color: #7fbf7f; text-decoration-color: #7fbf7f\">│   │    </span><span style=\"font-weight: bold\">[</span> <span style=\"color: #008080; text-decoration-color: #008080; font-weight: bold\">0.8415</span>,  <span style=\"color: #008080; text-decoration-color: #008080; font-weight: bold\">0.5403</span>,  <span style=\"color: #008080; text-decoration-color: #008080; font-weight: bold\">0.0100</span>,  <span style=\"color: #008080; text-decoration-color: #008080; font-weight: bold\">0.9999</span><span style=\"font-weight: bold\">]</span>,\n",
       "<span style=\"color: #7fbf7f; text-decoration-color: #7fbf7f\">│   │    </span><span style=\"font-weight: bold\">[</span> <span style=\"color: #008080; text-decoration-color: #008080; font-weight: bold\">0.9093</span>, <span style=\"color: #008080; text-decoration-color: #008080; font-weight: bold\">-0.4161</span>,  <span style=\"color: #008080; text-decoration-color: #008080; font-weight: bold\">0.0200</span>,  <span style=\"color: #008080; text-decoration-color: #008080; font-weight: bold\">0.9998</span><span style=\"font-weight: bold\">]</span>,\n",
       "<span style=\"color: #7fbf7f; text-decoration-color: #7fbf7f\">│   │    </span><span style=\"font-weight: bold\">[</span> <span style=\"color: #008080; text-decoration-color: #008080; font-weight: bold\">0.1411</span>, <span style=\"color: #008080; text-decoration-color: #008080; font-weight: bold\">-0.9900</span>,  <span style=\"color: #008080; text-decoration-color: #008080; font-weight: bold\">0.0300</span>,  <span style=\"color: #008080; text-decoration-color: #008080; font-weight: bold\">0.9996</span><span style=\"font-weight: bold\">]</span>,\n",
       "<span style=\"color: #7fbf7f; text-decoration-color: #7fbf7f\">│   │    </span><span style=\"font-weight: bold\">[</span><span style=\"color: #008080; text-decoration-color: #008080; font-weight: bold\">-0.7568</span>, <span style=\"color: #008080; text-decoration-color: #008080; font-weight: bold\">-0.6536</span>,  <span style=\"color: #008080; text-decoration-color: #008080; font-weight: bold\">0.0400</span>,  <span style=\"color: #008080; text-decoration-color: #008080; font-weight: bold\">0.9992</span><span style=\"font-weight: bold\">]</span>,\n",
       "<span style=\"color: #7fbf7f; text-decoration-color: #7fbf7f\">│   │    </span><span style=\"font-weight: bold\">[</span><span style=\"color: #008080; text-decoration-color: #008080; font-weight: bold\">-0.9589</span>,  <span style=\"color: #008080; text-decoration-color: #008080; font-weight: bold\">0.2837</span>,  <span style=\"color: #008080; text-decoration-color: #008080; font-weight: bold\">0.0500</span>,  <span style=\"color: #008080; text-decoration-color: #008080; font-weight: bold\">0.9988</span><span style=\"font-weight: bold\">]</span>,\n",
       "<span style=\"color: #7fbf7f; text-decoration-color: #7fbf7f\">│   │    </span><span style=\"font-weight: bold\">[</span><span style=\"color: #008080; text-decoration-color: #008080; font-weight: bold\">-0.2794</span>,  <span style=\"color: #008080; text-decoration-color: #008080; font-weight: bold\">0.9602</span>,  <span style=\"color: #008080; text-decoration-color: #008080; font-weight: bold\">0.0600</span>,  <span style=\"color: #008080; text-decoration-color: #008080; font-weight: bold\">0.9982</span><span style=\"font-weight: bold\">]</span>,\n",
       "<span style=\"color: #7fbf7f; text-decoration-color: #7fbf7f\">│   │    </span><span style=\"font-weight: bold\">[</span> <span style=\"color: #008080; text-decoration-color: #008080; font-weight: bold\">0.6570</span>,  <span style=\"color: #008080; text-decoration-color: #008080; font-weight: bold\">0.7539</span>,  <span style=\"color: #008080; text-decoration-color: #008080; font-weight: bold\">0.0699</span>,  <span style=\"color: #008080; text-decoration-color: #008080; font-weight: bold\">0.9976</span><span style=\"font-weight: bold\">]]])</span>\n",
       "</pre>\n"
      ],
      "text/plain": [
       "\u001b[1;35mtensor\u001b[0m\u001b[1m(\u001b[0m\u001b[1m[\u001b[0m\u001b[1m[\u001b[0m\u001b[1m[\u001b[0m \u001b[1;36m0.0000\u001b[0m,  \u001b[1;36m1.0000\u001b[0m,  \u001b[1;36m0.0000\u001b[0m,  \u001b[1;36m1.0000\u001b[0m\u001b[1m]\u001b[0m,\n",
       "\u001b[2;32m│   │    \u001b[0m\u001b[1m[\u001b[0m \u001b[1;36m0.8415\u001b[0m,  \u001b[1;36m0.5403\u001b[0m,  \u001b[1;36m0.0100\u001b[0m,  \u001b[1;36m0.9999\u001b[0m\u001b[1m]\u001b[0m,\n",
       "\u001b[2;32m│   │    \u001b[0m\u001b[1m[\u001b[0m \u001b[1;36m0.9093\u001b[0m, \u001b[1;36m-0.4161\u001b[0m,  \u001b[1;36m0.0200\u001b[0m,  \u001b[1;36m0.9998\u001b[0m\u001b[1m]\u001b[0m,\n",
       "\u001b[2;32m│   │    \u001b[0m\u001b[1m[\u001b[0m \u001b[1;36m0.1411\u001b[0m, \u001b[1;36m-0.9900\u001b[0m,  \u001b[1;36m0.0300\u001b[0m,  \u001b[1;36m0.9996\u001b[0m\u001b[1m]\u001b[0m,\n",
       "\u001b[2;32m│   │    \u001b[0m\u001b[1m[\u001b[0m\u001b[1;36m-0.7568\u001b[0m, \u001b[1;36m-0.6536\u001b[0m,  \u001b[1;36m0.0400\u001b[0m,  \u001b[1;36m0.9992\u001b[0m\u001b[1m]\u001b[0m,\n",
       "\u001b[2;32m│   │    \u001b[0m\u001b[1m[\u001b[0m\u001b[1;36m-0.9589\u001b[0m,  \u001b[1;36m0.2837\u001b[0m,  \u001b[1;36m0.0500\u001b[0m,  \u001b[1;36m0.9988\u001b[0m\u001b[1m]\u001b[0m,\n",
       "\u001b[2;32m│   │    \u001b[0m\u001b[1m[\u001b[0m\u001b[1;36m-0.2794\u001b[0m,  \u001b[1;36m0.9602\u001b[0m,  \u001b[1;36m0.0600\u001b[0m,  \u001b[1;36m0.9982\u001b[0m\u001b[1m]\u001b[0m,\n",
       "\u001b[2;32m│   │    \u001b[0m\u001b[1m[\u001b[0m \u001b[1;36m0.6570\u001b[0m,  \u001b[1;36m0.7539\u001b[0m,  \u001b[1;36m0.0699\u001b[0m,  \u001b[1;36m0.9976\u001b[0m\u001b[1m]\u001b[0m\u001b[1m]\u001b[0m\u001b[1m]\u001b[0m\u001b[1m)\u001b[0m\n"
      ]
     },
     "metadata": {},
     "output_type": "display_data"
    },
    {
     "data": {
      "text/html": [
       "<pre style=\"white-space:pre;overflow-x:auto;line-height:normal;font-family:Menlo,'DejaVu Sans Mono',consolas,'Courier New',monospace\"><span style=\"color: #800080; text-decoration-color: #800080; font-weight: bold\">tensor</span><span style=\"font-weight: bold\">([[[</span> <span style=\"color: #008080; text-decoration-color: #008080; font-weight: bold\">0.3077</span>,  <span style=\"color: #008080; text-decoration-color: #008080; font-weight: bold\">0.6799</span>, <span style=\"color: #008080; text-decoration-color: #008080; font-weight: bold\">-0.0569</span>, <span style=\"color: #008080; text-decoration-color: #008080; font-weight: bold\">-0.0053</span><span style=\"font-weight: bold\">]</span>,\n",
       "<span style=\"color: #7fbf7f; text-decoration-color: #7fbf7f\">│   │    </span><span style=\"font-weight: bold\">[</span><span style=\"color: #008080; text-decoration-color: #008080; font-weight: bold\">-1.1844</span>,  <span style=\"color: #008080; text-decoration-color: #008080; font-weight: bold\">2.5960</span>,  <span style=\"color: #008080; text-decoration-color: #008080; font-weight: bold\">2.4728</span>,  <span style=\"color: #008080; text-decoration-color: #008080; font-weight: bold\">1.0536</span><span style=\"font-weight: bold\">]</span>,\n",
       "<span style=\"color: #7fbf7f; text-decoration-color: #7fbf7f\">│   │    </span><span style=\"font-weight: bold\">[</span><span style=\"color: #008080; text-decoration-color: #008080; font-weight: bold\">-0.8615</span>,  <span style=\"color: #008080; text-decoration-color: #008080; font-weight: bold\">1.1489</span>,  <span style=\"color: #008080; text-decoration-color: #008080; font-weight: bold\">0.5025</span>, <span style=\"color: #008080; text-decoration-color: #008080; font-weight: bold\">-0.7086</span><span style=\"font-weight: bold\">]</span>,\n",
       "<span style=\"color: #7fbf7f; text-decoration-color: #7fbf7f\">│   │    </span><span style=\"font-weight: bold\">[</span><span style=\"color: #008080; text-decoration-color: #008080; font-weight: bold\">-0.9848</span>, <span style=\"color: #008080; text-decoration-color: #008080; font-weight: bold\">-0.8165</span>, <span style=\"color: #008080; text-decoration-color: #008080; font-weight: bold\">-2.2122</span>, <span style=\"color: #008080; text-decoration-color: #008080; font-weight: bold\">-0.4416</span><span style=\"font-weight: bold\">]</span>,\n",
       "<span style=\"color: #7fbf7f; text-decoration-color: #7fbf7f\">│   │    </span><span style=\"font-weight: bold\">[</span><span style=\"color: #008080; text-decoration-color: #008080; font-weight: bold\">-1.5271</span>, <span style=\"color: #008080; text-decoration-color: #008080; font-weight: bold\">-0.1033</span>,  <span style=\"color: #008080; text-decoration-color: #008080; font-weight: bold\">0.0785</span>,  <span style=\"color: #008080; text-decoration-color: #008080; font-weight: bold\">0.2530</span><span style=\"font-weight: bold\">]</span>,\n",
       "<span style=\"color: #7fbf7f; text-decoration-color: #7fbf7f\">│   │    </span><span style=\"font-weight: bold\">[</span><span style=\"color: #008080; text-decoration-color: #008080; font-weight: bold\">-0.9771</span>, <span style=\"color: #008080; text-decoration-color: #008080; font-weight: bold\">-0.6622</span>, <span style=\"color: #008080; text-decoration-color: #008080; font-weight: bold\">-0.2202</span>, <span style=\"color: #008080; text-decoration-color: #008080; font-weight: bold\">-0.8744</span><span style=\"font-weight: bold\">]</span>,\n",
       "<span style=\"color: #7fbf7f; text-decoration-color: #7fbf7f\">│   │    </span><span style=\"font-weight: bold\">[</span> <span style=\"color: #008080; text-decoration-color: #008080; font-weight: bold\">1.5333</span>,  <span style=\"color: #008080; text-decoration-color: #008080; font-weight: bold\">1.7560</span>,  <span style=\"color: #008080; text-decoration-color: #008080; font-weight: bold\">0.5236</span>,  <span style=\"color: #008080; text-decoration-color: #008080; font-weight: bold\">1.2753</span><span style=\"font-weight: bold\">]</span>,\n",
       "<span style=\"color: #7fbf7f; text-decoration-color: #7fbf7f\">│   │    </span><span style=\"font-weight: bold\">[</span> <span style=\"color: #008080; text-decoration-color: #008080; font-weight: bold\">0.5383</span>, <span style=\"color: #008080; text-decoration-color: #008080; font-weight: bold\">-0.1160</span>,  <span style=\"color: #008080; text-decoration-color: #008080; font-weight: bold\">1.8387</span>, <span style=\"color: #008080; text-decoration-color: #008080; font-weight: bold\">-0.7398</span><span style=\"font-weight: bold\">]]]</span>, <span style=\"color: #808000; text-decoration-color: #808000\">grad_fn</span>=<span style=\"font-weight: bold\">&lt;</span><span style=\"color: #ff00ff; text-decoration-color: #ff00ff; font-weight: bold\">EmbeddingBackward0</span><span style=\"font-weight: bold\">&gt;)</span>\n",
       "</pre>\n"
      ],
      "text/plain": [
       "\u001b[1;35mtensor\u001b[0m\u001b[1m(\u001b[0m\u001b[1m[\u001b[0m\u001b[1m[\u001b[0m\u001b[1m[\u001b[0m \u001b[1;36m0.3077\u001b[0m,  \u001b[1;36m0.6799\u001b[0m, \u001b[1;36m-0.0569\u001b[0m, \u001b[1;36m-0.0053\u001b[0m\u001b[1m]\u001b[0m,\n",
       "\u001b[2;32m│   │    \u001b[0m\u001b[1m[\u001b[0m\u001b[1;36m-1.1844\u001b[0m,  \u001b[1;36m2.5960\u001b[0m,  \u001b[1;36m2.4728\u001b[0m,  \u001b[1;36m1.0536\u001b[0m\u001b[1m]\u001b[0m,\n",
       "\u001b[2;32m│   │    \u001b[0m\u001b[1m[\u001b[0m\u001b[1;36m-0.8615\u001b[0m,  \u001b[1;36m1.1489\u001b[0m,  \u001b[1;36m0.5025\u001b[0m, \u001b[1;36m-0.7086\u001b[0m\u001b[1m]\u001b[0m,\n",
       "\u001b[2;32m│   │    \u001b[0m\u001b[1m[\u001b[0m\u001b[1;36m-0.9848\u001b[0m, \u001b[1;36m-0.8165\u001b[0m, \u001b[1;36m-2.2122\u001b[0m, \u001b[1;36m-0.4416\u001b[0m\u001b[1m]\u001b[0m,\n",
       "\u001b[2;32m│   │    \u001b[0m\u001b[1m[\u001b[0m\u001b[1;36m-1.5271\u001b[0m, \u001b[1;36m-0.1033\u001b[0m,  \u001b[1;36m0.0785\u001b[0m,  \u001b[1;36m0.2530\u001b[0m\u001b[1m]\u001b[0m,\n",
       "\u001b[2;32m│   │    \u001b[0m\u001b[1m[\u001b[0m\u001b[1;36m-0.9771\u001b[0m, \u001b[1;36m-0.6622\u001b[0m, \u001b[1;36m-0.2202\u001b[0m, \u001b[1;36m-0.8744\u001b[0m\u001b[1m]\u001b[0m,\n",
       "\u001b[2;32m│   │    \u001b[0m\u001b[1m[\u001b[0m \u001b[1;36m1.5333\u001b[0m,  \u001b[1;36m1.7560\u001b[0m,  \u001b[1;36m0.5236\u001b[0m,  \u001b[1;36m1.2753\u001b[0m\u001b[1m]\u001b[0m,\n",
       "\u001b[2;32m│   │    \u001b[0m\u001b[1m[\u001b[0m \u001b[1;36m0.5383\u001b[0m, \u001b[1;36m-0.1160\u001b[0m,  \u001b[1;36m1.8387\u001b[0m, \u001b[1;36m-0.7398\u001b[0m\u001b[1m]\u001b[0m\u001b[1m]\u001b[0m\u001b[1m]\u001b[0m, \u001b[33mgrad_fn\u001b[0m=\u001b[1m<\u001b[0m\u001b[1;95mEmbeddingBackward0\u001b[0m\u001b[1m>\u001b[0m\u001b[1m)\u001b[0m\n"
      ]
     },
     "metadata": {},
     "output_type": "display_data"
    },
    {
     "data": {
      "text/html": [
       "<pre style=\"white-space:pre;overflow-x:auto;line-height:normal;font-family:Menlo,'DejaVu Sans Mono',consolas,'Courier New',monospace\"><span style=\"color: #800080; text-decoration-color: #800080; font-weight: bold\">tensor</span><span style=\"font-weight: bold\">([[[</span> <span style=\"color: #008080; text-decoration-color: #008080; font-weight: bold\">0.3077</span>,  <span style=\"color: #008080; text-decoration-color: #008080; font-weight: bold\">1.6799</span>, <span style=\"color: #008080; text-decoration-color: #008080; font-weight: bold\">-0.0569</span>,  <span style=\"color: #008080; text-decoration-color: #008080; font-weight: bold\">0.9947</span><span style=\"font-weight: bold\">]</span>,\n",
       "<span style=\"color: #7fbf7f; text-decoration-color: #7fbf7f\">│   │    </span><span style=\"font-weight: bold\">[</span><span style=\"color: #008080; text-decoration-color: #008080; font-weight: bold\">-0.3429</span>,  <span style=\"color: #008080; text-decoration-color: #008080; font-weight: bold\">3.1363</span>,  <span style=\"color: #008080; text-decoration-color: #008080; font-weight: bold\">2.4828</span>,  <span style=\"color: #008080; text-decoration-color: #008080; font-weight: bold\">2.0536</span><span style=\"font-weight: bold\">]</span>,\n",
       "<span style=\"color: #7fbf7f; text-decoration-color: #7fbf7f\">│   │    </span><span style=\"font-weight: bold\">[</span> <span style=\"color: #008080; text-decoration-color: #008080; font-weight: bold\">0.0478</span>,  <span style=\"color: #008080; text-decoration-color: #008080; font-weight: bold\">0.7327</span>,  <span style=\"color: #008080; text-decoration-color: #008080; font-weight: bold\">0.5225</span>,  <span style=\"color: #008080; text-decoration-color: #008080; font-weight: bold\">0.2912</span><span style=\"font-weight: bold\">]</span>,\n",
       "<span style=\"color: #7fbf7f; text-decoration-color: #7fbf7f\">│   │    </span><span style=\"font-weight: bold\">[</span><span style=\"color: #008080; text-decoration-color: #008080; font-weight: bold\">-0.8437</span>, <span style=\"color: #008080; text-decoration-color: #008080; font-weight: bold\">-1.8065</span>, <span style=\"color: #008080; text-decoration-color: #008080; font-weight: bold\">-2.1822</span>,  <span style=\"color: #008080; text-decoration-color: #008080; font-weight: bold\">0.5580</span><span style=\"font-weight: bold\">]</span>,\n",
       "<span style=\"color: #7fbf7f; text-decoration-color: #7fbf7f\">│   │    </span><span style=\"font-weight: bold\">[</span><span style=\"color: #008080; text-decoration-color: #008080; font-weight: bold\">-2.2839</span>, <span style=\"color: #008080; text-decoration-color: #008080; font-weight: bold\">-0.7569</span>,  <span style=\"color: #008080; text-decoration-color: #008080; font-weight: bold\">0.1185</span>,  <span style=\"color: #008080; text-decoration-color: #008080; font-weight: bold\">1.2522</span><span style=\"font-weight: bold\">]</span>,\n",
       "<span style=\"color: #7fbf7f; text-decoration-color: #7fbf7f\">│   │    </span><span style=\"font-weight: bold\">[</span><span style=\"color: #008080; text-decoration-color: #008080; font-weight: bold\">-1.9360</span>, <span style=\"color: #008080; text-decoration-color: #008080; font-weight: bold\">-0.3785</span>, <span style=\"color: #008080; text-decoration-color: #008080; font-weight: bold\">-0.1702</span>,  <span style=\"color: #008080; text-decoration-color: #008080; font-weight: bold\">0.1243</span><span style=\"font-weight: bold\">]</span>,\n",
       "<span style=\"color: #7fbf7f; text-decoration-color: #7fbf7f\">│   │    </span><span style=\"font-weight: bold\">[</span> <span style=\"color: #008080; text-decoration-color: #008080; font-weight: bold\">1.2539</span>,  <span style=\"color: #008080; text-decoration-color: #008080; font-weight: bold\">2.7162</span>,  <span style=\"color: #008080; text-decoration-color: #008080; font-weight: bold\">0.5835</span>,  <span style=\"color: #008080; text-decoration-color: #008080; font-weight: bold\">2.2735</span><span style=\"font-weight: bold\">]</span>,\n",
       "<span style=\"color: #7fbf7f; text-decoration-color: #7fbf7f\">│   │    </span><span style=\"font-weight: bold\">[</span> <span style=\"color: #008080; text-decoration-color: #008080; font-weight: bold\">1.1953</span>,  <span style=\"color: #008080; text-decoration-color: #008080; font-weight: bold\">0.6379</span>,  <span style=\"color: #008080; text-decoration-color: #008080; font-weight: bold\">1.9086</span>,  <span style=\"color: #008080; text-decoration-color: #008080; font-weight: bold\">0.2577</span><span style=\"font-weight: bold\">]]]</span>, <span style=\"color: #808000; text-decoration-color: #808000\">grad_fn</span>=<span style=\"font-weight: bold\">&lt;</span><span style=\"color: #ff00ff; text-decoration-color: #ff00ff; font-weight: bold\">AddBackward0</span><span style=\"font-weight: bold\">&gt;)</span>\n",
       "</pre>\n"
      ],
      "text/plain": [
       "\u001b[1;35mtensor\u001b[0m\u001b[1m(\u001b[0m\u001b[1m[\u001b[0m\u001b[1m[\u001b[0m\u001b[1m[\u001b[0m \u001b[1;36m0.3077\u001b[0m,  \u001b[1;36m1.6799\u001b[0m, \u001b[1;36m-0.0569\u001b[0m,  \u001b[1;36m0.9947\u001b[0m\u001b[1m]\u001b[0m,\n",
       "\u001b[2;32m│   │    \u001b[0m\u001b[1m[\u001b[0m\u001b[1;36m-0.3429\u001b[0m,  \u001b[1;36m3.1363\u001b[0m,  \u001b[1;36m2.4828\u001b[0m,  \u001b[1;36m2.0536\u001b[0m\u001b[1m]\u001b[0m,\n",
       "\u001b[2;32m│   │    \u001b[0m\u001b[1m[\u001b[0m \u001b[1;36m0.0478\u001b[0m,  \u001b[1;36m0.7327\u001b[0m,  \u001b[1;36m0.5225\u001b[0m,  \u001b[1;36m0.2912\u001b[0m\u001b[1m]\u001b[0m,\n",
       "\u001b[2;32m│   │    \u001b[0m\u001b[1m[\u001b[0m\u001b[1;36m-0.8437\u001b[0m, \u001b[1;36m-1.8065\u001b[0m, \u001b[1;36m-2.1822\u001b[0m,  \u001b[1;36m0.5580\u001b[0m\u001b[1m]\u001b[0m,\n",
       "\u001b[2;32m│   │    \u001b[0m\u001b[1m[\u001b[0m\u001b[1;36m-2.2839\u001b[0m, \u001b[1;36m-0.7569\u001b[0m,  \u001b[1;36m0.1185\u001b[0m,  \u001b[1;36m1.2522\u001b[0m\u001b[1m]\u001b[0m,\n",
       "\u001b[2;32m│   │    \u001b[0m\u001b[1m[\u001b[0m\u001b[1;36m-1.9360\u001b[0m, \u001b[1;36m-0.3785\u001b[0m, \u001b[1;36m-0.1702\u001b[0m,  \u001b[1;36m0.1243\u001b[0m\u001b[1m]\u001b[0m,\n",
       "\u001b[2;32m│   │    \u001b[0m\u001b[1m[\u001b[0m \u001b[1;36m1.2539\u001b[0m,  \u001b[1;36m2.7162\u001b[0m,  \u001b[1;36m0.5835\u001b[0m,  \u001b[1;36m2.2735\u001b[0m\u001b[1m]\u001b[0m,\n",
       "\u001b[2;32m│   │    \u001b[0m\u001b[1m[\u001b[0m \u001b[1;36m1.1953\u001b[0m,  \u001b[1;36m0.6379\u001b[0m,  \u001b[1;36m1.9086\u001b[0m,  \u001b[1;36m0.2577\u001b[0m\u001b[1m]\u001b[0m\u001b[1m]\u001b[0m\u001b[1m]\u001b[0m, \u001b[33mgrad_fn\u001b[0m=\u001b[1m<\u001b[0m\u001b[1;95mAddBackward0\u001b[0m\u001b[1m>\u001b[0m\u001b[1m)\u001b[0m\n"
      ]
     },
     "metadata": {},
     "output_type": "display_data"
    }
   ],
   "source": [
    "pprint(P)\n",
    "pprint(z0_tok_embed)\n",
    "pprint(z0_tok_embed_with_pos_embed)"
   ]
  },
  {
   "cell_type": "markdown",
   "metadata": {},
   "source": [
    "In the `forward` method of the `PositionalEncoding` class, the positional\n",
    "encoding is added to the input `X`:\n",
    "\n",
    "```python\n",
    "def forward(self, X):\n",
    "    X = X + self.P[:, :X.shape[1], :].to(X.device)\n",
    "    return self.dropout(X)\n",
    "```\n",
    "\n",
    "This method slices the precalculated positional encodings tensor `self.P` to\n",
    "match the sequence length of `X`, adds it to `X`, and then applies dropout. The\n",
    "result, which is the sum of the original embeddings and the positional\n",
    "encodings, is returned. So there's no need to add the positional encodings to\n",
    "`X` outside of this class.\n",
    "\n",
    "So when you call `positional_encoding(Z)`, it adds the positional encodings to\n",
    "`Z` and applies dropout, then returns the result. You could store this result in\n",
    "`Z_with_pos_encodings` or just overwrite it as `Z`:\n",
    "\n",
    "```python\n",
    "Z = positional_encoding(Z)\n",
    "```\n",
    "\n",
    "Now, `Z` contains the original embeddings with the positional encodings added\n",
    "and dropout applied.\n",
    "\n",
    "In the context of our \"hello bot\" example, the original tensor `Z` represented\n",
    "the word embeddings, where each token in the sequence (i.e., `SOS`, `hello`,\n",
    "`bot`, `EOS`) was converted into a 2-dimensional vector capturing the semantic\n",
    "meaning of each token. After adding positional encoding, the new tensor\n",
    "represents both the semantic and positional information of each token in the\n",
    "sequence.\n",
    "\n",
    "-   The first row (`[1.1103, -0.6898]`) now encapsulates both the meaning of the\n",
    "    `SOS` token and the information that it's the first token in the sequence.\n",
    "\n",
    "-   The second row (`[0.0756, -0.2103]`) is now a representation of the word\n",
    "    `hello` that carries not just its semantics (e.g., being a greeting), but\n",
    "    also the information that it's the second word in the sentence.\n",
    "\n",
    "-   The third row (`[2.2618, 0.2702]`) likewise carries both the semantics of\n",
    "    `bot` (likely related to AI or technology), and its position as the third\n",
    "    word in the sentence.\n",
    "\n",
    "-   The last row (`[-0.8478, -0.0320]`) encapsulates the semantics of `EOS`\n",
    "    token, signifying end of a sentence, and the fact that it's the last token\n",
    "    in the sentence.\n",
    "\n",
    "The idea here is that in natural language, word order matters. The sentence\n",
    "\"hello bot\" is not the same as \"bot hello\" (okay maybe it is the same in this\n",
    "example, a better one is cat eat mouse isn't the same as mouse eat cat).\n",
    "\n",
    "So, in a language model, we want our representations to capture not just what\n",
    "words mean, but also where they are in a sentence. Positional encoding is a\n",
    "technique to achieve this goal."
   ]
  },
  {
   "cell_type": "markdown",
   "metadata": {},
   "source": [
    "### Visualising Positional Encodings"
   ]
  },
  {
   "cell_type": "code",
   "execution_count": 329,
   "metadata": {},
   "outputs": [
    {
     "data": {
      "image/png": "[encoded data removed]",
      "text/plain": [
       "<Figure size 800x300 with 2 Axes>"
      ]
     },
     "metadata": {},
     "output_type": "display_data"
    }
   ],
   "source": [
    "pos_embed_visual = Sinusoid(d_model=48, context_length=96)\n",
    "\n",
    "P_visual = pos_embed_visual.P.squeeze().T.cpu().numpy()\n",
    "\n",
    "fig, ax = plt.subplots(nrows=1, ncols=1, figsize=(8, 3))\n",
    "pos = ax.imshow(P_visual, cmap=\"RdGy\", extent=(1, P_visual.shape[1] + 1, P_visual.shape[0] + 1, 1))\n",
    "fig.colorbar(pos, ax=ax)\n",
    "ax.set_xlabel(\"Position in sequence\")\n",
    "ax.set_ylabel(\"Hidden dimension\")\n",
    "ax.set_title(\"Positional encoding over hidden dimensions\")\n",
    "ax.set_xticks([1] + [i * 10 for i in range(1, 1 + P_visual.shape[1] // 10)])\n",
    "ax.set_yticks([1] + [i * 10 for i in range(1, 1 + P_visual.shape[0] // 10)])\n",
    "plt.show()"
   ]
  },
  {
   "cell_type": "markdown",
   "metadata": {},
   "source": [
    "The positional encodings are depicted through sine and cosine functions, each\n",
    "varying in wavelength across the hidden dimensions, to uniquely represent each\n",
    "position. By examining these functions within individual hidden dimensions, we\n",
    "gain deeper insights into the encoding patterns. Here, we present a\n",
    "visualization of the positional encodings across hidden dimensions $d = 0, 1,\n",
    "2, 3$ for the initial $16$ sequence positions {cite}`lippe2023uvadlc`."
   ]
  },
  {
   "cell_type": "code",
   "execution_count": 330,
   "metadata": {},
   "outputs": [],
   "source": [
    "from typing import List, Tuple\n",
    "import numpy as np\n",
    "import matplotlib.pyplot as plt\n",
    "import seaborn as sns\n",
    "\n",
    "def plot_positional_encoding(pe: np.ndarray, block_size: int, figsize: Tuple[int, int] = (12, 4)) -> None:\n",
    "    \"\"\"Plot positional encoding for each hidden dimension.\n",
    "\n",
    "    Args:\n",
    "        pe: Positional encoding array.\n",
    "        composer_block_size: Block size of the composer.\n",
    "        figsize: Figure size for the plot.\n",
    "    \"\"\"\n",
    "    sns.set_theme()\n",
    "    fig, ax = plt.subplots(2, 2, figsize=figsize)\n",
    "    ax = [a for a_list in ax for a in a_list]\n",
    "\n",
    "    for i, a in enumerate(ax):\n",
    "        a.plot(np.arange(1, block_size + 1), pe[i, :block_size], color=f'C{i}', marker=\"o\", markersize=6, markeredgecolor=\"black\")\n",
    "        a.set_title(f\"Encoding in hidden dimension d={i+1}\")\n",
    "        a.set_xlabel(\"Position in sequence\", fontsize=10)\n",
    "        a.set_ylabel(\"Positional encoding\", fontsize=10)\n",
    "        a.set_xticks(np.arange(1, 17))\n",
    "        a.tick_params(axis='both', which='major', labelsize=10)\n",
    "        a.tick_params(axis='both', which='minor', labelsize=8)\n",
    "        a.set_ylim(-1.2, 1.2)\n",
    "\n",
    "    fig.subplots_adjust(hspace=0.8)\n",
    "    sns.reset_orig()\n",
    "    plt.show()"
   ]
  },
  {
   "cell_type": "code",
   "execution_count": 331,
   "metadata": {},
   "outputs": [
    {
     "data": {
      "image/png": "[encoded data removed]",
      "text/plain": [
       "<Figure size 1200x400 with 4 Axes>"
      ]
     },
     "metadata": {},
     "output_type": "display_data"
    }
   ],
   "source": [
    "plot_positional_encoding(P_visual, 16)"
   ]
  },
  {
   "cell_type": "markdown",
   "metadata": {},
   "source": [
    "As we can see, the patterns between the hidden dimension 1 and 2 only differ in\n",
    "the starting angle. The wavelength is $2\\pi$ , hence the repetition after\n",
    "position 6 . The hidden dimensions 2 and 3 have about twice the wavelength {cite}`lippe2023uvadlc`."
   ]
  },
  {
   "cell_type": "markdown",
   "metadata": {},
   "source": [
    "### Positional Encodings via Embeddings\n",
    "\n",
    "In practice, the positional encodings are learned as part of the GPT-2 {cite}`radford2019language`.\n",
    "So we can replicate the same by using a `nn.Embedding` layer in PyTorch as in the token embeddings.\n",
    "\n",
    "$\\mathbf{W}_{p}$ is the positional embedding matrix. Each row of this matrix\n",
    "corresponds to the embedding of a position in a sequence. This matrix is usually\n",
    "of size $T \\times D$, where $T$ is the maximum length of a sequence we allow in\n",
    "the model, and $D$ is the dimension of the embedding space.\n",
    "\n",
    "In other words, the $\\mathbf{P}$ matrix introduced earlier has the same shape as\n",
    "$\\mathbf{W}_{p}$, and while the former is fixed, the latter is learned during\n",
    "the training process."
   ]
  },
  {
   "cell_type": "code",
   "execution_count": 343,
   "metadata": {},
   "outputs": [],
   "source": [
    "class PositionalEmbedding(nn.Module):\n",
    "    def __init__(self, d_model: int, context_length: int) -> None:\n",
    "        super().__init__()\n",
    "        self.embedding = nn.Embedding(num_embeddings=context_length, embedding_dim=d_model)\n",
    "\n",
    "    def forward(self, positions: torch.Tensor) -> torch.Tensor:\n",
    "        return self.embedding(positions.to(device=self.embedding.weight.device))"
   ]
  },
  {
   "cell_type": "code",
   "execution_count": 353,
   "metadata": {},
   "outputs": [
    {
     "data": {
      "text/html": [
       "<pre style=\"white-space:pre;overflow-x:auto;line-height:normal;font-family:Menlo,'DejaVu Sans Mono',consolas,'Courier New',monospace\"><span style=\"color: #800080; text-decoration-color: #800080; font-weight: bold\">tensor</span><span style=\"font-weight: bold\">([[[</span><span style=\"color: #008080; text-decoration-color: #008080; font-weight: bold\">-0.9186</span>,  <span style=\"color: #008080; text-decoration-color: #008080; font-weight: bold\">0.6706</span>,  <span style=\"color: #008080; text-decoration-color: #008080; font-weight: bold\">1.4850</span>, <span style=\"color: #008080; text-decoration-color: #008080; font-weight: bold\">-0.4710</span><span style=\"font-weight: bold\">]</span>,\n",
       "<span style=\"color: #7fbf7f; text-decoration-color: #7fbf7f\">│   │    </span><span style=\"font-weight: bold\">[</span><span style=\"color: #008080; text-decoration-color: #008080; font-weight: bold\">-0.9049</span>,  <span style=\"color: #008080; text-decoration-color: #008080; font-weight: bold\">2.3350</span>,  <span style=\"color: #008080; text-decoration-color: #008080; font-weight: bold\">3.0957</span>, <span style=\"color: #008080; text-decoration-color: #008080; font-weight: bold\">-0.1025</span><span style=\"font-weight: bold\">]</span>,\n",
       "<span style=\"color: #7fbf7f; text-decoration-color: #7fbf7f\">│   │    </span><span style=\"font-weight: bold\">[</span><span style=\"color: #008080; text-decoration-color: #008080; font-weight: bold\">-0.7444</span>, <span style=\"color: #008080; text-decoration-color: #008080; font-weight: bold\">-0.7376</span>,  <span style=\"color: #008080; text-decoration-color: #008080; font-weight: bold\">2.6847</span>, <span style=\"color: #008080; text-decoration-color: #008080; font-weight: bold\">-0.9015</span><span style=\"font-weight: bold\">]</span>,\n",
       "<span style=\"color: #7fbf7f; text-decoration-color: #7fbf7f\">│   │    </span><span style=\"font-weight: bold\">[</span><span style=\"color: #008080; text-decoration-color: #008080; font-weight: bold\">-0.4490</span>, <span style=\"color: #008080; text-decoration-color: #008080; font-weight: bold\">-1.7063</span>, <span style=\"color: #008080; text-decoration-color: #008080; font-weight: bold\">-2.5221</span>,  <span style=\"color: #008080; text-decoration-color: #008080; font-weight: bold\">0.3325</span><span style=\"font-weight: bold\">]</span>,\n",
       "<span style=\"color: #7fbf7f; text-decoration-color: #7fbf7f\">│   │    </span><span style=\"font-weight: bold\">[</span><span style=\"color: #008080; text-decoration-color: #008080; font-weight: bold\">-1.4034</span>, <span style=\"color: #008080; text-decoration-color: #008080; font-weight: bold\">-2.2840</span>,  <span style=\"color: #008080; text-decoration-color: #008080; font-weight: bold\">0.4485</span>,  <span style=\"color: #008080; text-decoration-color: #008080; font-weight: bold\">0.6674</span><span style=\"font-weight: bold\">]</span>,\n",
       "<span style=\"color: #7fbf7f; text-decoration-color: #7fbf7f\">│   │    </span><span style=\"font-weight: bold\">[</span> <span style=\"color: #008080; text-decoration-color: #008080; font-weight: bold\">0.8796</span>,  <span style=\"color: #008080; text-decoration-color: #008080; font-weight: bold\">1.3154</span>, <span style=\"color: #008080; text-decoration-color: #008080; font-weight: bold\">-0.6523</span>,  <span style=\"color: #008080; text-decoration-color: #008080; font-weight: bold\">0.4923</span><span style=\"font-weight: bold\">]</span>,\n",
       "<span style=\"color: #7fbf7f; text-decoration-color: #7fbf7f\">│   │    </span><span style=\"font-weight: bold\">[</span> <span style=\"color: #008080; text-decoration-color: #008080; font-weight: bold\">2.3765</span>,  <span style=\"color: #008080; text-decoration-color: #008080; font-weight: bold\">1.7139</span>,  <span style=\"color: #008080; text-decoration-color: #008080; font-weight: bold\">2.1815</span>, <span style=\"color: #008080; text-decoration-color: #008080; font-weight: bold\">-0.0332</span><span style=\"font-weight: bold\">]</span>,\n",
       "<span style=\"color: #7fbf7f; text-decoration-color: #7fbf7f\">│   │    </span><span style=\"font-weight: bold\">[</span> <span style=\"color: #008080; text-decoration-color: #008080; font-weight: bold\">1.5345</span>,  <span style=\"color: #008080; text-decoration-color: #008080; font-weight: bold\">0.8230</span>,  <span style=\"color: #008080; text-decoration-color: #008080; font-weight: bold\">3.2535</span>, <span style=\"color: #008080; text-decoration-color: #008080; font-weight: bold\">-0.1055</span><span style=\"font-weight: bold\">]]]</span>, <span style=\"color: #808000; text-decoration-color: #808000\">grad_fn</span>=<span style=\"font-weight: bold\">&lt;</span><span style=\"color: #ff00ff; text-decoration-color: #ff00ff; font-weight: bold\">AddBackward0</span><span style=\"font-weight: bold\">&gt;)</span>\n",
       "</pre>\n"
      ],
      "text/plain": [
       "\u001b[1;35mtensor\u001b[0m\u001b[1m(\u001b[0m\u001b[1m[\u001b[0m\u001b[1m[\u001b[0m\u001b[1m[\u001b[0m\u001b[1;36m-0.9186\u001b[0m,  \u001b[1;36m0.6706\u001b[0m,  \u001b[1;36m1.4850\u001b[0m, \u001b[1;36m-0.4710\u001b[0m\u001b[1m]\u001b[0m,\n",
       "\u001b[2;32m│   │    \u001b[0m\u001b[1m[\u001b[0m\u001b[1;36m-0.9049\u001b[0m,  \u001b[1;36m2.3350\u001b[0m,  \u001b[1;36m3.0957\u001b[0m, \u001b[1;36m-0.1025\u001b[0m\u001b[1m]\u001b[0m,\n",
       "\u001b[2;32m│   │    \u001b[0m\u001b[1m[\u001b[0m\u001b[1;36m-0.7444\u001b[0m, \u001b[1;36m-0.7376\u001b[0m,  \u001b[1;36m2.6847\u001b[0m, \u001b[1;36m-0.9015\u001b[0m\u001b[1m]\u001b[0m,\n",
       "\u001b[2;32m│   │    \u001b[0m\u001b[1m[\u001b[0m\u001b[1;36m-0.4490\u001b[0m, \u001b[1;36m-1.7063\u001b[0m, \u001b[1;36m-2.5221\u001b[0m,  \u001b[1;36m0.3325\u001b[0m\u001b[1m]\u001b[0m,\n",
       "\u001b[2;32m│   │    \u001b[0m\u001b[1m[\u001b[0m\u001b[1;36m-1.4034\u001b[0m, \u001b[1;36m-2.2840\u001b[0m,  \u001b[1;36m0.4485\u001b[0m,  \u001b[1;36m0.6674\u001b[0m\u001b[1m]\u001b[0m,\n",
       "\u001b[2;32m│   │    \u001b[0m\u001b[1m[\u001b[0m \u001b[1;36m0.8796\u001b[0m,  \u001b[1;36m1.3154\u001b[0m, \u001b[1;36m-0.6523\u001b[0m,  \u001b[1;36m0.4923\u001b[0m\u001b[1m]\u001b[0m,\n",
       "\u001b[2;32m│   │    \u001b[0m\u001b[1m[\u001b[0m \u001b[1;36m2.3765\u001b[0m,  \u001b[1;36m1.7139\u001b[0m,  \u001b[1;36m2.1815\u001b[0m, \u001b[1;36m-0.0332\u001b[0m\u001b[1m]\u001b[0m,\n",
       "\u001b[2;32m│   │    \u001b[0m\u001b[1m[\u001b[0m \u001b[1;36m1.5345\u001b[0m,  \u001b[1;36m0.8230\u001b[0m,  \u001b[1;36m3.2535\u001b[0m, \u001b[1;36m-0.1055\u001b[0m\u001b[1m]\u001b[0m\u001b[1m]\u001b[0m\u001b[1m]\u001b[0m, \u001b[33mgrad_fn\u001b[0m=\u001b[1m<\u001b[0m\u001b[1;95mAddBackward0\u001b[0m\u001b[1m>\u001b[0m\u001b[1m)\u001b[0m\n"
      ]
     },
     "metadata": {},
     "output_type": "display_data"
    }
   ],
   "source": [
    "generator = torch.Generator(device=composer.device)\n",
    "generator.manual_seed(25)\n",
    "seed_all(composer.seed, seed_torch=True, set_torch_deterministic=False)\n",
    "\n",
    "pos_embed = PositionalEmbedding(d_model=composer.d_model, context_length=composer.block_size)\n",
    "positions = torch.arange(start=0, end=composer.block_size, dtype=torch.long) # shape (t)\n",
    "z0_pos_embed = pos_embed(positions)\n",
    "\n",
    "z0_tok_embed_with_pos_embed = z0_tok_embed + z0_pos_embed\n",
    "pprint(z0_tok_embed_with_pos_embed)"
   ]
  },
  {
   "cell_type": "markdown",
   "metadata": {},
   "source": [
    "## Self-Attention and Masked Self-Attention"
   ]
  },
  {
   "cell_type": "code",
   "execution_count": 37,
   "metadata": {},
   "outputs": [
    {
     "name": "stdout",
     "output_type": "stream",
     "text": [
      "a=\n",
      "tensor([[1.0000, 0.0000, 0.0000],\n",
      "        [0.5000, 0.5000, 0.0000],\n",
      "        [0.3333, 0.3333, 0.3333]])\n",
      "--\n",
      "b=\n",
      "tensor([[2., 7.],\n",
      "        [6., 4.],\n",
      "        [6., 5.]])\n",
      "--\n",
      "c=\n",
      "tensor([[2.0000, 7.0000],\n",
      "        [4.0000, 5.5000],\n",
      "        [4.6667, 5.3333]])\n"
     ]
    }
   ],
   "source": [
    "# toy example illustrating how matrix multiplication can be used for a \"weighted aggregation\"\n",
    "torch.manual_seed(42)\n",
    "a = torch.tril(torch.ones(3, 3))\n",
    "a = a / torch.sum(a, 1, keepdim=True)\n",
    "b = torch.randint(0, 10, (3, 2)).float()\n",
    "c = a @ b\n",
    "print(\"a=\")\n",
    "print(a)\n",
    "print(\"--\")\n",
    "print(\"b=\")\n",
    "print(b)\n",
    "print(\"--\")\n",
    "print(\"c=\")\n",
    "print(c)"
   ]
  },
  {
   "cell_type": "markdown",
   "metadata": {},
   "source": [
    "1. Tidy up positional encodings."
   ]
  },
  {
   "cell_type": "markdown",
   "metadata": {},
   "source": [
    "1. Insert arch diagram\n",
    "2. change example since i changed seed.\n",
    "3. Add cosine similarity from transformers notebook to show that embeddings in a subspace.\n",
    "4. Add def/theorem/notation prf\n",
    "5. Conditional and Joint probability\n",
    "6. Model definition in page 5/\n",
    "7. Loss see page 5/6\n",
    "8. autoregressive self supervised def page 6\n",
    "9. Insert intuition of using average of preceding tokens for self attention section:\n",
    "    1. version 1: averaging past context with for loops, the weakest form of aggregation\n",
    "    2. min 42 to min 58\n",
    "    3. on intuition of softmax and weight distribution\n",
    "10. Time and Space Complexity"
   ]
  },
  {
   "cell_type": "markdown",
   "metadata": {},
   "source": [
    "## Conditional Probability\n",
    "\n",
    "The GPT model, being autoregressive, directly models the **conditional\n",
    "probability** of each token given all previous tokens in a sequence. This is the\n",
    "core operational mechanism of the model, allowing it to predict the next token\n",
    "based on the preceding context. The conditional probability for each token $x_t$\n",
    "given its predecessors $x_{<t}$ is expressed as $P(x_t | x_{<t};\n",
    "\\Theta)$, where\n",
    "$\\Theta$ represents the model's parameters.\n",
    "\n",
    "## Joint Probability\n",
    "\n",
    "The **joint probability** of a sequence $\\mathbf{x} = (x_1, x_2, ..., x_T)$\n",
    "under the model is derived from the product of these conditional probabilities.\n",
    "By assuming that the probability of each token can be modeled based on its\n",
    "predecessors, the model implicitly defines a joint probability distribution over\n",
    "sequences. This joint probability is represented by the product:\n",
    "\n",
    "$$\n",
    "P(\\mathbf{x}; \\Theta) = \\prod_{t=1}^{T} P(x_t | x_{<t}; \\Theta)\n",
    "$$\n",
    "\n",
    "This formulation shows that while the GPT model operates through conditional\n",
    "probabilities, the product of these conditional probabilities across a sequence\n",
    "results in the **joint probability** of the entire sequence. Thus, the GPT model\n",
    "effectively learns the joint probability distribution over sequences in the\n",
    "dataset by learning to predict the next token given its context, leveraging the\n",
    "chain rule of probability.\n"
   ]
  },
  {
   "cell_type": "markdown",
   "metadata": {},
   "source": [
    "{cite}`math11112451`"
   ]
  },
  {
   "cell_type": "markdown",
   "metadata": {},
   "source": [
    "- https://devblogs.nvidia.com/how-optimize-data-transfers-cuda-cc/\n",
    "- https://developer.nvidia.com/blog/how-overlap-data-transfers-cuda-cc/\n",
    "- https://e2eml.school/transformers.html\n",
    "\n",
    "**Positional Encoding**\n",
    "\n",
    "- https://aman.ai/primers/ai/transformers/#positional-encoding\n",
    "- https://d2l.ai/chapter_attention-mechanisms-and-transformers/self-attention-and-positional-encoding.html\n",
    "- https://kazemnejad.com/blog/transformer_architecture_positional_encoding/\n",
    "- https://e2eml.school/transformers.html#positional_encoding\n",
    "\n",
    "**Attention**\n",
    "\n",
    "- [Neural Machine Translation by Jointly Learning to Align and Translate](https://arxiv.org/abs/1409.0473)\n",
    "- https://eugeneyan.com/writing/attention/"
   ]
  },
  {
   "cell_type": "code",
   "execution_count": 46,
   "metadata": {},
   "outputs": [
    {
     "name": "stdout",
     "output_type": "stream",
     "text": [
      "Softmax without scaling: tensor([2.0611e-09, 4.5398e-05, 9.9995e-01])\n",
      "Softmax with scaling: tensor([0.2010, 0.3126, 0.4864])\n"
     ]
    }
   ],
   "source": []
  },
  {
   "cell_type": "markdown",
   "metadata": {},
   "source": [
    "[^1]: [OpenAI tiktoken](https://github.com/openai/tiktoken)\n",
    "[^2]: [How to Optimize Data Transfers in CUDA C/C++](https://devblogs.nvidia.com/how-optimize-data-transfers-cuda-cc/)"
   ]
  }
 ],
 "metadata": {
  "kernelspec": {
   "display_name": "omniverse",
   "language": "python",
   "name": "python3"
  },
  "language_info": {
   "codemirror_mode": {
    "name": "ipython",
    "version": 3
   },
   "file_extension": ".py",
   "mimetype": "text/x-python",
   "name": "python",
   "nbconvert_exporter": "python",
   "pygments_lexer": "ipython3",
   "version": "3.9.18"
  }
 },
 "nbformat": 4,
 "nbformat_minor": 2
}
