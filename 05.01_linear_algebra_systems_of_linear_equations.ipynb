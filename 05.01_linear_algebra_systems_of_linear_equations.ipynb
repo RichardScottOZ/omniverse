{
 "cells": [
  {
   "cell_type": "markdown",
   "id": "3fdda7e6-8fa1-4ec7-8cdf-6de4a111b46c",
   "metadata": {
    "id": "3fdda7e6-8fa1-4ec7-8cdf-6de4a111b46c"
   },
   "source": [
    "$$\\newcommand{\\F}{\\mathbb{F}}\n",
    "\\newcommand{\\R}{\\mathbb{R}}\n",
    "\\newcommand\\aug{\\fboxsep=-\\fboxrule\\!\\!\\!\\fbox{\\strut}\\!\\!\\!}\n",
    "\\newcommand{\\v}{\\mathbf{v}}\n",
    "\\newcommand{\\a}{\\mathbf{a}}\n",
    "\\newcommand{\\b}{\\mathbf{b}}\n",
    "\\newcommand{\\c}{\\mathbf{c}}\n",
    "\\newcommand{\\d}{\\mathbf{d}}\n",
    "\\newcommand{\\p}{\\mathbf{p}}\n",
    "\\newcommand{\\r}{\\mathbf{r}}\n",
    "\\newcommand{\\w}{\\mathbf{w}}\n",
    "\\newcommand{\\u}{\\mathbf{u}}\n",
    "\\newcommand{\\x}{\\mathbf{x}}\n",
    "\\newcommand{\\y}{\\mathbf{y}}\n",
    "\\newcommand{\\z}{\\mathbf{z}}\n",
    "\\newcommand{\\0}{\\mathbf{0}}\n",
    "\\newcommand{\\1}{\\mathbf{1}}\n",
    "\\newcommand{\\A}{\\mathbf{A}}\n",
    "\\newcommand{\\B}{\\mathbf{B}}\n",
    "\\newcommand{\\C}{\\mathbf{C}}\n",
    "\\newcommand{\\E}{\\mathbf{E}}\n",
    "\\newcommand{\\P}{\\mathbf{P}}$$"
   ]
  },
  {
   "cell_type": "markdown",
   "id": "3676f3f4-9c63-4e92-93b6-5a381dbef1a9",
   "metadata": {},
   "source": []
  },
  {
   "cell_type": "markdown",
   "id": "552a9dd8-0820-4004-bc65-3f1fd5493f50",
   "metadata": {},
   "source": []
  },
  {
   "cell_type": "markdown",
   "id": "efd6a1f5-be6e-4cc5-a906-7f1cf3944ba0",
   "metadata": {},
   "source": []
  },
  {
   "cell_type": "markdown",
   "id": "c1347ef8-4560-4837-b603-46e09830485e",
   "metadata": {},
   "source": []
  },
  {
   "cell_type": "markdown",
   "id": "8308f1fc-6a1a-4d79-818e-871e5775d75d",
   "metadata": {},
   "source": []
  },
  {
   "cell_type": "markdown",
   "id": "f97db861-a166-4377-9620-9688d43e0acd",
   "metadata": {},
   "source": []
  },
  {
   "cell_type": "markdown",
   "id": "4a10a013-6155-4bc0-9f02-9e8b38886b69",
   "metadata": {},
   "source": []
  },
  {
   "cell_type": "markdown",
   "id": "5c6887ce-0d2b-44cb-8cf4-2090b4b3e9d0",
   "metadata": {},
   "source": []
  },
  {
   "cell_type": "markdown",
   "id": "29bc825d-3461-4f2c-b6f0-428ca44e1b10",
   "metadata": {},
   "source": []
  },
  {
   "cell_type": "markdown",
   "id": "c46452f2-bfa8-4065-8625-ad1c8b14842c",
   "metadata": {},
   "source": []
  },
  {
   "cell_type": "markdown",
   "id": "957604a2-a0b0-4b4c-aa52-43e40e5c5b50",
   "metadata": {},
   "source": []
  },
  {
   "cell_type": "markdown",
   "id": "79a2eba1-0e8d-4cbe-9113-c231eedad1a1",
   "metadata": {},
   "source": []
  },
  {
   "cell_type": "markdown",
   "id": "4a149514-8926-4a46-987b-830b89125d28",
   "metadata": {},
   "source": []
  },
  {
   "cell_type": "markdown",
   "id": "f2cd3fbe-bd88-463b-9650-f3efd2c769fa",
   "metadata": {},
   "source": []
  },
  {
   "cell_type": "markdown",
   "id": "e94b592e-2108-4bc0-8020-f32b614f130e",
   "metadata": {},
   "source": []
  },
  {
   "cell_type": "markdown",
   "id": "5701d637-65fa-4f74-ab7e-f3e8af0d631f",
   "metadata": {},
   "source": []
  },
  {
   "cell_type": "markdown",
   "id": "6279647b-8baa-48b1-a6eb-274acb13cd67",
   "metadata": {},
   "source": []
  },
  {
   "cell_type": "markdown",
   "id": "9b68df82-834f-420f-9dee-b2672821723f",
   "metadata": {},
   "source": []
  },
  {
   "cell_type": "markdown",
   "id": "c7af368f-ca5c-4658-8e94-213e7da755e4",
   "metadata": {},
   "source": []
  },
  {
   "cell_type": "markdown",
   "id": "f56e3de2-73de-4d9e-9904-14549fbfc21e",
   "metadata": {},
   "source": []
  },
  {
   "cell_type": "markdown",
   "id": "9ae98f8a-c556-4c6f-8a14-4be3f543a811",
   "metadata": {},
   "source": []
  },
  {
   "cell_type": "markdown",
   "id": "ae23814c-2a1a-4e70-9e10-57c4d1b5de9a",
   "metadata": {},
   "source": []
  },
  {
   "cell_type": "markdown",
   "id": "b75fb65c-5cd4-4e59-a0fa-d9075c74cdbf",
   "metadata": {},
   "source": []
  },
  {
   "cell_type": "markdown",
   "id": "4ff600b6-90c8-4e30-8444-1a278d7bb275",
   "metadata": {},
   "source": []
  },
  {
   "cell_type": "markdown",
   "id": "0df36951-2baf-435a-824e-049abc842e9d",
   "metadata": {},
   "source": []
  },
  {
   "cell_type": "markdown",
   "id": "373d60d2-c17b-4be4-8802-1555b8006df8",
   "metadata": {},
   "source": []
  },
  {
   "cell_type": "markdown",
   "id": "e7d306f5-0cc8-4ad5-b477-81e1eb49420a",
   "metadata": {},
   "source": []
  },
  {
   "cell_type": "markdown",
   "id": "b7700661-f8e8-40b2-b9a1-0f5ce421ea25",
   "metadata": {},
   "source": []
  },
  {
   "cell_type": "markdown",
   "id": "a3e13746-38e2-42c8-aec7-f7062e8dfecb",
   "metadata": {},
   "source": []
  },
  {
   "cell_type": "markdown",
   "id": "ebe60556-48e7-4912-876d-3c12421cde3e",
   "metadata": {},
   "source": []
  },
  {
   "cell_type": "markdown",
   "id": "9d02e790-968b-4e2e-a625-5e01921c18de",
   "metadata": {},
   "source": []
  },
  {
   "cell_type": "markdown",
   "id": "51110ffe-6a8a-4437-abd9-96a89fcadd5a",
   "metadata": {},
   "source": []
  },
  {
   "cell_type": "markdown",
   "id": "572fb280-c663-41df-a7c7-71e37ae4b1fb",
   "metadata": {},
   "source": []
  },
  {
   "cell_type": "markdown",
   "id": "228cfe5f-ed70-4021-8889-fb73e44db146",
   "metadata": {},
   "source": []
  },
  {
   "cell_type": "markdown",
   "id": "62fbc51f-c3ba-4d2c-a1b9-446494be3eba",
   "metadata": {},
   "source": []
  },
  {
   "cell_type": "markdown",
   "id": "33a2a40d-6aed-4459-a50d-8c5e166a9729",
   "metadata": {},
   "source": []
  },
  {
   "cell_type": "markdown",
   "id": "61c111d1-e4f2-468d-9462-c1b25bec0878",
   "metadata": {},
   "source": []
  },
  {
   "cell_type": "markdown",
   "id": "112ff07f-6262-48fd-af92-3a68470d364b",
   "metadata": {},
   "source": []
  }
 ],
 "metadata": {
  "colab": {
   "collapsed_sections": [],
   "name": "04_linear_algebra_vector_spaces_vector_span.ipynb",
   "provenance": []
  },
  "kernelspec": {
   "display_name": "Python 3 (ipykernel)",
   "language": "python",
   "name": "python3"
  },
  "language_info": {
   "codemirror_mode": {
    "name": "ipython",
    "version": 3
   },
   "file_extension": ".py",
   "mimetype": "text/x-python",
   "name": "python",
   "nbconvert_exporter": "python",
   "pygments_lexer": "ipython3",
   "version": "3.9.10"
  }
 },
 "nbformat": 4,
 "nbformat_minor": 5
}
